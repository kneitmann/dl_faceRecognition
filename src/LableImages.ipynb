{
 "cells": [
  {
   "cell_type": "code",
   "execution_count": 1,
   "metadata": {},
   "outputs": [
    {
     "ename": "ModuleNotFoundError",
     "evalue": "No module named 'LoadPicture'",
     "output_type": "error",
     "traceback": [
      "\u001b[1;31m---------------------------------------------------------------------------\u001b[0m",
      "\u001b[1;31mModuleNotFoundError\u001b[0m                       Traceback (most recent call last)",
      "\u001b[1;32mf:\\ComputerVisionCode\\dl_faceRecognition\\src\\LableImages.ipynb Zelle 1\u001b[0m in \u001b[0;36m<cell line: 3>\u001b[1;34m()\u001b[0m\n\u001b[0;32m      <a href='vscode-notebook-cell:/f%3A/ComputerVisionCode/dl_faceRecognition/src/LableImages.ipynb#W0sZmlsZQ%3D%3D?line=0'>1</a>\u001b[0m \u001b[39mimport\u001b[39;00m \u001b[39mos\u001b[39;00m\n\u001b[0;32m      <a href='vscode-notebook-cell:/f%3A/ComputerVisionCode/dl_faceRecognition/src/LableImages.ipynb#W0sZmlsZQ%3D%3D?line=1'>2</a>\u001b[0m \u001b[39mimport\u001b[39;00m \u001b[39mglob\u001b[39;00m\n\u001b[1;32m----> <a href='vscode-notebook-cell:/f%3A/ComputerVisionCode/dl_faceRecognition/src/LableImages.ipynb#W0sZmlsZQ%3D%3D?line=2'>3</a>\u001b[0m \u001b[39mfrom\u001b[39;00m \u001b[39mLoadPicture\u001b[39;00m \u001b[39mimport\u001b[39;00m generatePath_function\n",
      "\u001b[1;31mModuleNotFoundError\u001b[0m: No module named 'LoadPicture'"
     ]
    }
   ],
   "source": [
    "import os\n",
    "import glob\n",
    "from LoadPicture import generatePath_function"
   ]
  },
  {
   "cell_type": "markdown",
   "metadata": {},
   "source": [
    "Change image lables in a folder.\n",
    "The path is generated dynamically and the images are copied back to their old path. Otherwise, they are placed in the \"src\" folder.\n",
    "The counter is needed for different names of the image files."
   ]
  },
  {
   "cell_type": "code",
   "execution_count": null,
   "metadata": {},
   "outputs": [],
   "source": [
    "def changeLableImage(pathEnding, newLable, dataType):\n",
    "    imageTrainingFaces_list = []\n",
    "    counter = 0\n",
    "    for file in glob.glob(generatePath_function() + pathEnding + '*.' + dataType):\n",
    "        counter += 1\n",
    "        os.rename(file, generatePath_function() + pathEnding + newLable + str(counter) + '.png')"
   ]
  },
  {
   "cell_type": "markdown",
   "metadata": {},
   "source": [
    "Exact path for the images"
   ]
  },
  {
   "cell_type": "code",
   "execution_count": null,
   "metadata": {},
   "outputs": [],
   "source": [
    "def lableImageTestWithMask_function():\n",
    "    return changeLableImage('data/test/FaceMaskTest/WithMask/', 'testWithMask', 'png')\n",
    "\n",
    "def lableImageTestWithoutMask_function():\n",
    "    return changeLableImage('data/test/FaceMaskTest/WithoutMask/', 'testWithoutMask', 'png')\n",
    "\n",
    "def lableImageValidationWithMask_function():\n",
    "    return changeLableImage('data/validation/FaceMaskValidation/WithMask/', 'validationWithMask', 'png')\n",
    "\n",
    "def lableImageValidationWithoutMask_function():\n",
    "    return changeLableImage('data/validation/FaceMaskValidation/WithoutMask/', 'validationWithoutMask', 'png')\n",
    "\n",
    "def lableImageTrainingWithMask_function():\n",
    "    return changeLableImage('data/training/FaceMaskTrain/WithMask/', 'trainingWithMask', 'png')\n",
    "\n",
    "def lableImageTrainingWithoutMask_function():\n",
    "    return changeLableImage('data/training/FaceMaskTrain/WithoutMask/', 'trainingWithoutMask', 'png')\n",
    "\n",
    "def lableImageTrainingFaces_function():\n",
    "    return changeLableImage('data/training/FaceOnly/', 'trainingFace', 'jpg')"
   ]
  },
  {
   "cell_type": "markdown",
   "metadata": {},
   "source": [
    "Prepare for some computation time. Over 200.000 Images takes over 2 minutes with a high performance pc."
   ]
  },
  {
   "cell_type": "code",
   "execution_count": null,
   "metadata": {},
   "outputs": [],
   "source": [
    "lableImageTestWithMask_function()\n",
    "lableImageTestWithoutMask_function()\n",
    "lableImageValidationWithMask_function()\n",
    "lableImageValidationWithoutMask_function()\n",
    "lableImageTrainingWithMask_function()\n",
    "lableImageTrainingWithoutMask_function()\n",
    "lableImageTrainingFaces_function()"
   ]
  }
 ],
 "metadata": {
  "kernelspec": {
   "display_name": "Python 3.9.13 ('tensorflow_env')",
   "language": "python",
   "name": "python3"
  },
  "language_info": {
   "codemirror_mode": {
    "name": "ipython",
    "version": 3
   },
   "file_extension": ".py",
   "mimetype": "text/x-python",
   "name": "python",
   "nbconvert_exporter": "python",
   "pygments_lexer": "ipython3",
   "version": "3.9.13"
  },
  "orig_nbformat": 4,
  "vscode": {
   "interpreter": {
    "hash": "9db27a884dcbb88570b399c40aec4b1067ba94a1c848619f750f7494e6f7e360"
   }
  }
 },
 "nbformat": 4,
 "nbformat_minor": 2
}
