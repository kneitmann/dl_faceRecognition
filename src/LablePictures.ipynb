{
 "cells": [
  {
   "cell_type": "code",
   "execution_count": 1,
   "metadata": {},
   "outputs": [
    {
     "ename": "ModuleNotFoundError",
     "evalue": "No module named 'LoadPicture'",
     "output_type": "error",
     "traceback": [
      "\u001b[1;31m---------------------------------------------------------------------------\u001b[0m",
      "\u001b[1;31mModuleNotFoundError\u001b[0m                       Traceback (most recent call last)",
      "\u001b[1;32mf:\\ComputerVisionCode\\dl_faceRecognition\\src\\LableLoadedPictures.ipynb Zelle 1\u001b[0m in \u001b[0;36m<cell line: 4>\u001b[1;34m()\u001b[0m\n\u001b[0;32m      <a href='vscode-notebook-cell:/f%3A/ComputerVisionCode/dl_faceRecognition/src/LableLoadedPictures.ipynb#W0sZmlsZQ%3D%3D?line=1'>2</a>\u001b[0m \u001b[39mfrom\u001b[39;00m \u001b[39mPIL\u001b[39;00m \u001b[39mimport\u001b[39;00m Image\n\u001b[0;32m      <a href='vscode-notebook-cell:/f%3A/ComputerVisionCode/dl_faceRecognition/src/LableLoadedPictures.ipynb#W0sZmlsZQ%3D%3D?line=2'>3</a>\u001b[0m \u001b[39mimport\u001b[39;00m \u001b[39mglob\u001b[39;00m\n\u001b[1;32m----> <a href='vscode-notebook-cell:/f%3A/ComputerVisionCode/dl_faceRecognition/src/LableLoadedPictures.ipynb#W0sZmlsZQ%3D%3D?line=3'>4</a>\u001b[0m \u001b[39mfrom\u001b[39;00m \u001b[39mLoadPicture\u001b[39;00m \u001b[39mimport\u001b[39;00m generatePath_function\n",
      "\u001b[1;31mModuleNotFoundError\u001b[0m: No module named 'LoadPicture'"
     ]
    }
   ],
   "source": [
    "import os\n",
    "from PIL import Image\n",
    "import glob\n",
    "from LoadPicture import generatePath_function"
   ]
  },
  {
   "cell_type": "markdown",
   "metadata": {},
   "source": [
    "Change image lables in a folder"
   ]
  },
  {
   "cell_type": "code",
   "execution_count": null,
   "metadata": {},
   "outputs": [],
   "source": [
    "def changeLableImage(pathEnding, newLable):\n",
    "    imageTrainingFaces_list = []\n",
    "    counter = 0\n",
    "    for file in glob.glob(generatePath_function() + pathEnding):\n",
    "        counter += 1\n",
    "        os.rename(file, newLable + counter)"
   ]
  },
  {
   "cell_type": "markdown",
   "metadata": {},
   "source": [
    "Exact path for the images"
   ]
  },
  {
   "cell_type": "code",
   "execution_count": null,
   "metadata": {},
   "outputs": [],
   "source": [
    "def lableImageTestWithMask_function():\n",
    "    return changeLableImage('data/test/FaceMaskTest/WithMask/*.png', 'testWithMask')\n",
    "\n",
    "def lableIImageTestWithoutMask_function():\n",
    "    return changeLableImage('data/test/FaceMaskTest/WithoutMask/*.png', 'testWithoutMask')\n",
    "\n",
    "def lableIImageValidationWithMask_function():\n",
    "    return changeLableImage('data/validation/FaceMaskValidation/WithMask/*.png', 'validationWithMask')\n",
    "\n",
    "def lableIImageValidationWithoutMask_function():\n",
    "    return changeLableImage('data/validation/FaceMaskValidation/WithoutMask/*.png', 'validationWithoutMask')\n",
    "\n",
    "def lableIImageTrainingWithMask_function():\n",
    "    return changeLableImage('data/training/FaceMaskTrain/WithMask/*.png', 'trainingWithMask')\n",
    "\n",
    "def lableIImageTrainingWithoutMask_function():\n",
    "    return changeLableImage('data/training/FaceMaskTrain/WithoutMask/*.png', 'trainingWithoutMask')\n",
    "\n",
    "def lableIImageTrainingFaces_function():\n",
    "    return changeLableImage('data/training/FaceOnly/*.jpg', 'trainingFace')"
   ]
  }
 ],
 "metadata": {
  "kernelspec": {
   "display_name": "Python 3.9.13 ('tensorflow_env')",
   "language": "python",
   "name": "python3"
  },
  "language_info": {
   "codemirror_mode": {
    "name": "ipython",
    "version": 3
   },
   "file_extension": ".py",
   "mimetype": "text/x-python",
   "name": "python",
   "nbconvert_exporter": "python",
   "pygments_lexer": "ipython3",
   "version": "3.9.13"
  },
  "orig_nbformat": 4,
  "vscode": {
   "interpreter": {
    "hash": "9db27a884dcbb88570b399c40aec4b1067ba94a1c848619f750f7494e6f7e360"
   }
  }
 },
 "nbformat": 4,
 "nbformat_minor": 2
}
