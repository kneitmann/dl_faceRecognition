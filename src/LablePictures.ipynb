{
 "cells": [
  {
   "cell_type": "code",
   "execution_count": 48,
   "metadata": {},
   "outputs": [],
   "source": [
    "import os\n",
    "import glob\n",
    "#import sys\n",
    "#sys.path.insert(1, 'F:\\ComputerVisionCode\\dl_faceRecognition\\src')\n",
    "#sys.path.append('..')\n",
    "#from LoadPicture import generatePath_function"
   ]
  },
  {
   "cell_type": "markdown",
   "metadata": {},
   "source": [
    "The generatePath_function() must be imported from LoadPictures, but for tests its currently in this file too."
   ]
  },
  {
   "cell_type": "code",
   "execution_count": null,
   "metadata": {},
   "outputs": [],
   "source": [
    "def generatePath_function():\n",
    "    pathStringCurrent = os.getcwd()\n",
    "    pathStringList = pathStringCurrent.split(\"\\\\\")\n",
    "    pathStringList = pathStringList[:-1]\n",
    "    pathStringImport = \"\"\n",
    "    for pathPart in pathStringList:\n",
    "        pathStringImport += pathPart + \"/\"\n",
    "    return pathStringImport"
   ]
  },
  {
   "cell_type": "markdown",
   "metadata": {},
   "source": [
    "Change image lables in a folder.\n",
    "The path is generated dynamically and the images are copied back to their old path. Otherwise, they are placed in the \"src\" folder.\n",
    "The counter is needed for different names of the image files."
   ]
  },
  {
   "cell_type": "code",
   "execution_count": 49,
   "metadata": {},
   "outputs": [],
   "source": [
    "def changeLableImage(pathEnding, newLable, dataType):\n",
    "    imageTrainingFaces_list = []\n",
    "    counter = 0\n",
    "    for file in glob.glob(generatePath_function() + pathEnding + '*.' + dataType):\n",
    "        counter += 1\n",
    "        os.rename(file, generatePath_function() + pathEnding + newLable + str(counter) + '.png')"
   ]
  },
  {
   "cell_type": "markdown",
   "metadata": {},
   "source": [
    "Exact path for the images"
   ]
  },
  {
   "cell_type": "code",
   "execution_count": 50,
   "metadata": {},
   "outputs": [],
   "source": [
    "def lableImageTestWithMask_function():\n",
    "    return changeLableImage('data/test/FaceMaskTest/WithMask/', 'testWithMask', 'png')\n",
    "\n",
    "def lableImageTestWithoutMask_function():\n",
    "    return changeLableImage('data/test/FaceMaskTest/WithoutMask/', 'testWithoutMask', 'png')\n",
    "\n",
    "def lableImageValidationWithMask_function():\n",
    "    return changeLableImage('data/validation/FaceMaskValidation/WithMask/', 'validationWithMask', 'png')\n",
    "\n",
    "def lableImageValidationWithoutMask_function():\n",
    "    return changeLableImage('data/validation/FaceMaskValidation/WithoutMask/', 'validationWithoutMask', 'png')\n",
    "\n",
    "def lableImageTrainingWithMask_function():\n",
    "    return changeLableImage('data/training/FaceMaskTrain/WithMask/', 'trainingWithMask', 'png')\n",
    "\n",
    "def lableImageTrainingWithoutMask_function():\n",
    "    return changeLableImage('data/training/FaceMaskTrain/WithoutMask/', 'trainingWithoutMask', 'png')\n",
    "\n",
    "def lableImageTrainingFaces_function():\n",
    "    return changeLableImage('data/training/FaceOnly/', 'trainingFace', 'jpg')"
   ]
  },
  {
   "cell_type": "code",
   "execution_count": 51,
   "metadata": {},
   "outputs": [],
   "source": [
    "lableImageTestWithMask_function()\n",
    "lableImageTestWithoutMask_function()\n",
    "lableImageValidationWithMask_function()\n",
    "lableImageValidationWithoutMask_function()\n",
    "lableImageTrainingWithMask_function()\n",
    "lableImageTrainingWithoutMask_function()\n",
    "#Prepare, the last need over 2 minutes with a high performance pc.\n",
    "lableImageTrainingFaces_function()"
   ]
  }
 ],
 "metadata": {
  "kernelspec": {
   "display_name": "Python 3.9.13 ('tensorflow_env')",
   "language": "python",
   "name": "python3"
  },
  "language_info": {
   "codemirror_mode": {
    "name": "ipython",
    "version": 3
   },
   "file_extension": ".py",
   "mimetype": "text/x-python",
   "name": "python",
   "nbconvert_exporter": "python",
   "pygments_lexer": "ipython3",
   "version": "3.9.13"
  },
  "orig_nbformat": 4,
  "vscode": {
   "interpreter": {
    "hash": "9db27a884dcbb88570b399c40aec4b1067ba94a1c848619f750f7494e6f7e360"
   }
  }
 },
 "nbformat": 4,
 "nbformat_minor": 2
}
