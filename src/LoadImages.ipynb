{
 "cells": [
  {
   "cell_type": "markdown",
   "metadata": {},
   "source": [
    "Imports for picture models"
   ]
  },
  {
   "cell_type": "code",
   "execution_count": 9,
   "metadata": {},
   "outputs": [],
   "source": [
    "import os\n",
    "from PIL import Image\n",
    "import glob"
   ]
  },
  {
   "cell_type": "markdown",
   "metadata": {},
   "source": [
    "Insert each image from the folder into a list to return them."
   ]
  },
  {
   "cell_type": "code",
   "execution_count": 10,
   "metadata": {},
   "outputs": [],
   "source": [
    "def loadImage(pathEnding):\n",
    "    imageTrainingFaces_list = []\n",
    "    for file in glob.glob('../' + pathEnding):\n",
    "        im=Image.open(file)\n",
    "        imageTrainingFaces_list.append(im)\n",
    "        im.close()\n",
    "    return imageTrainingFaces_list"
   ]
  },
  {
   "cell_type": "markdown",
   "metadata": {},
   "source": [
    "Load every picture with the exact path."
   ]
  },
  {
   "cell_type": "code",
   "execution_count": 11,
   "metadata": {},
   "outputs": [],
   "source": [
    "def loadImageTestWithMask_function():\n",
    "    return loadImage('data/test/FaceMaskTest/WithMask/*.png')\n",
    "\n",
    "def loadImageTestWithoutMask_function():\n",
    "    return loadImage('data/test/FaceMaskTest/WithoutMask/*.png')\n",
    "\n",
    "def loadImageValidationWithMask_function():\n",
    "    return loadImage('data/validation/FaceMaskValidation/WithMask/*.png')\n",
    "\n",
    "def loadImageValidationWithoutMask_function():\n",
    "    return loadImage('data/validation/FaceMaskValidation/WithoutMask/*.png')\n",
    "\n",
    "def loadImageTrainingWithMask_function():\n",
    "    return loadImage('data/training/FaceMaskTrain/WithMask/*.png')\n",
    "\n",
    "def loadImageTrainingWithoutMask_function():\n",
    "    return loadImage('data/training/FaceMaskTrain/WithoutMask/*.png')\n",
    "\n",
    "# Between 1.5 and 3 minutes with a geforce gtx 1080 and a intel core i7-7700K\n",
    "def loadImageTrainingFaces_function():\n",
    "    return loadImage('data/training/FaceOnly/*.jpg')"
   ]
  }
 ],
 "metadata": {
  "kernelspec": {
   "display_name": "Python 3.9.13 ('tensorflow_env')",
   "language": "python",
   "name": "python3"
  },
  "language_info": {
   "codemirror_mode": {
    "name": "ipython",
    "version": 3
   },
   "file_extension": ".py",
   "mimetype": "text/x-python",
   "name": "python",
   "nbconvert_exporter": "python",
   "pygments_lexer": "ipython3",
   "version": "3.9.13"
  },
  "orig_nbformat": 4,
  "vscode": {
   "interpreter": {
    "hash": "9db27a884dcbb88570b399c40aec4b1067ba94a1c848619f750f7494e6f7e360"
   }
  }
 },
 "nbformat": 4,
 "nbformat_minor": 2
}
