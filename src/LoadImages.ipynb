{
 "cells": [
  {
   "cell_type": "markdown",
   "metadata": {},
   "source": [
    "Imports for picture models"
   ]
  },
  {
   "cell_type": "code",
   "execution_count": 11,
   "metadata": {},
   "outputs": [],
   "source": [
    "import os\n",
    "from PIL import Image\n",
    "import glob"
   ]
  },
  {
   "cell_type": "markdown",
   "metadata": {},
   "source": [
    "Generate Path for the current directory.\n",
    "Use os.getcwd(), split and pathStringList[:-1] to get the project folder. Because otherwise the \"src\" folder is selected and the \"data\" folder is not accessible.\n",
    "Then the path that was split by the \"split\" is reassembled and returnd."
   ]
  },
  {
   "cell_type": "code",
   "execution_count": 12,
   "metadata": {},
   "outputs": [],
   "source": [
    "def generatePath_function():\n",
    "    pathStringCurrent = os.getcwd()\n",
    "    pathStringList = pathStringCurrent.split(\"\\\\\")\n",
    "    pathStringList = pathStringList[:-1]\n",
    "    pathStringImport = \"\"\n",
    "    for pathPart in pathStringList:\n",
    "        pathStringImport += pathPart + \"/\"\n",
    "    return pathStringImport"
   ]
  },
  {
   "cell_type": "markdown",
   "metadata": {},
   "source": [
    "Insert each image from the folder into a list to return them.\n",
    "\"too many pictures error\" appers with over 5.000 images. Currently no solution found."
   ]
  },
  {
   "cell_type": "code",
   "execution_count": 13,
   "metadata": {},
   "outputs": [],
   "source": [
    "def loadImage(pathEnding):\n",
    "    imageTrainingFaces_list = []\n",
    "    for file in glob.glob(generatePath_function() + pathEnding):\n",
    "        im=Image.open(file)\n",
    "        imageTrainingFaces_list.append(im)\n",
    "        im.close\n",
    "    return imageTrainingFaces_list"
   ]
  },
  {
   "cell_type": "markdown",
   "metadata": {},
   "source": [
    "Load every picture with the exact path."
   ]
  },
  {
   "cell_type": "code",
   "execution_count": 14,
   "metadata": {},
   "outputs": [],
   "source": [
    "def loadImageTestWithMask_function():\n",
    "    return loadImage('data/test/FaceMaskTest/WithMask/*.png')\n",
    "\n",
    "def loadImageTestWithoutMask_function():\n",
    "    return loadImage('data/test/FaceMaskTest/WithoutMask/*.png')\n",
    "\n",
    "def loadImageValidationWithMask_function():\n",
    "    return loadImage('data/validation/FaceMaskValidation/WithMask/*.png')\n",
    "\n",
    "def loadImageValidationWithoutMask_function():\n",
    "    return loadImage('data/validation/FaceMaskValidation/WithoutMask/*.png')\n",
    "\n",
    "def loadImageTrainingWithMask_function():\n",
    "    return loadImage('data/training/FaceMaskTrain/WithMask/*.png')\n",
    "\n",
    "def loadImageTrainingWithoutMask_function():\n",
    "    return loadImage('data/training/FaceMaskTrain/WithoutMask/*.png')\n",
    "\n",
    "def loadImageTrainingFaces_function():\n",
    "    return loadImage('data/training/FaceOnly/img_align_celeba/img_align_celeba/*.jpg')"
   ]
  }
 ],
 "metadata": {
  "kernelspec": {
   "display_name": "Python 3.10.6 ('dl_faceRecognition')",
   "language": "python",
   "name": "python3"
  },
  "language_info": {
   "codemirror_mode": {
    "name": "ipython",
    "version": 3
   },
   "file_extension": ".py",
   "mimetype": "text/x-python",
   "name": "python",
   "nbconvert_exporter": "python",
   "pygments_lexer": "ipython3",
   "version": "3.10.6"
  },
  "orig_nbformat": 4,
  "vscode": {
   "interpreter": {
    "hash": "38bbd1b45095e1136595347f4fdc5f02eeae8a25a242cddf0296b5f64b31b328"
   }
  }
 },
 "nbformat": 4,
 "nbformat_minor": 2
}
