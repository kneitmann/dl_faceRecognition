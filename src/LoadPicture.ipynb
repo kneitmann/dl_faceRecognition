{
 "cells": [
  {
   "cell_type": "markdown",
   "metadata": {},
   "source": [
    "Imports for picture models"
   ]
  },
  {
   "cell_type": "code",
   "execution_count": null,
   "metadata": {},
   "outputs": [],
   "source": [
    "import os\n",
    "from PIL import Image\n",
    "import glob"
   ]
  },
  {
   "cell_type": "markdown",
   "metadata": {},
   "source": [
    "Generate Path for the current directory"
   ]
  },
  {
   "cell_type": "code",
   "execution_count": null,
   "metadata": {},
   "outputs": [],
   "source": [
    "def generatePath_function():\n",
    "    pathStringCurrent = os.getcwd()\n",
    "    pathStringList = pathStringCurrent.split(\"\\\\\")\n",
    "    pathStringList = pathStringList[:-1]\n",
    "    pathStringImport = \"\"\n",
    "    for pathPart in pathStringList:\n",
    "        pathStringImport += pathPart + \"/\"\n",
    "    return pathStringImport"
   ]
  },
  {
   "cell_type": "markdown",
   "metadata": {},
   "source": [
    "Put every Picture from the folter into a list. Every function for a different data set."
   ]
  },
  {
   "cell_type": "code",
   "execution_count": null,
   "metadata": {},
   "outputs": [],
   "source": [
    "def loadImageTestWithMask_function():\n",
    "    imageTestWithMask_list = []\n",
    "    for file in glob.glob(generatePath_function() + 'data/test/FaceMaskTest/WithMask/*.png'):\n",
    "        im=Image.open(file)\n",
    "        imageTestWithMask_list.append(im)\n",
    "    return imageTestWithMask_list\n",
    "\n",
    "def loadImageTestWithoutMask_function():\n",
    "    imageTestWithoutMask_list = []\n",
    "    for file in glob.glob(generatePath_function() + 'data/test/FaceMaskTest/WithoutMask/*.png'):\n",
    "        im=Image.open(file)\n",
    "        imageTestWithoutMask_list.append(im)\n",
    "    return imageTestWithoutMask_list\n",
    "\n",
    "def loadImageValidationWithMask_function():\n",
    "    imageValidationWithMask_list = []\n",
    "    for file in glob.glob(generatePath_function() + 'data/validation/FaceMaskValidation/WithMask/*.png'):\n",
    "        im=Image.open(file)\n",
    "        imageValidationWithMask_list.append(im)\n",
    "    return imageValidationWithMask_list\n",
    "\n",
    "def loadImageValidationWithoutMask_function():\n",
    "    imageValidationWithoutMask_list = []\n",
    "    for file in glob.glob(generatePath_function() + 'data/validation/FaceMaskValidation/WithoutMask/*.png'):\n",
    "        im=Image.open(file)\n",
    "        imageValidationWithoutMask_list.append(im)\n",
    "    return imageValidationWithoutMask_list\n",
    "\n",
    "def loadImageTrainingWithMask_function():\n",
    "    imageTrainingWithMask_list = []\n",
    "    for file in glob.glob(generatePath_function() + 'data/training/FaceMaskTrain/WithMask/*.png'):\n",
    "        im=Image.open(file)\n",
    "        imageTrainingWithMask_list.append(im)\n",
    "    return imageTrainingWithMask_list\n",
    "\n",
    "def loadImageTrainingWithoutMask_function():\n",
    "    imageTrainingWithoutMask_list = []\n",
    "    for file in glob.glob(generatePath_function() + 'data/training/FaceMaskTrain/WithoutMask/*.png'):\n",
    "        im=Image.open(file)\n",
    "        imageTrainingWithoutMask_list.append(im)\n",
    "    return imageTrainingWithoutMask_list\n",
    "\n",
    "def loadImageTrainingFaces_function():\n",
    "    imageTrainingFaces_list = []\n",
    "    for file in glob.glob(generatePath_function() + 'data/training/FaceOnly/*.jpg'):\n",
    "        im=Image.open(file)\n",
    "        imageTrainingFaces_list.append(im)\n",
    "    return imageTrainingFaces_list"
   ]
  },
  {
   "cell_type": "markdown",
   "metadata": {},
   "source": [
    "Print all images as test"
   ]
  },
  {
   "cell_type": "code",
   "execution_count": null,
   "metadata": {},
   "outputs": [],
   "source": [
    "for picture in loadImageTrainingFaces_function():\n",
    "    print(\"hi\")\n",
    "    display(picture)"
   ]
  }
 ],
 "metadata": {
  "kernelspec": {
   "display_name": "Python 3.9.13 ('tensorflow_env')",
   "language": "python",
   "name": "python3"
  },
  "language_info": {
   "codemirror_mode": {
    "name": "ipython",
    "version": 3
   },
   "file_extension": ".py",
   "mimetype": "text/x-python",
   "name": "python",
   "nbconvert_exporter": "python",
   "pygments_lexer": "ipython3",
   "version": "3.9.13"
  },
  "orig_nbformat": 4,
  "vscode": {
   "interpreter": {
    "hash": "9db27a884dcbb88570b399c40aec4b1067ba94a1c848619f750f7494e6f7e360"
   }
  }
 },
 "nbformat": 4,
 "nbformat_minor": 2
}
