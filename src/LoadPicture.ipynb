{
 "cells": [
  {
   "cell_type": "markdown",
   "metadata": {},
   "source": [
    "Imports for picture models"
   ]
  },
  {
   "cell_type": "code",
   "execution_count": null,
   "metadata": {},
   "outputs": [],
   "source": [
    "import os\n",
    "from PIL import Image\n",
    "import glob"
   ]
  },
  {
   "cell_type": "markdown",
   "metadata": {},
   "source": [
    "Generate Path for the current directory"
   ]
  },
  {
   "cell_type": "code",
   "execution_count": null,
   "metadata": {},
   "outputs": [],
   "source": [
    "def generatePath_function():\n",
    "    pathStringCurrent = os.getcwd()\n",
    "    pathStringList = pathStringCurrent.split(\"\\\\\")\n",
    "    pathStringList = pathStringList[:-1]\n",
    "    pathStringImport = \"\"\n",
    "    for pathPart in pathStringList:\n",
    "        pathStringImport += pathPart + \"/\"\n",
    "    return pathStringImport"
   ]
  },
  {
   "cell_type": "markdown",
   "metadata": {},
   "source": [
    "Put every Picture from the folter into a list."
   ]
  },
  {
   "cell_type": "code",
   "execution_count": null,
   "metadata": {},
   "outputs": [],
   "source": [
    "def loadImage_function():\n",
    "    image_list = []\n",
    "    print(generatePath_function() + 'test/FaceMaskTest/WithMask/*.png')\n",
    "    for filename in glob.glob(generatePath_function() + 'data/test/FaceMaskTest/WithMask/*.png'):\n",
    "        im=Image.open(filename)\n",
    "        image_list.append(im)\n",
    "    return image_list"
   ]
  },
  {
   "cell_type": "markdown",
   "metadata": {},
   "source": [
    "Print all images as test"
   ]
  },
  {
   "cell_type": "code",
   "execution_count": null,
   "metadata": {},
   "outputs": [],
   "source": [
    "for picture in loadImage_function():\n",
    "    print(\"hi\")\n",
    "    display(picture)"
   ]
  }
 ],
 "metadata": {
  "kernelspec": {
   "display_name": "Python 3.9.13 ('tensorflow_env')",
   "language": "python",
   "name": "python3"
  },
  "language_info": {
   "codemirror_mode": {
    "name": "ipython",
    "version": 3
   },
   "file_extension": ".py",
   "mimetype": "text/x-python",
   "name": "python",
   "nbconvert_exporter": "python",
   "pygments_lexer": "ipython3",
   "version": "3.9.13"
  },
  "orig_nbformat": 4,
  "vscode": {
   "interpreter": {
    "hash": "9db27a884dcbb88570b399c40aec4b1067ba94a1c848619f750f7494e6f7e360"
   }
  }
 },
 "nbformat": 4,
 "nbformat_minor": 2
}
