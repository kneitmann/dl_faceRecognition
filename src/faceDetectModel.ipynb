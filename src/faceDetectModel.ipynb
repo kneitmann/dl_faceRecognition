{
 "cells": [
  {
   "cell_type": "code",
   "execution_count": 2,
   "metadata": {},
   "outputs": [],
   "source": [
    "# Tensorflow imports\n",
    "import tensorflow as tf\n",
    "from tensorflow import keras\n",
    "from tensorflow.keras.applications.resnet50 import ResNet50\n",
    "from tensorflow.keras.applications.resnet50 import preprocess_input, decode_predictions"
   ]
  },
  {
   "cell_type": "markdown",
   "metadata": {},
   "source": [
    "## Model parameters"
   ]
  },
  {
   "cell_type": "code",
   "execution_count": 3,
   "metadata": {},
   "outputs": [],
   "source": [
    "model_name = 'faceDetectModel'\n",
    "savedModelPath = '../log/saved_models/faceDetectModel'\n",
    "tb_log_dir = \"../log/tensorboard/faceDetectModel\"\n",
    "cp_filepath = '../log/cps/faceDetectModel/latest_weights.h5'\n",
    "\n",
    "batch_size = 32\n",
    "epochs = 10\n",
    "\n",
    "doDataAugmentation = False\n",
    "useDropout = False\n",
    "dropoutRate = 0.25"
   ]
  },
  {
   "cell_type": "markdown",
   "metadata": {},
   "source": [
    "## Model callbacks"
   ]
  },
  {
   "cell_type": "code",
   "execution_count": 4,
   "metadata": {},
   "outputs": [],
   "source": [
    "callbacks = [\n",
    "    # Checkpoint callback                    \n",
    "    keras.callbacks.ModelCheckpoint(\n",
    "                    filepath=cp_filepath, \n",
    "                    verbose=1, \n",
    "                    save_weights_only=True),\n",
    "\n",
    "    # Tensorboard callback\n",
    "    keras.callbacks.TensorBoard(log_dir=tb_log_dir, histogram_freq=1),\n",
    "\n",
    "    # Early Stopping callback\n",
    "    keras.callbacks.EarlyStopping(\n",
    "                   monitor=\"val_loss\",\n",
    "                    patience=2,\n",
    "                   verbose=1,\n",
    "               )\n",
    "]"
   ]
  },
  {
   "cell_type": "markdown",
   "metadata": {},
   "source": [
    "## Data parameters"
   ]
  },
  {
   "cell_type": "code",
   "execution_count": 5,
   "metadata": {},
   "outputs": [],
   "source": [
    "image_height = 224\n",
    "image_width = 224"
   ]
  },
  {
   "cell_type": "markdown",
   "metadata": {},
   "source": [
    "## Data Augmentation"
   ]
  },
  {
   "cell_type": "code",
   "execution_count": 6,
   "metadata": {},
   "outputs": [],
   "source": [
    "data_augmentation = keras.Sequential(\n",
    "    [\n",
    "        keras.layers.RandomFlip(\"horizontal\"),\n",
    "        keras.layers.RandomRotation(0.1),\n",
    "    ]\n",
    ")"
   ]
  },
  {
   "cell_type": "markdown",
   "metadata": {},
   "source": [
    "## Creating the training dataset"
   ]
  },
  {
   "cell_type": "code",
   "execution_count": 7,
   "metadata": {},
   "outputs": [
    {
     "name": "stdout",
     "output_type": "stream",
     "text": [
      "Found 28312 files belonging to 2 classes.\n",
      "Using 22650 files for training.\n"
     ]
    },
    {
     "data": {
      "text/plain": [
       "<PrefetchDataset element_spec=(TensorSpec(shape=(None, None, 224, 224, 3), dtype=tf.float32, name=None), TensorSpec(shape=(None, None, 1), dtype=tf.float32, name=None))>"
      ]
     },
     "execution_count": 7,
     "metadata": {},
     "output_type": "execute_result"
    }
   ],
   "source": [
    "# https://www.tensorflow.org/api_docs/python/tf/keras/utils/image_dataset_from_directory\n",
    "\n",
    "face_training_ds = keras.utils.image_dataset_from_directory(\n",
    "    \"../data/training/\",\n",
    "    label_mode='binary',\n",
    "    color_mode='rgb',\n",
    "    batch_size=batch_size,\n",
    "    image_size=(image_height, image_width),\n",
    "    shuffle=True,\n",
    "    seed=123,\n",
    "    validation_split=0.2,\n",
    "    subset='training',\n",
    "    interpolation='bilinear',\n",
    "    follow_links=False,\n",
    "    crop_to_aspect_ratio=True,\n",
    ")\n",
    "\n",
    "face_training_ds.cache().batch(batch_size).prefetch(buffer_size=10)"
   ]
  },
  {
   "cell_type": "markdown",
   "metadata": {},
   "source": [
    "## Creating the validation dataset"
   ]
  },
  {
   "cell_type": "code",
   "execution_count": 8,
   "metadata": {},
   "outputs": [
    {
     "name": "stdout",
     "output_type": "stream",
     "text": [
      "Found 28312 files belonging to 2 classes.\n",
      "Using 5662 files for validation.\n"
     ]
    }
   ],
   "source": [
    "validation_ds = keras.utils.image_dataset_from_directory(\n",
    "    \"../data/training/\",\n",
    "    label_mode='binary',\n",
    "    color_mode='rgb',\n",
    "    batch_size=batch_size,\n",
    "    image_size=(image_height, image_width),\n",
    "    shuffle=True,\n",
    "    seed=123,\n",
    "    validation_split=0.2,\n",
    "    subset='validation',\n",
    "    interpolation='bilinear',\n",
    "    follow_links=False,\n",
    "    crop_to_aspect_ratio=True,\n",
    ")"
   ]
  },
  {
   "cell_type": "markdown",
   "metadata": {},
   "source": [
    "## Creating the test dataset"
   ]
  },
  {
   "cell_type": "code",
   "execution_count": 9,
   "metadata": {},
   "outputs": [
    {
     "name": "stdout",
     "output_type": "stream",
     "text": [
      "Found 353 files belonging to 2 classes.\n"
     ]
    },
    {
     "data": {
      "text/plain": [
       "<PrefetchDataset element_spec=(TensorSpec(shape=(None, None, 224, 224, 3), dtype=tf.float32, name=None), TensorSpec(shape=(None, None, 1), dtype=tf.float32, name=None))>"
      ]
     },
     "execution_count": 9,
     "metadata": {},
     "output_type": "execute_result"
    }
   ],
   "source": [
    "test_ds = keras.utils.image_dataset_from_directory(\n",
    "    \"../data/test/\",\n",
    "    label_mode='binary',\n",
    "    color_mode='rgb',\n",
    "    batch_size=batch_size,\n",
    "    image_size=(image_height, image_width),\n",
    "    interpolation='bilinear',\n",
    "    follow_links=False,\n",
    "    crop_to_aspect_ratio=True,\n",
    ")\n",
    "\n",
    "test_ds.cache().batch(batch_size).prefetch(buffer_size=10)"
   ]
  },
  {
   "cell_type": "markdown",
   "metadata": {},
   "source": [
    "## Load the ResNet model"
   ]
  },
  {
   "cell_type": "code",
   "execution_count": 10,
   "metadata": {},
   "outputs": [],
   "source": [
    "# Loading either the ResNet50 architecture model or the previously saved model, and freeze it for transfer learning\n",
    "resnet = ResNet50(\n",
    "                include_top=False,\n",
    "                weights=None,  # No pretrained weights\n",
    "                input_shape=(image_height, image_width, 3)\n",
    "                )"
   ]
  },
  {
   "cell_type": "markdown",
   "metadata": {},
   "source": [
    "## Adding Pooling and Fully Connected Layer for binary classification"
   ]
  },
  {
   "cell_type": "code",
   "execution_count": 11,
   "metadata": {},
   "outputs": [
    {
     "name": "stdout",
     "output_type": "stream",
     "text": [
      "Model: \"model\"\n",
      "_________________________________________________________________\n",
      " Layer (type)                Output Shape              Param #   \n",
      "=================================================================\n",
      " input_2 (InputLayer)        [(None, 224, 224, 3)]     0         \n",
      "                                                                 \n",
      " resnet50 (Functional)       (None, 7, 7, 2048)        23587712  \n",
      "                                                                 \n",
      " flatten (Flatten)           (None, 100352)            0         \n",
      "                                                                 \n",
      " dense (Dense)               (None, 1)                 100353    \n",
      "                                                                 \n",
      "=================================================================\n",
      "Total params: 23,688,065\n",
      "Trainable params: 23,634,945\n",
      "Non-trainable params: 53,120\n",
      "_________________________________________________________________\n"
     ]
    }
   ],
   "source": [
    "inputs = keras.Input(shape=(image_height, image_width, 3))\n",
    "\n",
    "# Data Augmentation on input\n",
    "if(doDataAugmentation):\n",
    "    inputs = data_augmentation(inputs)\n",
    "\n",
    "# Running base model in inference mode\n",
    "x = resnet(inputs, training=False)\n",
    "\n",
    "# Flatten tensor\n",
    "x = keras.layers.Flatten()(x)\n",
    "\n",
    "# Add Dropout layer\n",
    "if(useDropout):\n",
    "    x = keras.layers.Dropout(dropoutRate)(x)\n",
    "\n",
    "# Final layer for binary classification\n",
    "outputs = keras.layers.Dense(1, activation='sigmoid')(x)\n",
    "\n",
    "model = keras.Model(inputs, outputs)\n",
    "\n",
    "model.summary()\n",
    "\n",
    "# Loading latest saved weights into model\n",
    "# if(os.path.isfile(cp_filepath)):\n",
    "#     print('Loading weights...')\n",
    "#     model.load_weights(filepath=cp_filepath)"
   ]
  },
  {
   "cell_type": "markdown",
   "metadata": {},
   "source": [
    "## Training the model with the dataset"
   ]
  },
  {
   "cell_type": "code",
   "execution_count": 12,
   "metadata": {},
   "outputs": [
    {
     "name": "stdout",
     "output_type": "stream",
     "text": [
      "Epoch 1/10\n",
      "708/708 [==============================] - ETA: 0s - loss: 7.3449 - accuracy: 0.8774\n",
      "Epoch 1: saving model to ../log/cps/faceDetectModel\\latest_weights.h5\n",
      "708/708 [==============================] - 3387s 5s/step - loss: 7.3449 - accuracy: 0.8774 - val_loss: 0.1658 - val_accuracy: 0.9389\n",
      "Epoch 2/10\n",
      "708/708 [==============================] - ETA: 0s - loss: 0.1867 - accuracy: 0.9286\n",
      "Epoch 2: saving model to ../log/cps/faceDetectModel\\latest_weights.h5\n",
      "708/708 [==============================] - 3334s 5s/step - loss: 0.1867 - accuracy: 0.9286 - val_loss: 0.1285 - val_accuracy: 0.9502\n",
      "Epoch 3/10\n",
      "708/708 [==============================] - ETA: 0s - loss: 0.1583 - accuracy: 0.9405\n",
      "Epoch 3: saving model to ../log/cps/faceDetectModel\\latest_weights.h5\n",
      "708/708 [==============================] - 3342s 5s/step - loss: 0.1583 - accuracy: 0.9405 - val_loss: 0.1259 - val_accuracy: 0.9558\n",
      "Epoch 4/10\n",
      "708/708 [==============================] - ETA: 0s - loss: 0.1432 - accuracy: 0.9459\n",
      "Epoch 4: saving model to ../log/cps/faceDetectModel\\latest_weights.h5\n",
      "708/708 [==============================] - 3358s 5s/step - loss: 0.1432 - accuracy: 0.9459 - val_loss: 0.1351 - val_accuracy: 0.9484\n",
      "Epoch 5/10\n",
      "708/708 [==============================] - ETA: 0s - loss: 0.1360 - accuracy: 0.9484\n",
      "Epoch 5: saving model to ../log/cps/faceDetectModel\\latest_weights.h5\n",
      "708/708 [==============================] - 3338s 5s/step - loss: 0.1360 - accuracy: 0.9484 - val_loss: 0.1923 - val_accuracy: 0.9278\n",
      "Epoch 6/10\n",
      "708/708 [==============================] - ETA: 0s - loss: 0.1432 - accuracy: 0.9462\n",
      "Epoch 6: saving model to ../log/cps/faceDetectModel\\latest_weights.h5\n",
      "708/708 [==============================] - 3339s 5s/step - loss: 0.1432 - accuracy: 0.9462 - val_loss: 0.1164 - val_accuracy: 0.9560\n",
      "Epoch 7/10\n",
      "708/708 [==============================] - ETA: 0s - loss: 0.1227 - accuracy: 0.9526\n",
      "Epoch 7: saving model to ../log/cps/faceDetectModel\\latest_weights.h5\n",
      "708/708 [==============================] - 3339s 5s/step - loss: 0.1227 - accuracy: 0.9526 - val_loss: 0.1486 - val_accuracy: 0.9449\n",
      "Epoch 8/10\n",
      "708/708 [==============================] - ETA: 0s - loss: 0.1191 - accuracy: 0.9544\n",
      "Epoch 8: saving model to ../log/cps/faceDetectModel\\latest_weights.h5\n",
      "708/708 [==============================] - 3338s 5s/step - loss: 0.1191 - accuracy: 0.9544 - val_loss: 0.1235 - val_accuracy: 0.9543\n",
      "Epoch 9/10\n",
      "708/708 [==============================] - ETA: 0s - loss: 0.1108 - accuracy: 0.9586\n",
      "Epoch 9: saving model to ../log/cps/faceDetectModel\\latest_weights.h5\n",
      "708/708 [==============================] - 3344s 5s/step - loss: 0.1108 - accuracy: 0.9586 - val_loss: 0.3048 - val_accuracy: 0.8949\n",
      "Epoch 10/10\n",
      "708/708 [==============================] - ETA: 0s - loss: 0.1263 - accuracy: 0.9526\n",
      "Epoch 10: saving model to ../log/cps/faceDetectModel\\latest_weights.h5\n",
      "708/708 [==============================] - 3378s 5s/step - loss: 0.1263 - accuracy: 0.9526 - val_loss: 0.1163 - val_accuracy: 0.9555\n"
     ]
    }
   ],
   "source": [
    "model.compile(optimizer=keras.optimizers.Adam(),\n",
    "              loss=keras.losses.BinaryCrossentropy(),\n",
    "              metrics=['accuracy'])\n",
    "history = model.fit(\n",
    "            face_training_ds, \n",
    "            epochs=epochs, \n",
    "            callbacks=callbacks, \n",
    "            validation_data=validation_ds\n",
    "        )"
   ]
  },
  {
   "cell_type": "markdown",
   "metadata": {},
   "source": [
    "## Save the model"
   ]
  },
  {
   "cell_type": "code",
   "execution_count": 13,
   "metadata": {},
   "outputs": [
    {
     "name": "stderr",
     "output_type": "stream",
     "text": [
      "WARNING:absl:Found untraced functions such as _jit_compiled_convolution_op, _jit_compiled_convolution_op, _jit_compiled_convolution_op, _jit_compiled_convolution_op, _jit_compiled_convolution_op while saving (showing 5 of 53). These functions will not be directly callable after loading.\n"
     ]
    },
    {
     "name": "stdout",
     "output_type": "stream",
     "text": [
      "INFO:tensorflow:Assets written to: ../log/saved_models/faceDetectModel\\assets\n"
     ]
    },
    {
     "name": "stderr",
     "output_type": "stream",
     "text": [
      "INFO:tensorflow:Assets written to: ../log/saved_models/faceDetectModel\\assets\n"
     ]
    }
   ],
   "source": [
    "model.save(savedModelPath)"
   ]
  },
  {
   "cell_type": "markdown",
   "metadata": {},
   "source": [
    "## Test model with test dataset"
   ]
  },
  {
   "cell_type": "code",
   "execution_count": 14,
   "metadata": {},
   "outputs": [
    {
     "name": "stdout",
     "output_type": "stream",
     "text": [
      "12/12 [==============================] - 14s 1s/step - loss: 0.2652 - accuracy: 0.9037\n",
      "Loss: 0.2652300000190735; Accuracy: 0.9036827087402344\n"
     ]
    }
   ],
   "source": [
    "results = model.evaluate(test_ds)\n",
    "\n",
    "print(f'Loss: {results[0]}; Accuracy: {results[1]}')"
   ]
  },
  {
   "cell_type": "markdown",
   "metadata": {},
   "source": [
    "## Predict new images"
   ]
  },
  {
   "cell_type": "code",
   "execution_count": 15,
   "metadata": {},
   "outputs": [
    {
     "name": "stdout",
     "output_type": "stream",
     "text": [
      "1/1 [==============================] - 1s 1s/step\n",
      "This image contains no face. (98.58 percent confidence)\n"
     ]
    }
   ],
   "source": [
    "# https://www.tensorflow.org/tutorials/images/classification\n",
    "\n",
    "img = tf.keras.utils.load_img(\n",
    "    '../data/test/NoFace/000001.jpg', target_size=(image_height, image_width)\n",
    ")\n",
    "img_array = tf.keras.utils.img_to_array(img)\n",
    "img_array = tf.expand_dims(img_array, 0) # Create a batch\n",
    "\n",
    "preds = model.predict(img_array)\n",
    "score = preds[0][0]\n",
    "\n",
    "if(score > 0.5):\n",
    "    print(\"This image contains no face. ({:.2f} percent confidence)\".format(100 * score))\n",
    "else:\n",
    "    print(\"This image contains a face. ({:.2f} percent confidence)\".format(100 * (1-score)))"
   ]
  }
 ],
 "metadata": {
  "kernelspec": {
   "display_name": "Python 3.9.13 ('tensorflow_env')",
   "language": "python",
   "name": "python3"
  },
  "language_info": {
   "codemirror_mode": {
    "name": "ipython",
    "version": 3
   },
   "file_extension": ".py",
   "mimetype": "text/x-python",
   "name": "python",
   "nbconvert_exporter": "python",
   "pygments_lexer": "ipython3",
   "version": "3.9.13"
  },
  "orig_nbformat": 4,
  "vscode": {
   "interpreter": {
    "hash": "9db27a884dcbb88570b399c40aec4b1067ba94a1c848619f750f7494e6f7e360"
   }
  }
 },
 "nbformat": 4,
 "nbformat_minor": 2
}
