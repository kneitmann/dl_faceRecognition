{
 "cells": [
  {
   "cell_type": "code",
   "execution_count": 133,
   "metadata": {},
   "outputs": [],
   "source": [
    "import numpy as np\n",
    "import glob\n",
    "import matplotlib.pyplot as plt\n",
    "import datetime\n",
    "import os.path\n",
    "\n",
    "# Tensorflow imports\n",
    "import tensorflow as tf\n",
    "from tensorflow import keras\n",
    "from tensorflow.keras.applications.resnet50 import ResNet50\n",
    "from tensorflow.keras.applications.resnet50 import preprocess_input, decode_predictions"
   ]
  },
  {
   "cell_type": "markdown",
   "metadata": {},
   "source": [
    "## Model parameters"
   ]
  },
  {
   "cell_type": "code",
   "execution_count": 134,
   "metadata": {},
   "outputs": [],
   "source": [
    "model_name = 'faceDetectModel'\n",
    "savedModelPath = '../log/faceDetectModel'\n",
    "tb_log_dir = \"../log/tensorboard/faceDetectModel\"\n",
    "cp_filepath = '../log/cps/faceDetectModel/latest_weights.h5'\n",
    "\n",
    "batch_size = 32\n",
    "epochs = 10"
   ]
  },
  {
   "cell_type": "markdown",
   "metadata": {},
   "source": [
    "## Model callbacks"
   ]
  },
  {
   "cell_type": "code",
   "execution_count": 135,
   "metadata": {},
   "outputs": [],
   "source": [
    "callbacks = [\n",
    "    keras.callbacks.ModelCheckpoint(\n",
    "                    # Checkpoint callback                    \n",
    "                    filepath=cp_filepath, \n",
    "                    verbose=1, \n",
    "                    save_weights_only=False),\n",
    "\n",
    "                    # Tensorboard callback\n",
    "                    tf.keras.callbacks.TensorBoard(log_dir=tb_log_dir, histogram_freq=1)\n",
    "            ]"
   ]
  },
  {
   "cell_type": "markdown",
   "metadata": {},
   "source": [
    "## Data parameters"
   ]
  },
  {
   "cell_type": "code",
   "execution_count": 136,
   "metadata": {},
   "outputs": [],
   "source": [
    "image_height = 224\n",
    "image_width = 224"
   ]
  },
  {
   "cell_type": "markdown",
   "metadata": {},
   "source": [
    "## Creating the training dataset"
   ]
  },
  {
   "cell_type": "code",
   "execution_count": 137,
   "metadata": {},
   "outputs": [
    {
     "name": "stdout",
     "output_type": "stream",
     "text": [
      "Found 84 files belonging to 2 classes.\n",
      "Using 68 files for training.\n"
     ]
    },
    {
     "data": {
      "text/plain": [
       "<PrefetchDataset element_spec=(TensorSpec(shape=(None, None, 224, 224, 3), dtype=tf.float32, name=None), TensorSpec(shape=(None, None, 1), dtype=tf.float32, name=None))>"
      ]
     },
     "execution_count": 137,
     "metadata": {},
     "output_type": "execute_result"
    }
   ],
   "source": [
    "# https://www.tensorflow.org/api_docs/python/tf/keras/utils/image_dataset_from_directory\n",
    "\n",
    "face_training_ds = keras.utils.image_dataset_from_directory(\n",
    "    \"../data/training/\",\n",
    "    label_mode='binary',\n",
    "    color_mode='rgb',\n",
    "    batch_size=batch_size,\n",
    "    image_size=(image_height, image_width),\n",
    "    shuffle=True,\n",
    "    seed=123,\n",
    "    validation_split=0.2,\n",
    "    subset='training',\n",
    "    interpolation='bilinear',\n",
    "    follow_links=False,\n",
    "    crop_to_aspect_ratio=True,\n",
    ")\n",
    "\n",
    "face_training_ds.cache().batch(batch_size).prefetch(buffer_size=10)"
   ]
  },
  {
   "cell_type": "markdown",
   "metadata": {},
   "source": [
    "## Creating the validation dataset"
   ]
  },
  {
   "cell_type": "code",
   "execution_count": 138,
   "metadata": {},
   "outputs": [
    {
     "name": "stdout",
     "output_type": "stream",
     "text": [
      "Found 84 files belonging to 2 classes.\n",
      "Using 16 files for validation.\n"
     ]
    }
   ],
   "source": [
    "validation_ds = keras.utils.image_dataset_from_directory(\n",
    "    \"../data/training/\",\n",
    "    label_mode='binary',\n",
    "    color_mode='rgb',\n",
    "    batch_size=batch_size,\n",
    "    image_size=(image_height, image_width),\n",
    "    shuffle=True,\n",
    "    seed=123,\n",
    "    validation_split=0.2,\n",
    "    subset='validation',\n",
    "    interpolation='bilinear',\n",
    "    follow_links=False,\n",
    "    crop_to_aspect_ratio=True,\n",
    ")"
   ]
  },
  {
   "cell_type": "markdown",
   "metadata": {},
   "source": [
    "## Load the base model"
   ]
  },
  {
   "cell_type": "code",
   "execution_count": 139,
   "metadata": {},
   "outputs": [],
   "source": [
    "# Loading either the ResNet50 architecture model or the previously saved model, and freeze it for transfer learning\n",
    "base_model = ResNet50(\n",
    "                include_top=False,\n",
    "                weights='imagenet',  # Load weights pre-trained on ImageNet.\n",
    "                input_shape=(image_height, image_width, 3)\n",
    "                )\n",
    "base_model.trainable = False"
   ]
  },
  {
   "cell_type": "markdown",
   "metadata": {},
   "source": [
    "## Creating a new model"
   ]
  },
  {
   "cell_type": "code",
   "execution_count": 140,
   "metadata": {},
   "outputs": [],
   "source": [
    "inputs = keras.Input(shape=(image_height, image_width, 3))\n",
    "\n",
    "# Running base model in inference mode\n",
    "x = base_model(inputs, training=False)\n",
    "\n",
    "# Convert features of shape `base_model.output_shape[1:]` to vectors\n",
    "x = keras.layers.GlobalAveragePooling2D()(x)\n",
    "\n",
    "# Final layer for binary classification\n",
    "outputs = keras.layers.Dense(1, activation='sigmoid')(x)\n",
    "\n",
    "model = keras.Model(inputs, outputs)\n",
    "\n",
    "# Loading latest saved weights into model\n",
    "if(os.path.isfile(cp_filepath)):\n",
    "    print('Loading weights...')\n",
    "    model.load_weights(filepath=cp_filepath)"
   ]
  },
  {
   "cell_type": "markdown",
   "metadata": {},
   "source": [
    "## Training the new model with new data"
   ]
  },
  {
   "cell_type": "code",
   "execution_count": 141,
   "metadata": {},
   "outputs": [
    {
     "name": "stdout",
     "output_type": "stream",
     "text": [
      "Epoch 1/10\n",
      "3/3 [==============================] - ETA: 0s - loss: 0.4484 - accuracy: 0.8088\n",
      "Epoch 1: saving model to ../log/cps/faceDetectModel\\latest_weights.h5\n",
      "3/3 [==============================] - 35s 8s/step - loss: 0.4484 - accuracy: 0.8088 - val_loss: 0.2374 - val_accuracy: 0.9375\n",
      "Epoch 2/10\n",
      "3/3 [==============================] - ETA: 0s - loss: 0.2490 - accuracy: 0.9559\n",
      "Epoch 2: saving model to ../log/cps/faceDetectModel\\latest_weights.h5\n",
      "3/3 [==============================] - 14s 5s/step - loss: 0.2490 - accuracy: 0.9559 - val_loss: 0.1479 - val_accuracy: 0.9375\n",
      "Epoch 3/10\n",
      "3/3 [==============================] - ETA: 0s - loss: 0.1487 - accuracy: 0.9853\n",
      "Epoch 3: saving model to ../log/cps/faceDetectModel\\latest_weights.h5\n",
      "3/3 [==============================] - 14s 5s/step - loss: 0.1487 - accuracy: 0.9853 - val_loss: 0.0832 - val_accuracy: 1.0000\n",
      "Epoch 4/10\n",
      "3/3 [==============================] - ETA: 0s - loss: 0.0781 - accuracy: 1.0000\n",
      "Epoch 4: saving model to ../log/cps/faceDetectModel\\latest_weights.h5\n",
      "3/3 [==============================] - 14s 5s/step - loss: 0.0781 - accuracy: 1.0000 - val_loss: 0.0562 - val_accuracy: 1.0000\n",
      "Epoch 5/10\n",
      "3/3 [==============================] - ETA: 0s - loss: 0.0533 - accuracy: 1.0000\n",
      "Epoch 5: saving model to ../log/cps/faceDetectModel\\latest_weights.h5\n",
      "3/3 [==============================] - 14s 5s/step - loss: 0.0533 - accuracy: 1.0000 - val_loss: 0.0429 - val_accuracy: 1.0000\n",
      "Epoch 6/10\n",
      "3/3 [==============================] - ETA: 0s - loss: 0.0399 - accuracy: 1.0000\n",
      "Epoch 6: saving model to ../log/cps/faceDetectModel\\latest_weights.h5\n",
      "3/3 [==============================] - 14s 5s/step - loss: 0.0399 - accuracy: 1.0000 - val_loss: 0.0335 - val_accuracy: 1.0000\n",
      "Epoch 7/10\n",
      "3/3 [==============================] - ETA: 0s - loss: 0.0312 - accuracy: 1.0000\n",
      "Epoch 7: saving model to ../log/cps/faceDetectModel\\latest_weights.h5\n",
      "3/3 [==============================] - 14s 5s/step - loss: 0.0312 - accuracy: 1.0000 - val_loss: 0.0261 - val_accuracy: 1.0000\n",
      "Epoch 8/10\n",
      "3/3 [==============================] - ETA: 0s - loss: 0.0236 - accuracy: 1.0000\n",
      "Epoch 8: saving model to ../log/cps/faceDetectModel\\latest_weights.h5\n",
      "3/3 [==============================] - 15s 5s/step - loss: 0.0236 - accuracy: 1.0000 - val_loss: 0.0206 - val_accuracy: 1.0000\n",
      "Epoch 9/10\n",
      "3/3 [==============================] - ETA: 0s - loss: 0.0190 - accuracy: 1.0000\n",
      "Epoch 9: saving model to ../log/cps/faceDetectModel\\latest_weights.h5\n",
      "3/3 [==============================] - 14s 5s/step - loss: 0.0190 - accuracy: 1.0000 - val_loss: 0.0164 - val_accuracy: 1.0000\n",
      "Epoch 10/10\n",
      "3/3 [==============================] - ETA: 0s - loss: 0.0149 - accuracy: 1.0000\n",
      "Epoch 10: saving model to ../log/cps/faceDetectModel\\latest_weights.h5\n",
      "3/3 [==============================] - 14s 5s/step - loss: 0.0149 - accuracy: 1.0000 - val_loss: 0.0137 - val_accuracy: 1.0000\n"
     ]
    }
   ],
   "source": [
    "model.compile(optimizer=keras.optimizers.Adam(),\n",
    "              loss=keras.losses.BinaryCrossentropy(),\n",
    "              metrics=['accuracy'])\n",
    "history = model.fit(\n",
    "            face_training_ds, \n",
    "            epochs=epochs, \n",
    "            callbacks=callbacks, \n",
    "            validation_data=validation_ds\n",
    "        )"
   ]
  },
  {
   "cell_type": "markdown",
   "metadata": {},
   "source": [
    "## Save the model"
   ]
  },
  {
   "cell_type": "code",
   "execution_count": 142,
   "metadata": {},
   "outputs": [
    {
     "name": "stderr",
     "output_type": "stream",
     "text": [
      "WARNING:absl:Found untraced functions such as _jit_compiled_convolution_op, _jit_compiled_convolution_op, _jit_compiled_convolution_op, _jit_compiled_convolution_op, _jit_compiled_convolution_op while saving (showing 5 of 53). These functions will not be directly callable after loading.\n"
     ]
    },
    {
     "name": "stdout",
     "output_type": "stream",
     "text": [
      "INFO:tensorflow:Assets written to: ../log/faceDetectModel\\assets\n"
     ]
    },
    {
     "name": "stderr",
     "output_type": "stream",
     "text": [
      "INFO:tensorflow:Assets written to: ../log/faceDetectModel\\assets\n"
     ]
    }
   ],
   "source": [
    "model.save(savedModelPath)"
   ]
  },
  {
   "cell_type": "markdown",
   "metadata": {},
   "source": [
    "## Predict new images"
   ]
  },
  {
   "cell_type": "code",
   "execution_count": 143,
   "metadata": {},
   "outputs": [
    {
     "name": "stdout",
     "output_type": "stream",
     "text": [
      "1/1 [==============================] - 3s 3s/step\n",
      "This image contains a face. (96.47 percent confidence)\n"
     ]
    }
   ],
   "source": [
    "# https://www.tensorflow.org/tutorials/images/classification\n",
    "\n",
    "img = tf.keras.utils.load_img(\n",
    "    '../data/test/FaceTest/000001.jpg', target_size=(image_height, image_width)\n",
    ")\n",
    "img_array = tf.keras.utils.img_to_array(img)\n",
    "img_array = tf.expand_dims(img_array, 0) # Create a batch\n",
    "\n",
    "preds = model.predict(img_array)\n",
    "score = preds[0][0]\n",
    "\n",
    "if(score > 0.5):\n",
    "    print(\"This image contains no face. ({:.2f} percent confidence)\".format(100 * score))\n",
    "else:\n",
    "    print(\"This image contains a face. ({:.2f} percent confidence)\".format(100 * (1-score)))"
   ]
  }
 ],
 "metadata": {
  "kernelspec": {
   "display_name": "Python 3.9.13 ('dl_faceRecognition')",
   "language": "python",
   "name": "python3"
  },
  "language_info": {
   "codemirror_mode": {
    "name": "ipython",
    "version": 3
   },
   "file_extension": ".py",
   "mimetype": "text/x-python",
   "name": "python",
   "nbconvert_exporter": "python",
   "pygments_lexer": "ipython3",
   "version": "3.9.13"
  },
  "orig_nbformat": 4,
  "vscode": {
   "interpreter": {
    "hash": "9db27a884dcbb88570b399c40aec4b1067ba94a1c848619f750f7494e6f7e360"
   }
  }
 },
 "nbformat": 4,
 "nbformat_minor": 2
}
