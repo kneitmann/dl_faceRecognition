{
 "cells": [
  {
   "cell_type": "code",
   "execution_count": 1,
   "metadata": {},
   "outputs": [],
   "source": [
    "import numpy as np\n",
    "import matplotlib.pyplot as plt\n",
    "import os.path\n",
    "\n",
    "# Tensorflow imports\n",
    "import tensorflow as tf\n",
    "from tensorflow import keras\n",
    "from tensorflow.keras.applications.resnet50 import ResNet50\n",
    "from tensorflow.keras.applications.resnet50 import preprocess_input, decode_predictions"
   ]
  },
  {
   "cell_type": "markdown",
   "metadata": {},
   "source": [
    "## Model parameters"
   ]
  },
  {
   "cell_type": "code",
   "execution_count": 2,
   "metadata": {},
   "outputs": [],
   "source": [
    "model_name = 'faceDetectModel_tl'\n",
    "savedModelPath = '../log/saved_models/faceDetectModel_tl'\n",
    "tb_log_dir = \"../log/tensorboard/faceDetectModel_tl\"\n",
    "cp_filepath = '../log/cps/faceDetectModel_tl/latest_weights.h5'\n",
    "\n",
    "batch_size = 32\n",
    "epochs = 10\n",
    "\n",
    "doDataAugmentation = False\n",
    "useDropout = False\n",
    "dropoutRate = 0.25"
   ]
  },
  {
   "cell_type": "markdown",
   "metadata": {},
   "source": [
    "## Model callbacks"
   ]
  },
  {
   "cell_type": "code",
   "execution_count": 3,
   "metadata": {},
   "outputs": [],
   "source": [
    "callbacks = [\n",
    "    # Checkpoint callback    \n",
    "    keras.callbacks.ModelCheckpoint(      \n",
    "                    filepath=cp_filepath, \n",
    "                    verbose=1, \n",
    "                    save_weights_only=False\n",
    "    ),\n",
    "\n",
    "    # Tensorboard callback\n",
    "    tf.keras.callbacks.TensorBoard(log_dir=tb_log_dir, histogram_freq=1),\n",
    "\n",
    "    # Early Stopping callback\n",
    "    keras.callbacks.EarlyStopping(\n",
    "                    monitor=\"val_loss\",\n",
    "                    patience=2,\n",
    "                    verbose=1,\n",
    "                )\n",
    "]"
   ]
  },
  {
   "cell_type": "markdown",
   "metadata": {},
   "source": [
    "## Data parameters"
   ]
  },
  {
   "cell_type": "code",
   "execution_count": 4,
   "metadata": {},
   "outputs": [],
   "source": [
    "image_height = 224\n",
    "image_width = 224"
   ]
  },
  {
   "cell_type": "markdown",
   "metadata": {},
   "source": [
    "## Data Augmentation"
   ]
  },
  {
   "cell_type": "code",
   "execution_count": 5,
   "metadata": {},
   "outputs": [],
   "source": [
    "data_augmentation = keras.Sequential(\n",
    "    [\n",
    "        keras.layers.RandomFlip(\"horizontal\"),\n",
    "        keras.layers.RandomRotation(0.1),\n",
    "    ]\n",
    ")"
   ]
  },
  {
   "cell_type": "markdown",
   "metadata": {},
   "source": [
    "## Creating the training dataset"
   ]
  },
  {
   "cell_type": "code",
   "execution_count": 6,
   "metadata": {},
   "outputs": [
    {
     "name": "stdout",
     "output_type": "stream",
     "text": [
      "Found 28312 files belonging to 2 classes.\n",
      "Using 22650 files for training.\n"
     ]
    },
    {
     "data": {
      "text/plain": [
       "<PrefetchDataset element_spec=(TensorSpec(shape=(None, None, 224, 224, 3), dtype=tf.float32, name=None), TensorSpec(shape=(None, None, 1), dtype=tf.float32, name=None))>"
      ]
     },
     "execution_count": 6,
     "metadata": {},
     "output_type": "execute_result"
    }
   ],
   "source": [
    "# https://www.tensorflow.org/api_docs/python/tf/keras/utils/image_dataset_from_directory\n",
    "\n",
    "face_training_ds = keras.utils.image_dataset_from_directory(\n",
    "    \"../data/training/\",\n",
    "    label_mode='binary',\n",
    "    color_mode='rgb',\n",
    "    batch_size=batch_size,\n",
    "    image_size=(image_height, image_width),\n",
    "    shuffle=True,\n",
    "    seed=123,\n",
    "    validation_split=0.2,\n",
    "    subset='training',\n",
    "    interpolation='bilinear',\n",
    "    follow_links=False,\n",
    "    crop_to_aspect_ratio=True,\n",
    ")\n",
    "\n",
    "face_training_ds.cache().batch(batch_size).prefetch(buffer_size=10)"
   ]
  },
  {
   "cell_type": "markdown",
   "metadata": {},
   "source": [
    "## Creating the validation dataset"
   ]
  },
  {
   "cell_type": "code",
   "execution_count": 7,
   "metadata": {},
   "outputs": [
    {
     "name": "stdout",
     "output_type": "stream",
     "text": [
      "Found 28312 files belonging to 2 classes.\n",
      "Using 5662 files for validation.\n"
     ]
    }
   ],
   "source": [
    "validation_ds = keras.utils.image_dataset_from_directory(\n",
    "    \"../data/training/\",\n",
    "    label_mode='binary',\n",
    "    color_mode='rgb',\n",
    "    batch_size=batch_size,\n",
    "    image_size=(image_height, image_width),\n",
    "    shuffle=True,\n",
    "    seed=123,\n",
    "    validation_split=0.2,\n",
    "    subset='validation',\n",
    "    interpolation='bilinear',\n",
    "    follow_links=False,\n",
    "    crop_to_aspect_ratio=True,\n",
    ")"
   ]
  },
  {
   "cell_type": "markdown",
   "metadata": {},
   "source": [
    "## Creating the test dataset"
   ]
  },
  {
   "cell_type": "code",
   "execution_count": 8,
   "metadata": {},
   "outputs": [
    {
     "name": "stdout",
     "output_type": "stream",
     "text": [
      "Found 353 files belonging to 2 classes.\n"
     ]
    },
    {
     "data": {
      "text/plain": [
       "<PrefetchDataset element_spec=(TensorSpec(shape=(None, None, 224, 224, 3), dtype=tf.float32, name=None), TensorSpec(shape=(None, None, 1), dtype=tf.float32, name=None))>"
      ]
     },
     "execution_count": 8,
     "metadata": {},
     "output_type": "execute_result"
    }
   ],
   "source": [
    "test_ds = keras.utils.image_dataset_from_directory(\n",
    "    \"../data/test/\",\n",
    "    label_mode='binary',\n",
    "    color_mode='rgb',\n",
    "    batch_size=batch_size,\n",
    "    image_size=(image_height, image_width),\n",
    "    interpolation='bilinear',\n",
    "    follow_links=False,\n",
    "    crop_to_aspect_ratio=True,\n",
    ")\n",
    "\n",
    "test_ds.cache().batch(batch_size).prefetch(buffer_size=10)"
   ]
  },
  {
   "cell_type": "markdown",
   "metadata": {},
   "source": [
    "## Load the base model"
   ]
  },
  {
   "cell_type": "code",
   "execution_count": 9,
   "metadata": {},
   "outputs": [],
   "source": [
    "# Loading either the ResNet50 architecture model or the previously saved model, and freeze it for transfer learning\n",
    "base_model = ResNet50(\n",
    "                include_top=False,\n",
    "                weights='imagenet',  # Load weights pre-trained on ImageNet.\n",
    "                input_shape=(image_height, image_width, 3)\n",
    "                )\n",
    "base_model.trainable = False"
   ]
  },
  {
   "cell_type": "markdown",
   "metadata": {},
   "source": [
    "## Creating a new model"
   ]
  },
  {
   "cell_type": "code",
   "execution_count": 10,
   "metadata": {},
   "outputs": [],
   "source": [
    "inputs = keras.Input(shape=(image_height, image_width, 3))\n",
    "\n",
    "# Data Augmentation on input\n",
    "if(doDataAugmentation):\n",
    "    inputs = data_augmentation(inputs)\n",
    "\n",
    "# Running base model in inference mode\n",
    "x = base_model(inputs, training=False)\n",
    "\n",
    "# Convert features of shape `base_model.output_shape[1:]` to vectors\n",
    "x = keras.layers.GlobalAveragePooling2D()(x)\n",
    "\n",
    "# Add Dropout layer\n",
    "if(useDropout):\n",
    "    x = keras.layers.Dropout(dropoutRate)(x)\n",
    "\n",
    "# Final layer for binary classification\n",
    "outputs = keras.layers.Dense(1, activation='sigmoid')(x)\n",
    "\n",
    "model = keras.Model(inputs, outputs)\n",
    "\n",
    "# Loading latest saved weights into model\n",
    "if(os.path.isfile(cp_filepath)):\n",
    "    print('Loading weights...')\n",
    "    model.load_weights(filepath=cp_filepath)"
   ]
  },
  {
   "cell_type": "markdown",
   "metadata": {},
   "source": [
    "## Training the new model with new data"
   ]
  },
  {
   "cell_type": "code",
   "execution_count": 11,
   "metadata": {},
   "outputs": [
    {
     "name": "stdout",
     "output_type": "stream",
     "text": [
      "Epoch 1/10\n",
      "708/708 [==============================] - ETA: 0s - loss: 0.0314 - accuracy: 0.9896\n",
      "Epoch 1: saving model to ../log/cps/faceDetectModel_tl\\latest_weights.h5\n",
      "708/708 [==============================] - 1026s 1s/step - loss: 0.0314 - accuracy: 0.9896 - val_loss: 0.0179 - val_accuracy: 0.9936\n",
      "Epoch 2/10\n",
      "708/708 [==============================] - ETA: 0s - loss: 0.0150 - accuracy: 0.9953\n",
      "Epoch 2: saving model to ../log/cps/faceDetectModel_tl\\latest_weights.h5\n",
      "708/708 [==============================] - 1011s 1s/step - loss: 0.0150 - accuracy: 0.9953 - val_loss: 0.0157 - val_accuracy: 0.9951\n",
      "Epoch 3/10\n",
      "708/708 [==============================] - ETA: 0s - loss: 0.0116 - accuracy: 0.9962\n",
      "Epoch 3: saving model to ../log/cps/faceDetectModel_tl\\latest_weights.h5\n",
      "708/708 [==============================] - 978s 1s/step - loss: 0.0116 - accuracy: 0.9962 - val_loss: 0.0187 - val_accuracy: 0.9942\n",
      "Epoch 4/10\n",
      "708/708 [==============================] - ETA: 0s - loss: 0.0083 - accuracy: 0.9975\n",
      "Epoch 4: saving model to ../log/cps/faceDetectModel_tl\\latest_weights.h5\n",
      "708/708 [==============================] - 1033s 1s/step - loss: 0.0083 - accuracy: 0.9975 - val_loss: 0.0163 - val_accuracy: 0.9951\n",
      "Epoch 5/10\n",
      "708/708 [==============================] - ETA: 0s - loss: 0.0069 - accuracy: 0.9976\n",
      "Epoch 5: saving model to ../log/cps/faceDetectModel_tl\\latest_weights.h5\n",
      "708/708 [==============================] - 1005s 1s/step - loss: 0.0069 - accuracy: 0.9976 - val_loss: 0.0174 - val_accuracy: 0.9949\n",
      "Epoch 6/10\n",
      "708/708 [==============================] - ETA: 0s - loss: 0.0058 - accuracy: 0.9981\n",
      "Epoch 6: saving model to ../log/cps/faceDetectModel_tl\\latest_weights.h5\n",
      "708/708 [==============================] - 993s 1s/step - loss: 0.0058 - accuracy: 0.9981 - val_loss: 0.0173 - val_accuracy: 0.9947\n",
      "Epoch 7/10\n",
      "708/708 [==============================] - ETA: 0s - loss: 0.0043 - accuracy: 0.9988\n",
      "Epoch 7: saving model to ../log/cps/faceDetectModel_tl\\latest_weights.h5\n",
      "708/708 [==============================] - 994s 1s/step - loss: 0.0043 - accuracy: 0.9988 - val_loss: 0.0174 - val_accuracy: 0.9949\n",
      "Epoch 8/10\n",
      "708/708 [==============================] - ETA: 0s - loss: 0.0038 - accuracy: 0.9989\n",
      "Epoch 8: saving model to ../log/cps/faceDetectModel_tl\\latest_weights.h5\n",
      "708/708 [==============================] - 979s 1s/step - loss: 0.0038 - accuracy: 0.9989 - val_loss: 0.0189 - val_accuracy: 0.9951\n",
      "Epoch 9/10\n",
      "708/708 [==============================] - ETA: 0s - loss: 0.0032 - accuracy: 0.9992\n",
      "Epoch 9: saving model to ../log/cps/faceDetectModel_tl\\latest_weights.h5\n",
      "708/708 [==============================] - 981s 1s/step - loss: 0.0032 - accuracy: 0.9992 - val_loss: 0.0172 - val_accuracy: 0.9956\n",
      "Epoch 10/10\n",
      "708/708 [==============================] - ETA: 0s - loss: 0.0028 - accuracy: 0.9992\n",
      "Epoch 10: saving model to ../log/cps/faceDetectModel_tl\\latest_weights.h5\n",
      "708/708 [==============================] - 1000s 1s/step - loss: 0.0028 - accuracy: 0.9992 - val_loss: 0.0181 - val_accuracy: 0.9951\n"
     ]
    }
   ],
   "source": [
    "model.compile(optimizer=keras.optimizers.Adam(),\n",
    "              loss=keras.losses.BinaryCrossentropy(),\n",
    "              metrics=['accuracy'])\n",
    "history = model.fit(\n",
    "            face_training_ds, \n",
    "            epochs=epochs, \n",
    "            callbacks=callbacks, \n",
    "            validation_data=validation_ds\n",
    "        )"
   ]
  },
  {
   "cell_type": "markdown",
   "metadata": {},
   "source": [
    "## Save the model"
   ]
  },
  {
   "cell_type": "code",
   "execution_count": 12,
   "metadata": {},
   "outputs": [
    {
     "name": "stderr",
     "output_type": "stream",
     "text": [
      "WARNING:absl:Found untraced functions such as _jit_compiled_convolution_op, _jit_compiled_convolution_op, _jit_compiled_convolution_op, _jit_compiled_convolution_op, _jit_compiled_convolution_op while saving (showing 5 of 53). These functions will not be directly callable after loading.\n"
     ]
    },
    {
     "name": "stdout",
     "output_type": "stream",
     "text": [
      "INFO:tensorflow:Assets written to: ../log/saved_models/faceDetectModel_tl\\assets\n"
     ]
    },
    {
     "name": "stderr",
     "output_type": "stream",
     "text": [
      "INFO:tensorflow:Assets written to: ../log/saved_models/faceDetectModel_tl\\assets\n"
     ]
    }
   ],
   "source": [
    "model.save(savedModelPath)"
   ]
  },
  {
   "cell_type": "markdown",
   "metadata": {},
   "source": [
    "## Test model with test dataset"
   ]
  },
  {
   "cell_type": "code",
   "execution_count": 13,
   "metadata": {},
   "outputs": [
    {
     "name": "stdout",
     "output_type": "stream",
     "text": [
      "12/12 [==============================] - 13s 1s/step - loss: 0.1054 - accuracy: 0.9660\n",
      "Loss: 0.10540056973695755; Accuracy: 0.9660056829452515\n"
     ]
    }
   ],
   "source": [
    "results = model.evaluate(test_ds)\n",
    "\n",
    "print(f'Loss: {results[0]}; Accuracy: {results[1]}')"
   ]
  },
  {
   "cell_type": "markdown",
   "metadata": {},
   "source": [
    "## Predict new images"
   ]
  },
  {
   "cell_type": "code",
   "execution_count": 14,
   "metadata": {},
   "outputs": [
    {
     "name": "stdout",
     "output_type": "stream",
     "text": [
      "1/1 [==============================] - 1s 1s/step\n",
      "This image contains no face. (100.00 percent confidence)\n"
     ]
    }
   ],
   "source": [
    "# https://www.tensorflow.org/tutorials/images/classification\n",
    "\n",
    "img = tf.keras.utils.load_img(\n",
    "    '../data/test/NoFace/000001.jpg', target_size=(image_height, image_width)\n",
    ")\n",
    "img_array = tf.keras.utils.img_to_array(img)\n",
    "img_array = tf.expand_dims(img_array, 0) # Create a batch\n",
    "\n",
    "preds = model.predict(img_array)\n",
    "score = preds[0][0]\n",
    "\n",
    "if(score > 0.5):\n",
    "    print(\"This image contains no face. ({:.2f} percent confidence)\".format(100 * score))\n",
    "else:\n",
    "    print(\"This image contains a face. ({:.2f} percent confidence)\".format(100 * (1-score)))"
   ]
  }
 ],
 "metadata": {
  "kernelspec": {
   "display_name": "Python 3.9.13 ('tensorflow_env')",
   "language": "python",
   "name": "python3"
  },
  "language_info": {
   "codemirror_mode": {
    "name": "ipython",
    "version": 3
   },
   "file_extension": ".py",
   "mimetype": "text/x-python",
   "name": "python",
   "nbconvert_exporter": "python",
   "pygments_lexer": "ipython3",
   "version": "3.9.13"
  },
  "orig_nbformat": 4,
  "vscode": {
   "interpreter": {
    "hash": "9db27a884dcbb88570b399c40aec4b1067ba94a1c848619f750f7494e6f7e360"
   }
  }
 },
 "nbformat": 4,
 "nbformat_minor": 2
}
