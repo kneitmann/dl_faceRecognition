{
 "cells": [
  {
   "cell_type": "code",
   "execution_count": 122,
   "metadata": {},
   "outputs": [],
   "source": [
    "import numpy as np\n",
    "import matplotlib.pyplot as plt\n",
    "import os.path\n",
    "\n",
    "# Tensorflow imports\n",
    "import tensorflow as tf\n",
    "from tensorflow import keras\n",
    "from tensorflow.keras.applications.resnet50 import ResNet50\n",
    "from tensorflow.keras.applications.resnet50 import preprocess_input, decode_predictions"
   ]
  },
  {
   "cell_type": "markdown",
   "metadata": {},
   "source": [
    "## Model parameters"
   ]
  },
  {
   "cell_type": "code",
   "execution_count": 123,
   "metadata": {},
   "outputs": [],
   "source": [
    "model_name = 'faceDetectModel_tl'\n",
    "savedModelPath = '../log/saved_models/faceDetectModel_tl'\n",
    "tb_log_dir = \"../log/tensorboard/faceDetectModel_tl\"\n",
    "cp_filepath = '../log/cps/faceDetectModel_tl/latest_weights.h5'\n",
    "\n",
    "batch_size = 32\n",
    "epochs = 10\n",
    "\n",
    "doDataAugmentation = False\n",
    "useDropout = False\n",
    "dropoutRate = 0.25"
   ]
  },
  {
   "cell_type": "markdown",
   "metadata": {},
   "source": [
    "## Model callbacks"
   ]
  },
  {
   "cell_type": "code",
   "execution_count": 124,
   "metadata": {},
   "outputs": [],
   "source": [
    "callbacks = [\n",
    "    # Checkpoint callback    \n",
    "    keras.callbacks.ModelCheckpoint(      \n",
    "                    filepath=cp_filepath, \n",
    "                    verbose=1, \n",
    "                    save_weights_only=False\n",
    "    ),\n",
    "\n",
    "    # Tensorboard callback\n",
    "    tf.keras.callbacks.TensorBoard(log_dir=tb_log_dir, histogram_freq=1)#,\n",
    "\n",
    "    # Early Stopping callback\n",
    "    #keras.callbacks.EarlyStopping(\n",
    "                    #monitor=\"val_loss\",\n",
    "                    #patience=2,\n",
    "                    #verbose=1,\n",
    "                #)\n",
    "]"
   ]
  },
  {
   "cell_type": "markdown",
   "metadata": {},
   "source": [
    "## Data parameters"
   ]
  },
  {
   "cell_type": "code",
   "execution_count": 125,
   "metadata": {},
   "outputs": [],
   "source": [
    "image_height = 224\n",
    "image_width = 224"
   ]
  },
  {
   "cell_type": "markdown",
   "metadata": {},
   "source": [
    "## Data Augmentation"
   ]
  },
  {
   "cell_type": "code",
   "execution_count": 126,
   "metadata": {},
   "outputs": [],
   "source": [
    "data_augmentation = keras.Sequential(\n",
    "    [\n",
    "        keras.layers.RandomFlip(\"horizontal\"),\n",
    "        keras.layers.RandomRotation(0.1),\n",
    "    ]\n",
    ")"
   ]
  },
  {
   "cell_type": "markdown",
   "metadata": {},
   "source": [
    "## Creating the training dataset"
   ]
  },
  {
   "cell_type": "code",
   "execution_count": 127,
   "metadata": {},
   "outputs": [
    {
     "name": "stdout",
     "output_type": "stream",
     "text": [
      "Found 28312 files belonging to 2 classes.\n",
      "Using 22650 files for training.\n"
     ]
    },
    {
     "data": {
      "text/plain": [
       "<PrefetchDataset element_spec=(TensorSpec(shape=(None, None, 224, 224, 3), dtype=tf.float32, name=None), TensorSpec(shape=(None, None, 1), dtype=tf.float32, name=None))>"
      ]
     },
     "execution_count": 127,
     "metadata": {},
     "output_type": "execute_result"
    }
   ],
   "source": [
    "# https://www.tensorflow.org/api_docs/python/tf/keras/utils/image_dataset_from_directory\n",
    "\n",
    "face_training_ds = keras.utils.image_dataset_from_directory(\n",
    "    \"../data/training/\",\n",
    "    label_mode='binary',\n",
    "    color_mode='rgb',\n",
    "    batch_size=batch_size,\n",
    "    image_size=(image_height, image_width),\n",
    "    shuffle=True,\n",
    "    seed=123,\n",
    "    validation_split=0.2,\n",
    "    subset='training',\n",
    "    interpolation='bilinear',\n",
    "    follow_links=False,\n",
    "    crop_to_aspect_ratio=True,\n",
    ")\n",
    "\n",
    "face_training_ds.cache().batch(batch_size).prefetch(buffer_size=10)"
   ]
  },
  {
   "cell_type": "markdown",
   "metadata": {},
   "source": [
    "## Creating the validation dataset"
   ]
  },
  {
   "cell_type": "code",
   "execution_count": 128,
   "metadata": {},
   "outputs": [
    {
     "name": "stdout",
     "output_type": "stream",
     "text": [
      "Found 28312 files belonging to 2 classes.\n",
      "Using 5662 files for validation.\n"
     ]
    }
   ],
   "source": [
    "validation_ds = keras.utils.image_dataset_from_directory(\n",
    "    \"../data/training/\",\n",
    "    label_mode='binary',\n",
    "    color_mode='rgb',\n",
    "    batch_size=batch_size,\n",
    "    image_size=(image_height, image_width),\n",
    "    shuffle=True,\n",
    "    seed=123,\n",
    "    validation_split=0.2,\n",
    "    subset='validation',\n",
    "    interpolation='bilinear',\n",
    "    follow_links=False,\n",
    "    crop_to_aspect_ratio=True,\n",
    ")"
   ]
  },
  {
   "cell_type": "markdown",
   "metadata": {},
   "source": [
    "## Creating the test dataset"
   ]
  },
  {
   "cell_type": "code",
   "execution_count": 129,
   "metadata": {},
   "outputs": [
    {
     "name": "stdout",
     "output_type": "stream",
     "text": [
      "Found 353 files belonging to 2 classes.\n"
     ]
    },
    {
     "data": {
      "text/plain": [
       "<PrefetchDataset element_spec=(TensorSpec(shape=(None, None, 224, 224, 3), dtype=tf.float32, name=None), TensorSpec(shape=(None, None, 1), dtype=tf.float32, name=None))>"
      ]
     },
     "execution_count": 129,
     "metadata": {},
     "output_type": "execute_result"
    }
   ],
   "source": [
    "test_ds = keras.utils.image_dataset_from_directory(\n",
    "    \"../data/test/\",\n",
    "    label_mode='binary',\n",
    "    color_mode='rgb',\n",
    "    batch_size=batch_size,\n",
    "    image_size=(image_height, image_width),\n",
    "    interpolation='bilinear',\n",
    "    follow_links=False,\n",
    "    crop_to_aspect_ratio=True,\n",
    ")\n",
    "\n",
    "test_ds.cache().batch(batch_size).prefetch(buffer_size=10)"
   ]
  },
  {
   "cell_type": "markdown",
   "metadata": {},
   "source": [
    "## Load the base model"
   ]
  },
  {
   "cell_type": "code",
   "execution_count": 130,
   "metadata": {},
   "outputs": [],
   "source": [
    "# Loading either the ResNet50 architecture model or the previously saved model, and freeze it for transfer learning\n",
    "base_model = ResNet50(\n",
    "                include_top=False,\n",
    "                weights='imagenet',  # Load weights pre-trained on ImageNet.\n",
    "                input_shape=(image_height, image_width, 3)\n",
    "                )\n",
    "base_model.trainable = False"
   ]
  },
  {
   "cell_type": "markdown",
   "metadata": {},
   "source": [
    "## Creating a new model"
   ]
  },
  {
   "cell_type": "code",
   "execution_count": 131,
   "metadata": {},
   "outputs": [],
   "source": [
    "inputs = keras.Input(shape=(image_height, image_width, 3))\n",
    "\n",
    "# Data Augmentation on input\n",
    "if(doDataAugmentation):\n",
    "    inputs = data_augmentation(inputs)\n",
    "\n",
    "# Running base model in inference mode\n",
    "x = base_model(inputs, training=False)\n",
    "\n",
    "# Convert features of shape `base_model.output_shape[1:]` to vectors\n",
    "x = keras.layers.GlobalAveragePooling2D()(x)\n",
    "\n",
    "# Add Dropout layer\n",
    "if(useDropout):\n",
    "    x = keras.layers.Dropout(dropoutRate)(x)\n",
    "\n",
    "# Final layer for binary classification\n",
    "outputs = keras.layers.Dense(1, activation='sigmoid')(x)\n",
    "\n",
    "model = keras.Model(inputs, outputs)\n",
    "\n",
    "# Loading latest saved weights into model\n",
    "if(os.path.isfile(cp_filepath)):\n",
    "    print('Loading weights...')\n",
    "    model.load_weights(filepath=cp_filepath)"
   ]
  },
  {
   "cell_type": "markdown",
   "metadata": {},
   "source": [
    "## Training the new model with new data"
   ]
  },
  {
   "cell_type": "code",
   "execution_count": 132,
   "metadata": {},
   "outputs": [
    {
     "name": "stdout",
     "output_type": "stream",
     "text": [
      "Epoch 1/10\n",
      "708/708 [==============================] - ETA: 0s - loss: 0.0261 - accuracy: 0.9919\n",
      "Epoch 1: saving model to ../log/cps/faceDetectModelAugmentation_tl\\latest_weights.h5\n",
      "708/708 [==============================] - 1294s 2s/step - loss: 0.0261 - accuracy: 0.9919 - val_loss: 0.0168 - val_accuracy: 0.9947\n",
      "Epoch 2/10\n",
      "708/708 [==============================] - ETA: 0s - loss: 0.0147 - accuracy: 0.9956\n",
      "Epoch 2: saving model to ../log/cps/faceDetectModelAugmentation_tl\\latest_weights.h5\n",
      "708/708 [==============================] - 1068s 2s/step - loss: 0.0147 - accuracy: 0.9956 - val_loss: 0.0151 - val_accuracy: 0.9952\n",
      "Epoch 3/10\n",
      "708/708 [==============================] - ETA: 0s - loss: 0.0110 - accuracy: 0.9965\n",
      "Epoch 3: saving model to ../log/cps/faceDetectModelAugmentation_tl\\latest_weights.h5\n",
      "708/708 [==============================] - 1437s 2s/step - loss: 0.0110 - accuracy: 0.9965 - val_loss: 0.0202 - val_accuracy: 0.9943\n",
      "Epoch 4/10\n",
      "708/708 [==============================] - ETA: 0s - loss: 0.0081 - accuracy: 0.9974\n",
      "Epoch 4: saving model to ../log/cps/faceDetectModelAugmentation_tl\\latest_weights.h5\n",
      "708/708 [==============================] - 1521s 2s/step - loss: 0.0081 - accuracy: 0.9974 - val_loss: 0.0159 - val_accuracy: 0.9951\n",
      "Epoch 5/10\n",
      "708/708 [==============================] - ETA: 0s - loss: 0.0066 - accuracy: 0.9977\n",
      "Epoch 5: saving model to ../log/cps/faceDetectModelAugmentation_tl\\latest_weights.h5\n",
      "708/708 [==============================] - 1522s 2s/step - loss: 0.0066 - accuracy: 0.9977 - val_loss: 0.0176 - val_accuracy: 0.9949\n",
      "Epoch 6/10\n",
      "708/708 [==============================] - ETA: 0s - loss: 0.0055 - accuracy: 0.9981\n",
      "Epoch 6: saving model to ../log/cps/faceDetectModelAugmentation_tl\\latest_weights.h5\n",
      "708/708 [==============================] - 1505s 2s/step - loss: 0.0055 - accuracy: 0.9981 - val_loss: 0.0172 - val_accuracy: 0.9947\n",
      "Epoch 7/10\n",
      "708/708 [==============================] - ETA: 0s - loss: 0.0041 - accuracy: 0.9989\n",
      "Epoch 7: saving model to ../log/cps/faceDetectModelAugmentation_tl\\latest_weights.h5\n",
      "708/708 [==============================] - 1315s 2s/step - loss: 0.0041 - accuracy: 0.9989 - val_loss: 0.0174 - val_accuracy: 0.9954\n",
      "Epoch 8/10\n",
      "708/708 [==============================] - ETA: 0s - loss: 0.0035 - accuracy: 0.9990\n",
      "Epoch 8: saving model to ../log/cps/faceDetectModelAugmentation_tl\\latest_weights.h5\n",
      "708/708 [==============================] - 1162s 2s/step - loss: 0.0035 - accuracy: 0.9990 - val_loss: 0.0185 - val_accuracy: 0.9951\n",
      "Epoch 9/10\n",
      "708/708 [==============================] - ETA: 0s - loss: 0.0031 - accuracy: 0.9992\n",
      "Epoch 9: saving model to ../log/cps/faceDetectModelAugmentation_tl\\latest_weights.h5\n",
      "708/708 [==============================] - 1200s 2s/step - loss: 0.0031 - accuracy: 0.9992 - val_loss: 0.0169 - val_accuracy: 0.9954\n",
      "Epoch 10/10\n",
      "708/708 [==============================] - ETA: 0s - loss: 0.0027 - accuracy: 0.9994\n",
      "Epoch 10: saving model to ../log/cps/faceDetectModelAugmentation_tl\\latest_weights.h5\n",
      "708/708 [==============================] - 1038s 1s/step - loss: 0.0027 - accuracy: 0.9994 - val_loss: 0.0182 - val_accuracy: 0.9958\n"
     ]
    }
   ],
   "source": [
    "model.compile(optimizer=keras.optimizers.Adam(),\n",
    "              loss=keras.losses.BinaryCrossentropy(),\n",
    "              metrics=['accuracy'])\n",
    "history = model.fit(\n",
    "            face_training_ds, \n",
    "            epochs=epochs, \n",
    "            callbacks=callbacks, \n",
    "            validation_data=validation_ds\n",
    "        )"
   ]
  },
  {
   "cell_type": "markdown",
   "metadata": {},
   "source": [
    "## Save the model"
   ]
  },
  {
   "cell_type": "code",
   "execution_count": 133,
   "metadata": {},
   "outputs": [
    {
     "name": "stderr",
     "output_type": "stream",
     "text": [
      "WARNING:absl:Found untraced functions such as _jit_compiled_convolution_op, _jit_compiled_convolution_op, _jit_compiled_convolution_op, _jit_compiled_convolution_op, _jit_compiled_convolution_op while saving (showing 5 of 53). These functions will not be directly callable after loading.\n"
     ]
    },
    {
     "name": "stdout",
     "output_type": "stream",
     "text": [
      "INFO:tensorflow:Assets written to: ../log/saved_models/faceDetectModelAugmentation_tl\\assets\n"
     ]
    },
    {
     "name": "stderr",
     "output_type": "stream",
     "text": [
      "INFO:tensorflow:Assets written to: ../log/saved_models/faceDetectModelAugmentation_tl\\assets\n"
     ]
    }
   ],
   "source": [
    "model.save(savedModelPath)"
   ]
  },
  {
   "cell_type": "markdown",
   "metadata": {},
   "source": [
    "## Test model with test dataset"
   ]
  },
  {
   "cell_type": "code",
   "execution_count": 134,
   "metadata": {},
   "outputs": [
    {
     "name": "stdout",
     "output_type": "stream",
     "text": [
      "12/12 [==============================] - 13s 1s/step - loss: 0.1114 - accuracy: 0.9688\n",
      "Loss: 0.11144892126321793; Accuracy: 0.9688385128974915\n"
     ]
    }
   ],
   "source": [
    "results = model.evaluate(test_ds)\n",
    "\n",
    "print(f'Loss: {results[0]}; Accuracy: {results[1]}')"
   ]
  },
  {
   "cell_type": "markdown",
   "metadata": {},
   "source": [
    "## Predict new images"
   ]
  },
  {
   "cell_type": "code",
   "execution_count": 135,
   "metadata": {},
   "outputs": [
    {
     "name": "stdout",
     "output_type": "stream",
     "text": [
      "1/1 [==============================] - 1s 903ms/step\n",
      "This image contains no face. (100.00 percent confidence)\n"
     ]
    }
   ],
   "source": [
    "# https://www.tensorflow.org/tutorials/images/classification\n",
    "\n",
    "img = tf.keras.utils.load_img(\n",
    "    '../data/test/NoFace/000001.jpg', target_size=(image_height, image_width)\n",
    ")\n",
    "img_array = tf.keras.utils.img_to_array(img)\n",
    "img_array = tf.expand_dims(img_array, 0) # Create a batch\n",
    "\n",
    "preds = model.predict(img_array)\n",
    "score = preds[0][0]\n",
    "\n",
    "if(score > 0.5):\n",
    "    print(\"This image contains no face. ({:.2f} percent confidence)\".format(100 * score))\n",
    "else:\n",
    "    print(\"This image contains a face. ({:.2f} percent confidence)\".format(100 * (1-score)))"
   ]
  }
 ],
 "metadata": {
  "kernelspec": {
   "display_name": "Python 3.9.13 ('tensorflow_env')",
   "language": "python",
   "name": "python3"
  },
  "language_info": {
   "codemirror_mode": {
    "name": "ipython",
    "version": 3
   },
   "file_extension": ".py",
   "mimetype": "text/x-python",
   "name": "python",
   "nbconvert_exporter": "python",
   "pygments_lexer": "ipython3",
   "version": "3.9.13"
  },
  "orig_nbformat": 4,
  "vscode": {
   "interpreter": {
    "hash": "9db27a884dcbb88570b399c40aec4b1067ba94a1c848619f750f7494e6f7e360"
   }
  }
 },
 "nbformat": 4,
 "nbformat_minor": 2
}
