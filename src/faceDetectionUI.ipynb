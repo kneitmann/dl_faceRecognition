{
 "cells": [
  {
   "cell_type": "markdown",
   "metadata": {},
   "source": [
    "# Face Detection User Interface"
   ]
  },
  {
   "cell_type": "markdown",
   "metadata": {},
   "source": [
    "## Imports"
   ]
  },
  {
   "cell_type": "code",
   "execution_count": null,
   "metadata": {},
   "outputs": [],
   "source": [
    "import os\n",
    "import tensorflow as tf\n",
    "from tensorflow import keras"
   ]
  },
  {
   "cell_type": "markdown",
   "metadata": {},
   "source": [
    "## Parameters"
   ]
  },
  {
   "cell_type": "code",
   "execution_count": null,
   "metadata": {},
   "outputs": [],
   "source": [
    "savedModelsDir = '../log/saved_models/'\n",
    "savedModels = os.listdir(savedModelsDir)\n",
    "savedModelsPaths = list(map(lambda x: str(os.path.realpath(savedModelsDir + x)), savedModels))\n",
    "\n",
    "image_height = 224\n",
    "image_width = 224"
   ]
  },
  {
   "cell_type": "markdown",
   "metadata": {},
   "source": [
    "## Functions"
   ]
  },
  {
   "cell_type": "code",
   "execution_count": null,
   "metadata": {},
   "outputs": [],
   "source": [
    "\n",
    "def printModelsList():\n",
    "    return '\\n'.join([\"[{}] {}\".format(i, savedModels[i]) for i in range(len(savedModels))])\n",
    "\n",
    "def checkModelInput(input):\n",
    "    if not input.isdigit():\n",
    "        return False\n",
    "    modelNr = int(input)\n",
    "    return modelNr < len(savedModels)\n",
    "\n",
    "def checkImagePathInput(input):\n",
    "    return os.path.isfile(input)\n",
    "\n",
    "def predictImageWithModel(imagePath, modelPath):\n",
    "    # Load the model\n",
    "    model = keras.models.load_model(modelPath)\n",
    "\n",
    "    # Load the image and create an image array\n",
    "    img = tf.keras.utils.load_img(imagePath, target_size=(image_height, image_width))\n",
    "    img_array = tf.keras.utils.img_to_array(img)\n",
    "    img_array = tf.expand_dims(img_array, 0) # Create a batch\n",
    "\n",
    "    # Predict the class of the image\n",
    "    preds = model.predict(img_array)\n",
    "    score = preds[0][0]\n",
    "\n",
    "    if(score > 0.5):\n",
    "        return \"This image contains no face. ({:.2f} percent confidence)\".format(100 * score)\n",
    "    else:\n",
    "        return \"This image contains a face. ({:.2f} percent confidence)\".format(100 * (1-score))"
   ]
  },
  {
   "cell_type": "markdown",
   "metadata": {},
   "source": [
    "## User Interface"
   ]
  },
  {
   "cell_type": "code",
   "execution_count": null,
   "metadata": {},
   "outputs": [],
   "source": [
    "while(1):\n",
    "    modelPath = ''\n",
    "    imagePath = ''\n",
    "    quitRequested = False\n",
    "\n",
    "    while(1):\n",
    "        print('\\nPlease enter the index of the model you\\'d like to use.')\n",
    "        print('Enter \\'q\\' to quit the program.\\n')\n",
    "        print(printModelsList())\n",
    "        modelInput = input('Model: ')\n",
    "        if modelInput == 'q': \n",
    "            quitRequested = True\n",
    "            break\n",
    "        if checkModelInput(modelInput): \n",
    "            modelPath = savedModelsPaths[int(modelInput)]\n",
    "            break\n",
    "        else: print('Invalid input.')\n",
    "        \n",
    "    if(quitRequested): break\n",
    "\n",
    "    while(1):\n",
    "        print('Please enter the path to the file you\\'d like to classify.')\n",
    "        print('Enter \\'q\\' to quit the program.\\n')\n",
    "        imageInput = input('Path to image: ')\n",
    "        if imageInput == 'q': \n",
    "                quitRequested = True\n",
    "                break\n",
    "        if checkImagePathInput(imageInput):\n",
    "            imagePath = imageInput\n",
    "            break\n",
    "        else: print('Invalid input.')\n",
    "\n",
    "    if(quitRequested): break\n",
    "    print(f'\\n{predictImageWithModel(imagePath, modelPath)}\\n')"
   ]
  }
 ],
 "metadata": {
  "kernelspec": {
   "display_name": "Python 3.9.13 ('tensorflow_env')",
   "language": "python",
   "name": "python3"
  },
  "language_info": {
   "codemirror_mode": {
    "name": "ipython",
    "version": 3
   },
   "file_extension": ".py",
   "mimetype": "text/x-python",
   "name": "python",
   "nbconvert_exporter": "python",
   "pygments_lexer": "ipython3",
   "version": "3.9.13"
  },
  "orig_nbformat": 4,
  "vscode": {
   "interpreter": {
    "hash": "cb093c5cba338e940f2218658681cebd9a5d8f8bec398f9f020da08f4168391d"
   }
  }
 },
 "nbformat": 4,
 "nbformat_minor": 2
}
