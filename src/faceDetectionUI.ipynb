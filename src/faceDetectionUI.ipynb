{
 "cells": [
  {
   "cell_type": "markdown",
   "metadata": {},
   "source": [
    "# Face Detection User Interface"
   ]
  },
  {
   "cell_type": "markdown",
   "metadata": {},
   "source": [
    "## Imports"
   ]
  },
  {
   "cell_type": "code",
   "execution_count": 3,
   "metadata": {},
   "outputs": [],
   "source": [
    "import os\n",
    "\n",
    "savedModelsDir = '../log/saved_models/'\n",
    "\n",
    "def loadAllModels():\n",
    "    return os.listdir(savedModelsDir)\n",
    "\n",
    "def predictImageWithModel(imagePath, modelPath):\n",
    "    return 'Prediction:\\nThe probability that the image contains a face is 0%'\n"
   ]
  },
  {
   "cell_type": "code",
   "execution_count": 4,
   "metadata": {},
   "outputs": [
    {
     "name": "stdout",
     "output_type": "stream",
     "text": [
      "\n",
      "Which model would you like to use?\n",
      "['faceDetectModel']\n",
      "Which image would you like to classify?\n",
      "\n",
      "Prediction:\n",
      "The probability that the image contains a face is 0%\n",
      "\n",
      "\n",
      "Which model would you like to use?\n",
      "['faceDetectModel']\n",
      "Which image would you like to classify?\n",
      "\n",
      "Prediction:\n",
      "The probability that the image contains a face is 0%\n",
      "\n",
      "\n",
      "Which model would you like to use?\n",
      "['faceDetectModel']\n",
      "Which image would you like to classify?\n",
      "\n",
      "Prediction:\n",
      "The probability that the image contains a face is 0%\n",
      "\n",
      "\n",
      "Which model would you like to use?\n",
      "['faceDetectModel']\n",
      "Which image would you like to classify?\n",
      "\n",
      "Prediction:\n",
      "The probability that the image contains a face is 0%\n",
      "\n",
      "\n",
      "Which model would you like to use?\n",
      "['faceDetectModel']\n",
      "Which image would you like to classify?\n",
      "\n",
      "Prediction:\n",
      "The probability that the image contains a face is 0%\n",
      "\n",
      "\n",
      "Which model would you like to use?\n",
      "['faceDetectModel']\n",
      "Which image would you like to classify?\n",
      "\n",
      "Prediction:\n",
      "The probability that the image contains a face is 0%\n",
      "\n",
      "\n",
      "Which model would you like to use?\n",
      "['faceDetectModel']\n",
      "Which image would you like to classify?\n",
      "\n",
      "Prediction:\n",
      "The probability that the image contains a face is 0%\n",
      "\n",
      "\n",
      "Which model would you like to use?\n",
      "['faceDetectModel']\n"
     ]
    }
   ],
   "source": [
    "while(1):\n",
    "    \n",
    "    print('\\nWhich model would you like to use?')\n",
    "    print(loadAllModels())\n",
    "    modelPath = input('Path to model:')\n",
    "    print('Which image would you like to classify?')\n",
    "    imagePath = input('Path to image:')\n",
    "\n",
    "    print(f'\\n{predictImageWithModel(imagePath, modelPath)}\\n')\n"
   ]
  }
 ],
 "metadata": {
  "kernelspec": {
   "display_name": "Python 3.9.13 ('tensorflow_env')",
   "language": "python",
   "name": "python3"
  },
  "language_info": {
   "codemirror_mode": {
    "name": "ipython",
    "version": 3
   },
   "file_extension": ".py",
   "mimetype": "text/x-python",
   "name": "python",
   "nbconvert_exporter": "python",
   "pygments_lexer": "ipython3",
   "version": "3.9.13"
  },
  "orig_nbformat": 4,
  "vscode": {
   "interpreter": {
    "hash": "cb093c5cba338e940f2218658681cebd9a5d8f8bec398f9f020da08f4168391d"
   }
  }
 },
 "nbformat": 4,
 "nbformat_minor": 2
}
