{
 "cells": [
  {
   "attachments": {},
   "cell_type": "markdown",
   "metadata": {},
   "source": [
    "## Imports"
   ]
  },
  {
   "cell_type": "code",
   "execution_count": 211,
   "metadata": {},
   "outputs": [],
   "source": [
    "import os\n",
    "import glob\n",
    "from PIL import Image"
   ]
  },
  {
   "attachments": {},
   "cell_type": "markdown",
   "metadata": {},
   "source": [
    "## Path variables\n",
    "Variables for the different structure paths."
   ]
  },
  {
   "cell_type": "code",
   "execution_count": 212,
   "metadata": {},
   "outputs": [],
   "source": [
    "testFaceMask = \"../../data/m3/test/face/mask/\"\n",
    "testFaceMaskCounter = 1\n",
    "testFaceMaskLable = \"1_1_\"\n",
    "testFaceNoMask = \"../../data/m3/test/face/noMask/\"\n",
    "testFaceNoMaskCounter = 1\n",
    "testFaceNoMaskLable = \"1_0_\"\n",
    "testNoFace = \"../../data/m3/test/noFace/\"\n",
    "testNoFaceCounter = 1\n",
    "testNoFaceLable = \"0_0_\"\n",
    "trainingFaceMask = \"../../data/m3/training/face/mask/\"\n",
    "trainingFaceMaskCounter = 501\n",
    "trainingFaceMaskLable = \"1_1_\"\n",
    "trainingFaceNoMask = \"../../data/m3/training/face/noMask/\"\n",
    "trainingFaceNoMaskCounter = 1\n",
    "trainingFaceNoMaskLable = \"1_0_\"\n",
    "trainingNoFace = \"../../data/m3/training/noFace/\"\n",
    "trainingNoFaceCounter = 1\n",
    "trainingNoFaceLable = \"0_0_\"\n",
    "maskWithAgeFolder= \"../../../../ComputerVisionBild/m3MaskenBig/images/\"\n",
    "trainingNoFaceCounter = 900000"
   ]
  },
  {
   "attachments": {},
   "cell_type": "markdown",
   "metadata": {},
   "source": [
    "## Change image type to jpg."
   ]
  },
  {
   "cell_type": "code",
   "execution_count": 213,
   "metadata": {},
   "outputs": [],
   "source": [
    "def changeLableImagePngToJpg(path, counterStart, lable):\n",
    "    counter = counterStart\n",
    "    defaultAge = \"217\"\n",
    "    for file in glob.glob(path + '*' + \".png\"):\n",
    "        os.rename(file, path + lable + defaultAge + '_' + str(counter) + '.' + \".jpg\")\n",
    "        counter += 1"
   ]
  },
  {
   "attachments": {},
   "cell_type": "markdown",
   "metadata": {},
   "source": [
    "## Change the lable for the jpg image"
   ]
  },
  {
   "cell_type": "code",
   "execution_count": 214,
   "metadata": {},
   "outputs": [],
   "source": [
    "def changeLableImage(path, counterStart, lable):\n",
    "    counter = counterStart\n",
    "    defaultAge = \"217\"\n",
    "    for file in glob.glob(path + '*' + \".jpg\"):\n",
    "        os.rename(file, path + lable + defaultAge + '_' + str(counter) + '.' + \".jpg\")\n",
    "        counter += 1"
   ]
  },
  {
   "attachments": {},
   "cell_type": "markdown",
   "metadata": {},
   "source": [
    "## Change lable"
   ]
  },
  {
   "cell_type": "code",
   "execution_count": 216,
   "metadata": {},
   "outputs": [],
   "source": [
    "def changeLableImageWithAgeMask(path, counterStart):\n",
    "    counter = counterStart\n",
    "    defaultAge = \"217\"\n",
    "    for file in glob.glob(path + '*' + \".jpg\"):\n",
    "        # split to get the age in the old lable; path\\..._age.jpg\n",
    "        firstLableEle = file.split(\"\\\\\")\n",
    "        lableCompleteWithPath = firstLableEle[1].split(\".\")\n",
    "        lableComplete = lableCompleteWithPath[0]\n",
    "        lableEle = lableComplete.split(\"_\")\n",
    "        if(lableEle[1]==\"1\"):\n",
    "            # lableEle[len(lableEle)-1] to geht the ageLable path \"..._age\"\n",
    "            os.rename(file, path + '1_1_' + lableEle[len(lableEle)-1] + '_' + str(counter) + \".jpg\")     \n",
    "            counter += 1"
   ]
  },
  {
   "attachments": {},
   "cell_type": "markdown",
   "metadata": {},
   "source": [
    "## Function call"
   ]
  },
  {
   "cell_type": "code",
   "execution_count": 218,
   "metadata": {},
   "outputs": [],
   "source": [
    "\n",
    "changeLableImageWithAgeMask(maskWithAgeFolder, trainingNoFaceCounter)\n"
   ]
  }
 ],
 "metadata": {
  "kernelspec": {
   "display_name": "tensorflow_env",
   "language": "python",
   "name": "python3"
  },
  "language_info": {
   "codemirror_mode": {
    "name": "ipython",
    "version": 3
   },
   "file_extension": ".py",
   "mimetype": "text/x-python",
   "name": "python",
   "nbconvert_exporter": "python",
   "pygments_lexer": "ipython3",
   "version": "3.9.15 (main, Nov 24 2022, 14:39:17) [MSC v.1916 64 bit (AMD64)]"
  },
  "orig_nbformat": 4,
  "vscode": {
   "interpreter": {
    "hash": "e835bed0d045645e9c54544f1f004d71899c2dc33915ef0fe048509bab96fa04"
   }
  }
 },
 "nbformat": 4,
 "nbformat_minor": 2
}
