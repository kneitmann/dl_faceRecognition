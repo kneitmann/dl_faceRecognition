{
 "cells": [
  {
   "cell_type": "code",
   "execution_count": 211,
   "metadata": {},
   "outputs": [],
   "source": [
    "import os\n",
    "import glob\n",
    "from PIL import Image"
   ]
  },
  {
   "cell_type": "markdown",
   "metadata": {},
   "source": [
    "Variables for the different structure paths."
   ]
  },
  {
   "cell_type": "code",
   "execution_count": 212,
   "metadata": {},
   "outputs": [],
   "source": [
    "testFaceMask = \"../../data/m3/test/face/mask/\"\n",
    "testFaceMaskCounter = 1\n",
    "testFaceMaskLable = \"1_1_\"\n",
    "testFaceNoMask = \"../../data/m3/test/face/noMask/\"\n",
    "testFaceNoMaskCounter = 1\n",
    "testFaceNoMaskLable = \"1_0_\"\n",
    "testNoFace = \"../../data/m3/test/noFace/\"\n",
    "testNoFaceCounter = 1\n",
    "testNoFaceLable = \"0_0_\"\n",
    "trainingFaceMask = \"../../data/m3/training/face/mask/\"\n",
    "trainingFaceMaskCounter = 501\n",
    "trainingFaceMaskLable = \"1_1_\"\n",
    "trainingFaceNoMask = \"../../data/m3/training/face/noMask/\"\n",
    "trainingFaceNoMaskCounter = 1\n",
    "trainingFaceNoMaskLable = \"1_0_\"\n",
    "trainingNoFace = \"../../data/m3/training/noFace/\"\n",
    "trainingNoFaceCounter = 1\n",
    "trainingNoFaceLable = \"0_0_\"\n",
    "maskWithAgeFolder= \"../../../../ComputerVisionBild/m3MaskenBig/images/\"\n",
    "trainingNoFaceCounter = 900000"
   ]
  },
  {
   "cell_type": "markdown",
   "metadata": {},
   "source": [
    "Change image type to jpg."
   ]
  },
  {
   "cell_type": "code",
   "execution_count": 213,
   "metadata": {},
   "outputs": [],
   "source": [
    "def changeLableImagePngToJpg(path, counterStart, lable):\n",
    "    counter = counterStart\n",
    "    defaultAge = \"217\"\n",
    "    for file in glob.glob(path + '*' + \".png\"):\n",
    "        os.rename(file, path + lable + defaultAge + '_' + str(counter) + '.' + \".jpg\")\n",
    "        counter += 1\n",
    "\n",
    "#Alternative against corruption only error (can not use open on file element) \n",
    "#open image in png format\n",
    "#img_png = Image.open('C:\\gfg\\img.png')\n",
    "  \n",
    "#The image object is used to save the image in jpg format\n",
    "#img_png.save('C:\\gfg\\modified_img.jpg')"
   ]
  },
  {
   "cell_type": "markdown",
   "metadata": {},
   "source": [
    "Change the lable for the jpg image"
   ]
  },
  {
   "cell_type": "code",
   "execution_count": 214,
   "metadata": {},
   "outputs": [],
   "source": [
    "def changeLableImage(path, counterStart, lable):\n",
    "    counter = counterStart\n",
    "    defaultAge = \"217\"\n",
    "    for file in glob.glob(path + '*' + \".jpg\"):\n",
    "        os.rename(file, path + lable + defaultAge + '_' + str(counter) + '.' + \".jpg\")\n",
    "        counter += 1"
   ]
  },
  {
   "cell_type": "markdown",
   "metadata": {},
   "source": [
    "Change the lable for the jpg image and use the current age"
   ]
  },
  {
   "cell_type": "code",
   "execution_count": 215,
   "metadata": {},
   "outputs": [],
   "source": [
    "def changeLableImageWithAge(path, counterStart, lable):\n",
    "    counter = counterStart\n",
    "    defaultAge = \"217\"\n",
    "    for file in glob.glob(path + '*' + \".jpg\"):\n",
    "        # split to get the age in the old lable; path\\age_...\n",
    "        firstLableEle = file.split(\"_\")\n",
    "        ageLableEle = firstLableEle[0].split(\"\\\\\")\n",
    "        os.rename(file, path + lable + ageLableEle[len(ageLableEle)-1] + '_' + str(counter) + \".jpg\")\n",
    "        counter += 1"
   ]
  },
  {
   "attachments": {},
   "cell_type": "markdown",
   "metadata": {},
   "source": [
    "Change lable for kaggle by 86 GB faces with mask"
   ]
  },
  {
   "cell_type": "code",
   "execution_count": 216,
   "metadata": {},
   "outputs": [],
   "source": [
    "def changeLableImageWithAgeMask(path, counterStart):\n",
    "    counter = counterStart\n",
    "    defaultAge = \"217\"\n",
    "    for file in glob.glob(path + '*' + \".jpg\"):\n",
    "        # split to get the age in the old lable; path\\age_...\n",
    "        firstLableEle = file.split(\"\\\\\")\n",
    "        lableCompleteWithPath = firstLableEle[1].split(\".\")\n",
    "        lableComplete = lableCompleteWithPath[0]\n",
    "        lableEle = lableComplete.split(\"_\")\n",
    "        if(lableEle[1]==\"1\"):\n",
    "            os.rename(file, path + '1_1_' + lableEle[len(lableEle)-1] + '_' + str(counter) + \".jpg\")     \n",
    "            counter += 1"
   ]
  },
  {
   "cell_type": "markdown",
   "metadata": {},
   "source": [
    "Exact path for the images"
   ]
  },
  {
   "cell_type": "code",
   "execution_count": 217,
   "metadata": {},
   "outputs": [],
   "source": [
    "def lableImageTrainingFaceMask_function():\n",
    "    return changeLableImagePngToJpg(trainingFaceMask, trainingFaceMaskCounter, trainingFaceMaskLable)\n",
    "\n",
    "def lableImageTrainingFaceNoMaskWithAge_function():\n",
    "    return changeLableImageWithAge(trainingFaceNoMask, trainingFaceNoMaskCounter, trainingFaceNoMaskLable)\n",
    "\n",
    "def lableImageTrainingNoFace_function():\n",
    "    return changeLableImage(trainingNoFace, trainingNoFaceCounter, trainingNoFaceLable)\n",
    "\n",
    "def lableImageTestFaceMask_function():\n",
    "    return changeLableImage(testFaceMask, testFaceMaskCounter, testFaceMaskLable)\n",
    "\n",
    "def lableImageTestFaceNoMask_function():\n",
    "    return changeLableImage(testFaceNoMask, testFaceNoMaskCounter, testFaceNoMaskLable)\n",
    "\n",
    "def lableImageTestNoFace_function():\n",
    "    return changeLableImage(testNoFace, testNoFaceCounter, testNoFaceLable)\n",
    "\n",
    "def changeLableImageWithAgeMask_function():\n",
    "    return changeLableImageWithAgeMask(maskWithAgeFolder, trainingNoFaceCounter)"
   ]
  },
  {
   "cell_type": "markdown",
   "metadata": {},
   "source": [
    "Prepare for some computation time. Over 200.000 Images takes over 2 minutes with a a geforce gtx 1080 and a intel core i7-7700K."
   ]
  },
  {
   "cell_type": "code",
   "execution_count": 218,
   "metadata": {},
   "outputs": [],
   "source": [
    "\n",
    "changeLableImageWithAgeMask_function()\n"
   ]
  }
 ],
 "metadata": {
  "kernelspec": {
   "display_name": "tensorflow_env",
   "language": "python",
   "name": "python3"
  },
  "language_info": {
   "codemirror_mode": {
    "name": "ipython",
    "version": 3
   },
   "file_extension": ".py",
   "mimetype": "text/x-python",
   "name": "python",
   "nbconvert_exporter": "python",
   "pygments_lexer": "ipython3",
   "version": "3.9.15 (main, Nov 24 2022, 14:39:17) [MSC v.1916 64 bit (AMD64)]"
  },
  "orig_nbformat": 4,
  "vscode": {
   "interpreter": {
    "hash": "e835bed0d045645e9c54544f1f004d71899c2dc33915ef0fe048509bab96fa04"
   }
  }
 },
 "nbformat": 4,
 "nbformat_minor": 2
}
