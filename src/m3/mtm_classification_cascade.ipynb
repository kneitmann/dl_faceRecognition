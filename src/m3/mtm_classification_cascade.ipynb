{
 "cells": [
  {
   "cell_type": "markdown",
   "metadata": {},
   "source": [
    "# Multi Task Model"
   ]
  },
  {
   "cell_type": "markdown",
   "metadata": {},
   "source": [
    "## Imports"
   ]
  },
  {
   "cell_type": "code",
   "execution_count": 1,
   "metadata": {},
   "outputs": [],
   "source": [
    "import os\n",
    "import numpy as np\n",
    "import matplotlib.pyplot as plt\n",
    "from itertools import product\n",
    "\n",
    "# Tensorflow imports\n",
    "import tensorflow as tf\n",
    "from tensorflow import keras\n",
    "import keras.backend as K\n",
    "from tensorflow.keras.applications import MobileNet\n",
    "from tensorflow.keras.applications import ResNet50\n",
    "\n",
    "from loadData import createDataset"
   ]
  },
  {
   "cell_type": "markdown",
   "metadata": {},
   "source": [
    "## Model parameters"
   ]
  },
  {
   "cell_type": "code",
   "execution_count": 2,
   "metadata": {},
   "outputs": [],
   "source": [
    "# Log parameters\n",
    "model_name = 'mtm_classification_cascade'\n",
    "savedModelPath = f'../../log/saved_models/{model_name}'\n",
    "tb_log_dir = f'../../log/tensorboard/{model_name}'\n",
    "cp_filepath = f'../../log/cps/{model_name}/'\n",
    "\n",
    "if not os.path.exists(cp_filepath):\n",
    "    os.makedirs(cp_filepath)\n",
    "\n",
    "cp_filepath += 'latest_weights.h5'\n",
    "\n",
    "# Dynamic hyperparameters\n",
    "learningRate = 0.001\n",
    "doDataAugmentation = True\n",
    "doFineTuning = True\n",
    "dropoutRate = 0.25\n",
    "width_multiplier = 1\n",
    "depth_multiplier = 1\n",
    "\n",
    "# Training parameters\n",
    "batch_size = 32\n",
    "epochs = 5"
   ]
  },
  {
   "cell_type": "markdown",
   "metadata": {},
   "source": [
    "## Model callbacks"
   ]
  },
  {
   "cell_type": "code",
   "execution_count": 3,
   "metadata": {},
   "outputs": [],
   "source": [
    "callbacks = [\n",
    "    # Checkpoint callback                    \n",
    "    keras.callbacks.ModelCheckpoint(\n",
    "                    filepath=cp_filepath, \n",
    "                    verbose=1, \n",
    "                    save_weights_only=True),\n",
    "\n",
    "    # Tensorboard callback\n",
    "    keras.callbacks.TensorBoard(log_dir=tb_log_dir, histogram_freq=1),\n",
    "\n",
    "    # Early Stopping callback\n",
    "    # keras.callbacks.EarlyStopping(\n",
    "    #                 monitor=\"val_loss\",\n",
    "    #                 patience=2,\n",
    "    #                 verbose=1)\n",
    "]"
   ]
  },
  {
   "cell_type": "markdown",
   "metadata": {},
   "source": [
    "## Data parameters"
   ]
  },
  {
   "cell_type": "code",
   "execution_count": 4,
   "metadata": {},
   "outputs": [],
   "source": [
    "image_height = 160\n",
    "image_width = 160\n",
    "\n",
    "use_age_groups = False\n",
    "num_age_classes = 8 if use_age_groups else 122\n",
    "\n",
    "age_classes_dict = {\n",
    "    0 : \"0-13\",\n",
    "    1 : \"14-19\",\n",
    "    2 : \"20-29\",\n",
    "    3 : \"30-39\",\n",
    "    4 : \"40-49\",\n",
    "    5 : \"50-59\",\n",
    "    6 : \"60+\",\n",
    "    7 : \"-\"\n",
    "}"
   ]
  },
  {
   "cell_type": "markdown",
   "metadata": {},
   "source": [
    "## Data Augmentation"
   ]
  },
  {
   "cell_type": "code",
   "execution_count": 5,
   "metadata": {},
   "outputs": [],
   "source": [
    "data_augmentation = keras.Sequential(\n",
    "    [\n",
    "        keras.layers.RandomRotation(0.1),\n",
    "        keras.layers.RandomBrightness(0.2),\n",
    "    ]\n",
    ")"
   ]
  },
  {
   "cell_type": "markdown",
   "metadata": {},
   "source": [
    "## Creating the training datasets"
   ]
  },
  {
   "cell_type": "code",
   "execution_count": 6,
   "metadata": {},
   "outputs": [],
   "source": [
    "x, y_face, y_mask, y_age = createDataset('../../data/m3/training', (image_height, image_width), use_age_groups=use_age_groups)\n",
    "\n",
    "# for y in y_age:\n",
    "#     print(y)"
   ]
  },
  {
   "cell_type": "markdown",
   "metadata": {},
   "source": [
    "## Creating the test dataset"
   ]
  },
  {
   "cell_type": "code",
   "execution_count": 7,
   "metadata": {},
   "outputs": [],
   "source": [
    "# test_ds = createDataset('../../data/m3/training', batch_size, 0)"
   ]
  },
  {
   "cell_type": "markdown",
   "metadata": {},
   "source": [
    "## Load the ResNet model"
   ]
  },
  {
   "cell_type": "code",
   "execution_count": 8,
   "metadata": {},
   "outputs": [
    {
     "name": "stdout",
     "output_type": "stream",
     "text": [
      "WARNING:tensorflow:Using a while_loop for converting RngReadAndSkip cause there is no registered converter for this op.\n",
      "WARNING:tensorflow:Using a while_loop for converting Bitcast cause there is no registered converter for this op.\n",
      "WARNING:tensorflow:Using a while_loop for converting Bitcast cause there is no registered converter for this op.\n",
      "WARNING:tensorflow:Using a while_loop for converting StatelessRandomUniformV2 cause there is no registered converter for this op.\n",
      "WARNING:tensorflow:Using a while_loop for converting ImageProjectiveTransformV3 cause there is no registered converter for this op.\n",
      "WARNING:tensorflow:Using a while_loop for converting RngReadAndSkip cause there is no registered converter for this op.\n",
      "WARNING:tensorflow:Using a while_loop for converting Bitcast cause there is no registered converter for this op.\n",
      "WARNING:tensorflow:Using a while_loop for converting Bitcast cause there is no registered converter for this op.\n",
      "WARNING:tensorflow:Using a while_loop for converting StatelessRandomUniformV2 cause there is no registered converter for this op.\n",
      "WARNING:tensorflow:Using a while_loop for converting RngReadAndSkip cause there is no registered converter for this op.\n",
      "WARNING:tensorflow:Using a while_loop for converting Bitcast cause there is no registered converter for this op.\n",
      "WARNING:tensorflow:Using a while_loop for converting Bitcast cause there is no registered converter for this op.\n",
      "WARNING:tensorflow:Using a while_loop for converting StatelessRandomUniformV2 cause there is no registered converter for this op.\n",
      "WARNING:tensorflow:Using a while_loop for converting ImageProjectiveTransformV3 cause there is no registered converter for this op.\n",
      "WARNING:tensorflow:Using a while_loop for converting RngReadAndSkip cause there is no registered converter for this op.\n",
      "WARNING:tensorflow:Using a while_loop for converting Bitcast cause there is no registered converter for this op.\n",
      "WARNING:tensorflow:Using a while_loop for converting Bitcast cause there is no registered converter for this op.\n",
      "WARNING:tensorflow:Using a while_loop for converting StatelessRandomUniformV2 cause there is no registered converter for this op.\n"
     ]
    }
   ],
   "source": [
    "# Loading either the MobileNet architecture model or the previously saved model, and freeze it for transfer learning\n",
    "mobilenet = ResNet50(\n",
    "                input_shape=(image_height, image_width, 3), # Optional shape tuple, only to be specified if include_top is False\n",
    "                # alpha=width_multiplier, # Controls the width of the network. (Width multiplier)\n",
    "                # depth_multiplier=depth_multiplier, # Depth multiplier for depthwise convolution. (Resolution multiplier)\n",
    "                # dropout=dropoutRate, # Dropout rate. Default to 0.001.\n",
    "                weights=\"imagenet\",\n",
    "                # input_tensor=None,\n",
    "                # pooling='avg', # Optional pooling mode for feature extraction when include_top is False. (None, avg, max)\n",
    "                include_top=False\n",
    "                )\n",
    "           \n",
    "# Freeze the base model\n",
    "mobilenet.trainable = False\n",
    "\n",
    "inputs = keras.Input(shape=(image_height, image_width, 3))\n",
    "\n",
    "# Data Augmentation on input\n",
    "if(doDataAugmentation):\n",
    "    inputs = data_augmentation(inputs)\n",
    "\n",
    "# Running base model in inference mode\n",
    "base_model = mobilenet(inputs, training=False)\n",
    "base_model = keras.layers.GlobalAveragePooling2D()(base_model)\n",
    "base_model = keras.layers.Dense(1024)(base_model)\n",
    "base_model = keras.layers.Dropout(0.3)(base_model)"
   ]
  },
  {
   "cell_type": "markdown",
   "metadata": {},
   "source": [
    "## Creating Task 1 (Face Detection) Top Model"
   ]
  },
  {
   "cell_type": "code",
   "execution_count": 9,
   "metadata": {},
   "outputs": [],
   "source": [
    "# Add Dense layer\n",
    "face_head = tf.keras.layers.Dense(256, activation='relu')(base_model)\n",
    "face_head = keras.layers.BatchNormalization()(face_head)\n",
    "face_head = keras.layers.Activation('relu')(face_head)\n",
    "face_head = keras.layers.Dropout(0.2)(face_head)\n",
    "face_head = tf.keras.layers.Dense(128, activation='relu')(face_head)\n",
    "\n",
    "# Final layer for binary classification\n",
    "face_outputs = keras.layers.Dense(1, activation='sigmoid')(face_head)"
   ]
  },
  {
   "cell_type": "code",
   "execution_count": 10,
   "metadata": {},
   "outputs": [],
   "source": [
    "multiply_layer = keras.layers.Multiply()([base_model, face_outputs])\n",
    "multiply_layer = keras.layers.Dense(512, activation='relu')(multiply_layer)"
   ]
  },
  {
   "cell_type": "markdown",
   "metadata": {},
   "source": [
    "## Creating Task 2 (Mask Detection) Top Model"
   ]
  },
  {
   "cell_type": "code",
   "execution_count": 11,
   "metadata": {},
   "outputs": [],
   "source": [
    "# Add Dense layer\n",
    "mask_head = tf.keras.layers.Dense(128, activation='relu')(multiply_layer)\n",
    "mask_head = keras.layers.BatchNormalization()(mask_head)\n",
    "mask_head = keras.layers.Activation('relu')(mask_head)\n",
    "mask_head = keras.layers.Dropout(0.2)(mask_head)\n",
    "mask_head = tf.keras.layers.Dense(64, activation='relu')(mask_head)\n",
    "\n",
    "# Final layer for binary classification\n",
    "mask_outputs = keras.layers.Dense(1, activation='sigmoid', name='mask_output')(mask_head)"
   ]
  },
  {
   "cell_type": "markdown",
   "metadata": {},
   "source": [
    "## Creating Task 3 (Age Prediction) Top Model"
   ]
  },
  {
   "cell_type": "code",
   "execution_count": 12,
   "metadata": {},
   "outputs": [],
   "source": [
    "# Add Dense layer\n",
    "age_head = tf.keras.layers.Dense(256, activation='relu')(multiply_layer)\n",
    "age_head = keras.layers.BatchNormalization()(age_head)\n",
    "age_head = keras.layers.Activation('relu')(age_head)\n",
    "age_head = keras.layers.Dropout(0.2)(age_head)\n",
    "age_head = tf.keras.layers.Dense(128, activation='relu')(age_head)\n",
    "age_head = tf.keras.layers.Dense(64, activation='relu')(age_head)\n",
    "\n",
    "# Final layer for binary classification\n",
    "age_outputs = keras.layers.Dense(num_age_classes, activation='softmax', name='age_output')(age_head)"
   ]
  },
  {
   "cell_type": "code",
   "execution_count": 13,
   "metadata": {},
   "outputs": [],
   "source": [
    "face_outputs = keras.layers.Dense(1, activation='sigmoid', name='face_output')(multiply_layer)"
   ]
  },
  {
   "cell_type": "code",
   "execution_count": 14,
   "metadata": {},
   "outputs": [],
   "source": [
    "age_class_weights = np.ones((batch_size,num_age_classes), dtype=np.float32)\n",
    "age_class_weights[:, num_age_classes-1] = 0.0 # Last class will be ignored (invalid data)\n",
    "\n",
    "def WeightedCategoricalCrossentropy(y_true, y_pred):\n",
    "    nb_cl = len(age_class_weights)\n",
    "    final_mask = K.zeros_like(y_pred[:, 0])\n",
    "    y_pred_max = K.max(y_pred, axis=1)\n",
    "    y_pred_max = K.reshape(y_pred_max, (K.shape(y_pred)[0], 1))\n",
    "    y_pred_max_mat = K.equal(y_pred, y_pred_max)\n",
    "    y_pred_max_mat = tf.where(y_pred_max_mat, 1.0, 0.0)\n",
    "    for c_p, c_t in product(range(nb_cl), range(nb_cl)):\n",
    "        final_mask += (age_class_weights[c_t, c_p] * y_pred_max_mat[:, c_p] * y_true[:, c_t])\n",
    "    return K.categorical_crossentropy(y_pred, y_true) * final_mask"
   ]
  },
  {
   "cell_type": "markdown",
   "metadata": {},
   "source": [
    "## Creating and compiling the final model"
   ]
  },
  {
   "cell_type": "code",
   "execution_count": 15,
   "metadata": {},
   "outputs": [
    {
     "name": "stdout",
     "output_type": "stream",
     "text": [
      "Model: \"model\"\n",
      "__________________________________________________________________________________________________\n",
      " Layer (type)                   Output Shape         Param #     Connected to                     \n",
      "==================================================================================================\n",
      " input_3 (InputLayer)           [(None, 160, 160, 3  0           []                               \n",
      "                                )]                                                                \n",
      "                                                                                                  \n",
      " resnet50 (Functional)          (None, 5, 5, 2048)   23587712    ['input_3[0][0]']                \n",
      "                                                                                                  \n",
      " global_average_pooling2d (Glob  (None, 2048)        0           ['resnet50[1][0]']               \n",
      " alAveragePooling2D)                                                                              \n",
      "                                                                                                  \n",
      " dense (Dense)                  (None, 1024)         2098176     ['global_average_pooling2d[1][0]'\n",
      "                                                                 ]                                \n",
      "                                                                                                  \n",
      " dropout (Dropout)              (None, 1024)         0           ['dense[1][0]']                  \n",
      "                                                                                                  \n",
      " dense_1 (Dense)                (None, 256)          262400      ['dropout[1][0]']                \n",
      "                                                                                                  \n",
      " batch_normalization (BatchNorm  (None, 256)         1024        ['dense_1[1][0]']                \n",
      " alization)                                                                                       \n",
      "                                                                                                  \n",
      " activation (Activation)        (None, 256)          0           ['batch_normalization[1][0]']    \n",
      "                                                                                                  \n",
      " dropout_1 (Dropout)            (None, 256)          0           ['activation[1][0]']             \n",
      "                                                                                                  \n",
      " dense_2 (Dense)                (None, 128)          32896       ['dropout_1[1][0]']              \n",
      "                                                                                                  \n",
      " dense_3 (Dense)                (None, 1)            129         ['dense_2[1][0]']                \n",
      "                                                                                                  \n",
      " multiply (Multiply)            (None, 1024)         0           ['dropout[1][0]',                \n",
      "                                                                  'dense_3[1][0]']                \n",
      "                                                                                                  \n",
      " dense_4 (Dense)                (None, 512)          524800      ['multiply[1][0]']               \n",
      "                                                                                                  \n",
      " dense_7 (Dense)                (None, 256)          131328      ['dense_4[1][0]']                \n",
      "                                                                                                  \n",
      " dense_5 (Dense)                (None, 128)          65664       ['dense_4[1][0]']                \n",
      "                                                                                                  \n",
      " batch_normalization_2 (BatchNo  (None, 256)         1024        ['dense_7[1][0]']                \n",
      " rmalization)                                                                                     \n",
      "                                                                                                  \n",
      " batch_normalization_1 (BatchNo  (None, 128)         512         ['dense_5[1][0]']                \n",
      " rmalization)                                                                                     \n",
      "                                                                                                  \n",
      " activation_2 (Activation)      (None, 256)          0           ['batch_normalization_2[1][0]']  \n",
      "                                                                                                  \n",
      " activation_1 (Activation)      (None, 128)          0           ['batch_normalization_1[1][0]']  \n",
      "                                                                                                  \n",
      " dropout_3 (Dropout)            (None, 256)          0           ['activation_2[1][0]']           \n",
      "                                                                                                  \n",
      " dropout_2 (Dropout)            (None, 128)          0           ['activation_1[1][0]']           \n",
      "                                                                                                  \n",
      " dense_8 (Dense)                (None, 128)          32896       ['dropout_3[1][0]']              \n",
      "                                                                                                  \n",
      " dense_6 (Dense)                (None, 64)           8256        ['dropout_2[1][0]']              \n",
      "                                                                                                  \n",
      " dense_9 (Dense)                (None, 64)           8256        ['dense_8[1][0]']                \n",
      "                                                                                                  \n",
      " face_output (Dense)            (None, 1)            513         ['dense_4[1][0]']                \n",
      "                                                                                                  \n",
      " mask_output (Dense)            (None, 1)            65          ['dense_6[1][0]']                \n",
      "                                                                                                  \n",
      " age_output (Dense)             (None, 122)          7930        ['dense_9[1][0]']                \n",
      "                                                                                                  \n",
      "==================================================================================================\n",
      "Total params: 26,763,581\n",
      "Trainable params: 3,174,589\n",
      "Non-trainable params: 23,588,992\n",
      "__________________________________________________________________________________________________\n"
     ]
    }
   ],
   "source": [
    "\n",
    "model = keras.Model(inputs, [face_outputs, mask_outputs, age_outputs])\n",
    "#keras.utils.plot_model(model)\n",
    "\n",
    "# Using a joint loss function for the three tasks:\n",
    "# [ Loss = gamma * Loss_task1 + gamma * Loss_task2 + gamma * Loss_task3 ]\n",
    "# Because every task is dependant on every other task, the model receives the loss of every task when gamma > 0\n",
    "\n",
    "gamma = 1\n",
    "\n",
    "model.compile(\n",
    "      optimizer=keras.optimizers.Adam(), # Learning Rate?\n",
    "            loss={\n",
    "                  'face_output': 'binary_crossentropy', \n",
    "                  'mask_output': 'binary_crossentropy',\n",
    "                  'age_output': 'categorical_crossentropy'\n",
    "                  },\n",
    "            loss_weights={\n",
    "                  'face_output': 0.33 * gamma,\n",
    "                  'mask_output': 0.33 * gamma,\n",
    "                  'age_output': 0.33 * gamma\n",
    "                  }, \n",
    "            metrics={\n",
    "                  'face_output': 'binary_accuracy', \n",
    "                  'mask_output': 'binary_accuracy',\n",
    "                  'age_output': 'categorical_accuracy'\n",
    "                  },\n",
    ")\n",
    "\n",
    "model.summary()"
   ]
  },
  {
   "cell_type": "markdown",
   "metadata": {},
   "source": [
    "## Training the model with the dataset"
   ]
  },
  {
   "cell_type": "code",
   "execution_count": 16,
   "metadata": {},
   "outputs": [
    {
     "name": "stdout",
     "output_type": "stream",
     "text": [
      "Epoch 1/5\n",
      "425/425 [==============================] - ETA: 0s - loss: 0.8209 - face_output_loss: 0.0990 - mask_output_loss: 0.0428 - age_output_loss: 2.3456 - face_output_binary_accuracy: 0.9915 - mask_output_binary_accuracy: 0.9861 - age_output_categorical_accuracy: 0.4549\n",
      "Epoch 1: saving model to ../../log/cps/mtm_classification_cascade\\latest_weights.h5\n",
      "425/425 [==============================] - 318s 738ms/step - loss: 0.8209 - face_output_loss: 0.0990 - mask_output_loss: 0.0428 - age_output_loss: 2.3456 - face_output_binary_accuracy: 0.9915 - mask_output_binary_accuracy: 0.9861 - age_output_categorical_accuracy: 0.4549 - val_loss: 0.7294 - val_face_output_loss: 0.0609 - val_mask_output_loss: 0.0121 - val_age_output_loss: 2.1372 - val_face_output_binary_accuracy: 0.9965 - val_mask_output_binary_accuracy: 0.9953 - val_age_output_categorical_accuracy: 0.4888\n",
      "Epoch 2/5\n",
      "425/425 [==============================] - ETA: 0s - loss: 0.7352 - face_output_loss: 0.0812 - mask_output_loss: 0.0176 - age_output_loss: 2.1290 - face_output_binary_accuracy: 0.9966 - mask_output_binary_accuracy: 0.9940 - age_output_categorical_accuracy: 0.4741\n",
      "Epoch 2: saving model to ../../log/cps/mtm_classification_cascade\\latest_weights.h5\n",
      "425/425 [==============================] - 317s 747ms/step - loss: 0.7352 - face_output_loss: 0.0812 - mask_output_loss: 0.0176 - age_output_loss: 2.1290 - face_output_binary_accuracy: 0.9966 - mask_output_binary_accuracy: 0.9940 - age_output_categorical_accuracy: 0.4741 - val_loss: 0.6951 - val_face_output_loss: 0.0195 - val_mask_output_loss: 0.0111 - val_age_output_loss: 2.0757 - val_face_output_binary_accuracy: 0.9971 - val_mask_output_binary_accuracy: 0.9985 - val_age_output_categorical_accuracy: 0.4885\n",
      "Epoch 3/5\n",
      "425/425 [==============================] - ETA: 0s - loss: 0.7026 - face_output_loss: 0.0345 - mask_output_loss: 0.0093 - age_output_loss: 2.0854 - face_output_binary_accuracy: 0.9972 - mask_output_binary_accuracy: 0.9979 - age_output_categorical_accuracy: 0.4755\n",
      "Epoch 3: saving model to ../../log/cps/mtm_classification_cascade\\latest_weights.h5\n"
     ]
    }
   ],
   "source": [
    "history = model.fit(\n",
    "            x,\n",
    "            y={'face_output': y_face, \n",
    "             'mask_output': y_mask,\n",
    "             'age_output': y_age},\n",
    "            batch_size=batch_size,\n",
    "            epochs=epochs, \n",
    "            callbacks=callbacks,\n",
    "            validation_split=0.2,\n",
    "            shuffle=True\n",
    "        )"
   ]
  },
  {
   "cell_type": "markdown",
   "metadata": {},
   "source": [
    "## Fine tuning"
   ]
  },
  {
   "cell_type": "code",
   "execution_count": null,
   "metadata": {},
   "outputs": [],
   "source": [
    "if doFineTuning:\n",
    "      model_name = model_name + '_ft'\n",
    "      mobilenet.trainable = True\n",
    "      model.summary()\n",
    "\n",
    "      model.compile(\n",
    "            optimizer=keras.optimizers.Adam(1e-5),  # Low learning rate\n",
    "            loss={\n",
    "                  'face_output': keras.losses.BinaryCrossentropy(), \n",
    "                  'mask_output': keras.losses.BinaryCrossentropy(),\n",
    "                  'age_output': keras.losses.SparseCategoricalCrossentropy(ignore_class=-1)\n",
    "                  },\n",
    "            loss_weights={\n",
    "                  'face_output': gamma, \n",
    "                  'mask_output': gamma,\n",
    "                  'age_output': gamma\n",
    "                  }, \n",
    "                  metrics=['accuracy']\n",
    "      )\n",
    "\n",
    "      model.fit(training_ds, epochs=epochs)"
   ]
  },
  {
   "cell_type": "markdown",
   "metadata": {},
   "source": [
    "## Save the model"
   ]
  },
  {
   "cell_type": "code",
   "execution_count": null,
   "metadata": {},
   "outputs": [],
   "source": [
    "model.save(savedModelPath)"
   ]
  },
  {
   "cell_type": "markdown",
   "metadata": {},
   "source": [
    "## Test model with test dataset"
   ]
  },
  {
   "cell_type": "code",
   "execution_count": null,
   "metadata": {},
   "outputs": [],
   "source": [
    "results = model.evaluate(test_ds)\n",
    "\n",
    "print(f'Loss: {results[0]}; Accuracy: {results[1]}')"
   ]
  },
  {
   "cell_type": "code",
   "execution_count": null,
   "metadata": {},
   "outputs": [],
   "source": [
    "loaded_model = keras.models.load_model('../../log/saved_models/mtm_classification_cascade/')"
   ]
  },
  {
   "cell_type": "markdown",
   "metadata": {},
   "source": [
    "## Predict new images"
   ]
  },
  {
   "cell_type": "code",
   "execution_count": null,
   "metadata": {},
   "outputs": [],
   "source": [
    "# https://www.tensorflow.org/tutorials/images/classification\n",
    "\n",
    "img_path = '../../data/m3/training/face/mask/1_1_34_900187.jpg'\n",
    "img_path_split = img_path.split('/')\n",
    "img_name = img_path_split[len(img_path_split)-1]\n",
    "img_name_split = img_name.split('_')\n",
    "face_actual = img_name_split[0]\n",
    "mask_actual = img_name_split[1]\n",
    "age_actual = img_name_split[2]\n",
    "\n",
    "img = tf.keras.utils.load_img(\n",
    "    img_path, target_size=(image_height, image_width)\n",
    ")\n",
    "img_array = tf.keras.utils.img_to_array(img)\n",
    "img_array_batch = tf.expand_dims(img_array, 0) # Create a batch\n",
    "\n",
    "preds = loaded_model.predict(img_array_batch)\n",
    "age_output_indexes = np.array([i for i in range(0, num_age_classes)])\n",
    "\n",
    "face_pred_percent = preds[0][0][0]*100\n",
    "mask_pred_percent = preds[1][0][0]*100\n",
    "age_preds = preds[2][0]\n",
    "apparent_predictions = np.sum(age_preds * age_output_indexes)\n",
    "\n",
    "if use_age_groups:\n",
    "    age_pred = age_classes_dict[np.argmax(age_preds)]\n",
    "else:\n",
    "    age_pred = np.argmax(age_preds)\n",
    "\n",
    "ax = plt.subplot(1, 1, 1)\n",
    "plt.imshow(img)\n",
    "plt.title(\"Face: {:.2f}% | Mask: {:.2f}% | Age: {} (Actual: {})\".format(face_pred_percent, mask_pred_percent, age_pred, age_actual))"
   ]
  }
 ],
 "metadata": {
  "kernelspec": {
   "display_name": "Python 3.9.13 ('tensorflow_env')",
   "language": "python",
   "name": "python3"
  },
  "language_info": {
   "codemirror_mode": {
    "name": "ipython",
    "version": 3
   },
   "file_extension": ".py",
   "mimetype": "text/x-python",
   "name": "python",
   "nbconvert_exporter": "python",
   "pygments_lexer": "ipython3",
   "version": "3.10.6 | packaged by conda-forge | (main, Oct  7 2022, 20:14:50) [MSC v.1916 64 bit (AMD64)]"
  },
  "orig_nbformat": 4,
  "vscode": {
   "interpreter": {
    "hash": "cb093c5cba338e940f2218658681cebd9a5d8f8bec398f9f020da08f4168391d"
   }
  }
 },
 "nbformat": 4,
 "nbformat_minor": 2
}
