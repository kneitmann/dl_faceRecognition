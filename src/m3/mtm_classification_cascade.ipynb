{
 "cells": [
  {
   "cell_type": "markdown",
   "metadata": {},
   "source": [
    "# Multi Task Model"
   ]
  },
  {
   "cell_type": "markdown",
   "metadata": {},
   "source": [
    "## Imports"
   ]
  },
  {
   "cell_type": "code",
   "execution_count": 1,
   "metadata": {},
   "outputs": [],
   "source": [
    "import os\n",
    "import numpy as np\n",
    "import matplotlib.pyplot as plt\n",
    "from itertools import product\n",
    "\n",
    "# Tensorflow imports\n",
    "import tensorflow as tf\n",
    "from tensorflow import keras\n",
    "import keras.backend as K\n",
    "from tensorflow.keras.applications import MobileNet\n",
    "from tensorflow.keras.applications import ResNet50\n",
    "\n",
    "from loadData_alt import createDataset"
   ]
  },
  {
   "cell_type": "markdown",
   "metadata": {},
   "source": [
    "## Model parameters"
   ]
  },
  {
   "cell_type": "code",
   "execution_count": 2,
   "metadata": {},
   "outputs": [],
   "source": [
    "# Log parameters\n",
    "model_name = 'mtm_classification_cascade'\n",
    "savedModelPath = f'../../log/saved_models/{model_name}'\n",
    "tb_log_dir = f'../../log/tensorboard/{model_name}'\n",
    "cp_filepath = f'../../log/cps/{model_name}/'\n",
    "\n",
    "if not os.path.exists(cp_filepath):\n",
    "    os.makedirs(cp_filepath)\n",
    "\n",
    "cp_filepath += 'latest_weights.h5'\n",
    "\n",
    "# Dynamic hyperparameters\n",
    "learningRate = 0.001\n",
    "doDataAugmentation = True\n",
    "dropoutRate = 0.25\n",
    "width_multiplier = 1\n",
    "depth_multiplier = 1\n",
    "\n",
    "# Training parameters\n",
    "batch_size = 32\n",
    "epochs = 10"
   ]
  },
  {
   "cell_type": "markdown",
   "metadata": {},
   "source": [
    "## Model callbacks"
   ]
  },
  {
   "cell_type": "code",
   "execution_count": 3,
   "metadata": {},
   "outputs": [],
   "source": [
    "callbacks = [\n",
    "    # Checkpoint callback                    \n",
    "    keras.callbacks.ModelCheckpoint(\n",
    "                    filepath=cp_filepath, \n",
    "                    verbose=1, \n",
    "                    save_weights_only=True),\n",
    "\n",
    "    # Tensorboard callback\n",
    "    keras.callbacks.TensorBoard(log_dir=tb_log_dir, histogram_freq=1),\n",
    "\n",
    "    # Early Stopping callback\n",
    "    # keras.callbacks.EarlyStopping(\n",
    "    #                 monitor=\"val_loss\",\n",
    "    #                 patience=2,\n",
    "    #                 verbose=1)\n",
    "]"
   ]
  },
  {
   "cell_type": "markdown",
   "metadata": {},
   "source": [
    "## Data parameters"
   ]
  },
  {
   "cell_type": "code",
   "execution_count": 4,
   "metadata": {},
   "outputs": [],
   "source": [
    "image_height = 160\n",
    "image_width = 160\n",
    "\n",
    "use_age_groups = False\n",
    "num_age_classes = 8 if use_age_groups else 122\n",
    "\n",
    "age_classes_dict = {\n",
    "    0 : \"0-13\",\n",
    "    1 : \"14-19\",\n",
    "    2 : \"20-29\",\n",
    "    3 : \"30-39\",\n",
    "    4 : \"40-49\",\n",
    "    5 : \"50-59\",\n",
    "    6 : \"60+\",\n",
    "    7 : \"-\"\n",
    "}"
   ]
  },
  {
   "cell_type": "markdown",
   "metadata": {},
   "source": [
    "## Data Augmentation"
   ]
  },
  {
   "cell_type": "code",
   "execution_count": 5,
   "metadata": {},
   "outputs": [],
   "source": [
    "data_augmentation = keras.Sequential(\n",
    "    [\n",
    "        keras.layers.RandomRotation(0.1),\n",
    "        keras.layers.RandomBrightness(0.2),\n",
    "    ]\n",
    ")"
   ]
  },
  {
   "cell_type": "markdown",
   "metadata": {},
   "source": [
    "## Creating the training datasets"
   ]
  },
  {
   "cell_type": "code",
   "execution_count": 6,
   "metadata": {},
   "outputs": [
    {
     "name": "stdout",
     "output_type": "stream",
     "text": [
      "WARNING:tensorflow:From c:\\Users\\Zolkin\\anaconda3\\envs\\tensorflow_env\\lib\\site-packages\\tensorflow\\python\\autograph\\pyct\\static_analysis\\liveness.py:83: Analyzer.lamba_check (from tensorflow.python.autograph.pyct.static_analysis.liveness) is deprecated and will be removed after 2023-09-23.\n",
      "Instructions for updating:\n",
      "Lambda fuctions will be no more assumed to be used in the statement where they are used, or at least in the same block. https://github.com/tensorflow/tensorflow/issues/56089\n"
     ]
    }
   ],
   "source": [
    "training_ds, validation_ds = createDataset('../../data/m3/training', (image_height, image_width), batch_size, 0.2, use_age_groups=use_age_groups)"
   ]
  },
  {
   "cell_type": "markdown",
   "metadata": {},
   "source": [
    "## Load the ResNet model"
   ]
  },
  {
   "cell_type": "code",
   "execution_count": 7,
   "metadata": {},
   "outputs": [
    {
     "name": "stdout",
     "output_type": "stream",
     "text": [
      "WARNING:tensorflow:Using a while_loop for converting RngReadAndSkip cause there is no registered converter for this op.\n",
      "WARNING:tensorflow:Using a while_loop for converting Bitcast cause there is no registered converter for this op.\n",
      "WARNING:tensorflow:Using a while_loop for converting Bitcast cause there is no registered converter for this op.\n",
      "WARNING:tensorflow:Using a while_loop for converting StatelessRandomUniformV2 cause there is no registered converter for this op.\n",
      "WARNING:tensorflow:Using a while_loop for converting ImageProjectiveTransformV3 cause there is no registered converter for this op.\n",
      "WARNING:tensorflow:Using a while_loop for converting RngReadAndSkip cause there is no registered converter for this op.\n",
      "WARNING:tensorflow:Using a while_loop for converting Bitcast cause there is no registered converter for this op.\n",
      "WARNING:tensorflow:Using a while_loop for converting Bitcast cause there is no registered converter for this op.\n",
      "WARNING:tensorflow:Using a while_loop for converting StatelessRandomUniformV2 cause there is no registered converter for this op.\n",
      "WARNING:tensorflow:Using a while_loop for converting RngReadAndSkip cause there is no registered converter for this op.\n",
      "WARNING:tensorflow:Using a while_loop for converting Bitcast cause there is no registered converter for this op.\n",
      "WARNING:tensorflow:Using a while_loop for converting Bitcast cause there is no registered converter for this op.\n",
      "WARNING:tensorflow:Using a while_loop for converting StatelessRandomUniformV2 cause there is no registered converter for this op.\n",
      "WARNING:tensorflow:Using a while_loop for converting ImageProjectiveTransformV3 cause there is no registered converter for this op.\n",
      "WARNING:tensorflow:Using a while_loop for converting RngReadAndSkip cause there is no registered converter for this op.\n",
      "WARNING:tensorflow:Using a while_loop for converting Bitcast cause there is no registered converter for this op.\n",
      "WARNING:tensorflow:Using a while_loop for converting Bitcast cause there is no registered converter for this op.\n",
      "WARNING:tensorflow:Using a while_loop for converting StatelessRandomUniformV2 cause there is no registered converter for this op.\n"
     ]
    }
   ],
   "source": [
    "# Loading either the MobileNet architecture model or the previously saved model, and freeze it for transfer learning\n",
    "mobilenet = ResNet50(\n",
    "                input_shape=(image_height, image_width, 3), # Optional shape tuple, only to be specified if include_top is False\n",
    "                # alpha=width_multiplier, # Controls the width of the network. (Width multiplier)\n",
    "                # depth_multiplier=depth_multiplier, # Depth multiplier for depthwise convolution. (Resolution multiplier)\n",
    "                # dropout=dropoutRate, # Dropout rate. Default to 0.001.\n",
    "                weights=\"imagenet\",\n",
    "                # input_tensor=None,\n",
    "                # pooling='avg', # Optional pooling mode for feature extraction when include_top is False. (None, avg, max)\n",
    "                include_top=False\n",
    "                )\n",
    "           \n",
    "# Freeze the base model\n",
    "mobilenet.trainable = False\n",
    "\n",
    "inputs = keras.Input(shape=(image_height, image_width, 3))\n",
    "\n",
    "# Data Augmentation on input\n",
    "if(doDataAugmentation):\n",
    "    inputs = data_augmentation(inputs)\n",
    "\n",
    "# Running base model in inference mode\n",
    "base_model = mobilenet(inputs, training=False)\n",
    "base_model = keras.layers.GlobalAveragePooling2D()(base_model)\n",
    "base_model = keras.layers.Dense(1024)(base_model)\n",
    "base_model = keras.layers.Dropout(0.3)(base_model)"
   ]
  },
  {
   "cell_type": "markdown",
   "metadata": {},
   "source": [
    "## Creating Task 1 (Face Detection) Top Model"
   ]
  },
  {
   "cell_type": "code",
   "execution_count": 8,
   "metadata": {},
   "outputs": [],
   "source": [
    "# Add Dense layer\n",
    "face_head = tf.keras.layers.Dense(256, activation='relu')(base_model)\n",
    "face_head = keras.layers.BatchNormalization()(face_head)\n",
    "face_head = keras.layers.Activation('relu')(face_head)\n",
    "face_head = keras.layers.Dropout(0.2)(face_head)\n",
    "face_head = tf.keras.layers.Dense(128, activation='relu')(face_head)\n",
    "\n",
    "# Final layer for binary classification\n",
    "face_outputs = keras.layers.Dense(1, activation='sigmoid')(face_head)"
   ]
  },
  {
   "cell_type": "code",
   "execution_count": 9,
   "metadata": {},
   "outputs": [],
   "source": [
    "multiply_layer = keras.layers.Multiply()([base_model, face_outputs])\n",
    "multiply_layer = keras.layers.Dense(512, activation='relu')(multiply_layer)"
   ]
  },
  {
   "cell_type": "markdown",
   "metadata": {},
   "source": [
    "## Creating Task 2 (Mask Detection) Top Model"
   ]
  },
  {
   "cell_type": "code",
   "execution_count": 10,
   "metadata": {},
   "outputs": [],
   "source": [
    "# Add Dense layer\n",
    "mask_head = tf.keras.layers.Dense(128, activation='relu')(multiply_layer)\n",
    "mask_head = keras.layers.BatchNormalization()(mask_head)\n",
    "mask_head = keras.layers.Activation('relu')(mask_head)\n",
    "mask_head = keras.layers.Dropout(0.2)(mask_head)\n",
    "mask_head = tf.keras.layers.Dense(64, activation='relu')(mask_head)\n",
    "\n",
    "# Final layer for binary classification\n",
    "mask_outputs = keras.layers.Dense(1, activation='sigmoid', name='mask_output')(mask_head)"
   ]
  },
  {
   "cell_type": "markdown",
   "metadata": {},
   "source": [
    "## Creating Task 3 (Age Prediction) Top Model"
   ]
  },
  {
   "cell_type": "code",
   "execution_count": 11,
   "metadata": {},
   "outputs": [],
   "source": [
    "# Add Dense layer\n",
    "age_head = tf.keras.layers.Dense(256, activation='relu')(multiply_layer)\n",
    "age_head = keras.layers.BatchNormalization()(age_head)\n",
    "age_head = keras.layers.Activation('relu')(age_head)\n",
    "age_head = keras.layers.Dropout(0.2)(age_head)\n",
    "age_head = tf.keras.layers.Dense(128, activation='relu')(age_head)\n",
    "age_head = tf.keras.layers.Dense(64, activation='relu')(age_head)\n",
    "\n",
    "# Final layer for binary classification\n",
    "age_outputs = keras.layers.Dense(num_age_classes, activation='softmax', name='age_output')(age_head)"
   ]
  },
  {
   "cell_type": "code",
   "execution_count": 12,
   "metadata": {},
   "outputs": [],
   "source": [
    "face_outputs = keras.layers.Dense(1, activation='sigmoid', name='face_output')(multiply_layer)"
   ]
  },
  {
   "cell_type": "markdown",
   "metadata": {},
   "source": [
    "## Creating and compiling the final model"
   ]
  },
  {
   "cell_type": "code",
   "execution_count": 13,
   "metadata": {},
   "outputs": [
    {
     "name": "stdout",
     "output_type": "stream",
     "text": [
      "Model: \"model\"\n",
      "__________________________________________________________________________________________________\n",
      " Layer (type)                   Output Shape         Param #     Connected to                     \n",
      "==================================================================================================\n",
      " input_3 (InputLayer)           [(None, 160, 160, 3  0           []                               \n",
      "                                )]                                                                \n",
      "                                                                                                  \n",
      " resnet50 (Functional)          (None, 5, 5, 2048)   23587712    ['input_3[0][0]']                \n",
      "                                                                                                  \n",
      " global_average_pooling2d (Glob  (None, 2048)        0           ['resnet50[1][0]']               \n",
      " alAveragePooling2D)                                                                              \n",
      "                                                                                                  \n",
      " dense (Dense)                  (None, 1024)         2098176     ['global_average_pooling2d[1][0]'\n",
      "                                                                 ]                                \n",
      "                                                                                                  \n",
      " dropout (Dropout)              (None, 1024)         0           ['dense[1][0]']                  \n",
      "                                                                                                  \n",
      " dense_1 (Dense)                (None, 256)          262400      ['dropout[1][0]']                \n",
      "                                                                                                  \n",
      " batch_normalization (BatchNorm  (None, 256)         1024        ['dense_1[1][0]']                \n",
      " alization)                                                                                       \n",
      "                                                                                                  \n",
      " activation (Activation)        (None, 256)          0           ['batch_normalization[1][0]']    \n",
      "                                                                                                  \n",
      " dropout_1 (Dropout)            (None, 256)          0           ['activation[1][0]']             \n",
      "                                                                                                  \n",
      " dense_2 (Dense)                (None, 128)          32896       ['dropout_1[1][0]']              \n",
      "                                                                                                  \n",
      " dense_3 (Dense)                (None, 1)            129         ['dense_2[1][0]']                \n",
      "                                                                                                  \n",
      " multiply (Multiply)            (None, 1024)         0           ['dropout[1][0]',                \n",
      "                                                                  'dense_3[1][0]']                \n",
      "                                                                                                  \n",
      " dense_4 (Dense)                (None, 512)          524800      ['multiply[1][0]']               \n",
      "                                                                                                  \n",
      " dense_7 (Dense)                (None, 256)          131328      ['dense_4[1][0]']                \n",
      "                                                                                                  \n",
      " dense_5 (Dense)                (None, 128)          65664       ['dense_4[1][0]']                \n",
      "                                                                                                  \n",
      " batch_normalization_2 (BatchNo  (None, 256)         1024        ['dense_7[1][0]']                \n",
      " rmalization)                                                                                     \n",
      "                                                                                                  \n",
      " batch_normalization_1 (BatchNo  (None, 128)         512         ['dense_5[1][0]']                \n",
      " rmalization)                                                                                     \n",
      "                                                                                                  \n",
      " activation_2 (Activation)      (None, 256)          0           ['batch_normalization_2[1][0]']  \n",
      "                                                                                                  \n",
      " activation_1 (Activation)      (None, 128)          0           ['batch_normalization_1[1][0]']  \n",
      "                                                                                                  \n",
      " dropout_3 (Dropout)            (None, 256)          0           ['activation_2[1][0]']           \n",
      "                                                                                                  \n",
      " dropout_2 (Dropout)            (None, 128)          0           ['activation_1[1][0]']           \n",
      "                                                                                                  \n",
      " dense_8 (Dense)                (None, 128)          32896       ['dropout_3[1][0]']              \n",
      "                                                                                                  \n",
      " dense_6 (Dense)                (None, 64)           8256        ['dropout_2[1][0]']              \n",
      "                                                                                                  \n",
      " dense_9 (Dense)                (None, 64)           8256        ['dense_8[1][0]']                \n",
      "                                                                                                  \n",
      " face_output (Dense)            (None, 1)            513         ['dense_4[1][0]']                \n",
      "                                                                                                  \n",
      " mask_output (Dense)            (None, 1)            65          ['dense_6[1][0]']                \n",
      "                                                                                                  \n",
      " age_output (Dense)             (None, 122)          7930        ['dense_9[1][0]']                \n",
      "                                                                                                  \n",
      "==================================================================================================\n",
      "Total params: 26,763,581\n",
      "Trainable params: 3,174,589\n",
      "Non-trainable params: 23,588,992\n",
      "__________________________________________________________________________________________________\n"
     ]
    }
   ],
   "source": [
    "\n",
    "model = keras.Model(inputs, [face_outputs, mask_outputs, age_outputs])\n",
    "keras.utils.plot_model(model, to_file=f'{model_name}.png', show_layer_activations=True)\n",
    "\n",
    "# Using a joint loss function for the three tasks:\n",
    "# [ Loss = gamma * Loss_task1 + gamma * Loss_task2 + gamma * Loss_task3 ]\n",
    "# Because every task is dependant on every other task, the model receives the loss of every task when gamma > 0\n",
    "\n",
    "gamma = 1\n",
    "\n",
    "model.compile(\n",
    "      optimizer=keras.optimizers.Adam(), # Learning Rate?\n",
    "            loss={\n",
    "                  'face_output': 'binary_crossentropy', \n",
    "                  'mask_output': 'binary_crossentropy',\n",
    "                  'age_output': 'categorical_crossentropy'\n",
    "                  },\n",
    "            loss_weights={\n",
    "                  'face_output': 0.33 * gamma,\n",
    "                  'mask_output': 0.33 * gamma,\n",
    "                  'age_output': 0.33 * gamma\n",
    "                  }, \n",
    "            metrics={\n",
    "                  'face_output': 'binary_accuracy', \n",
    "                  'mask_output': 'binary_accuracy',\n",
    "                  'age_output': 'categorical_accuracy'\n",
    "                  },\n",
    ")\n",
    "\n",
    "model.summary()"
   ]
  },
  {
   "cell_type": "markdown",
   "metadata": {},
   "source": [
    "## Training the model with the dataset"
   ]
  },
  {
   "cell_type": "code",
   "execution_count": 14,
   "metadata": {},
   "outputs": [
    {
     "name": "stdout",
     "output_type": "stream",
     "text": [
      "Epoch 1/10\n",
      "353/353 [==============================] - ETA: 0s - loss: 0.7781 - face_output_loss: 0.0904 - mask_output_loss: 0.0655 - age_output_loss: 2.2019 - face_output_binary_accuracy: 0.9880 - mask_output_binary_accuracy: 0.9742 - age_output_categorical_accuracy: 0.4915\n",
      "Epoch 1: saving model to ../../log/cps/mtm_classification_cascade\\latest_weights.h5\n",
      "353/353 [==============================] - 953s 3s/step - loss: 0.7781 - face_output_loss: 0.0904 - mask_output_loss: 0.0655 - age_output_loss: 2.2019 - face_output_binary_accuracy: 0.9880 - mask_output_binary_accuracy: 0.9742 - age_output_categorical_accuracy: 0.4915 - val_loss: 0.7732 - val_face_output_loss: 0.0509 - val_mask_output_loss: 0.0324 - val_age_output_loss: 2.2597 - val_face_output_binary_accuracy: 0.9887 - val_mask_output_binary_accuracy: 0.9918 - val_age_output_categorical_accuracy: 0.5089\n",
      "Epoch 2/10\n",
      "353/353 [==============================] - ETA: 0s - loss: 0.6658 - face_output_loss: 0.0216 - mask_output_loss: 0.0115 - age_output_loss: 1.9844 - face_output_binary_accuracy: 0.9973 - mask_output_binary_accuracy: 0.9970 - age_output_categorical_accuracy: 0.5061\n",
      "Epoch 2: saving model to ../../log/cps/mtm_classification_cascade\\latest_weights.h5\n",
      "353/353 [==============================] - 779s 2s/step - loss: 0.6658 - face_output_loss: 0.0216 - mask_output_loss: 0.0115 - age_output_loss: 1.9844 - face_output_binary_accuracy: 0.9973 - mask_output_binary_accuracy: 0.9970 - age_output_categorical_accuracy: 0.5061 - val_loss: 0.7040 - val_face_output_loss: 0.1137 - val_mask_output_loss: 0.0604 - val_age_output_loss: 1.9591 - val_face_output_binary_accuracy: 0.9876 - val_mask_output_binary_accuracy: 0.9798 - val_age_output_categorical_accuracy: 0.5135\n",
      "Epoch 3/10\n",
      "353/353 [==============================] - ETA: 0s - loss: 0.6561 - face_output_loss: 0.0235 - mask_output_loss: 0.0098 - age_output_loss: 1.9550 - face_output_binary_accuracy: 0.9972 - mask_output_binary_accuracy: 0.9973 - age_output_categorical_accuracy: 0.5103\n",
      "Epoch 3: saving model to ../../log/cps/mtm_classification_cascade\\latest_weights.h5\n",
      "353/353 [==============================] - 778s 2s/step - loss: 0.6561 - face_output_loss: 0.0235 - mask_output_loss: 0.0098 - age_output_loss: 1.9550 - face_output_binary_accuracy: 0.9972 - mask_output_binary_accuracy: 0.9973 - age_output_categorical_accuracy: 0.5103 - val_loss: 0.7328 - val_face_output_loss: 0.0106 - val_mask_output_loss: 0.0068 - val_age_output_loss: 2.2033 - val_face_output_binary_accuracy: 0.9982 - val_mask_output_binary_accuracy: 0.9979 - val_age_output_categorical_accuracy: 0.5110\n",
      "Epoch 4/10\n",
      "353/353 [==============================] - ETA: 0s - loss: 0.6456 - face_output_loss: 0.0182 - mask_output_loss: 0.0073 - age_output_loss: 1.9310 - face_output_binary_accuracy: 0.9976 - mask_output_binary_accuracy: 0.9976 - age_output_categorical_accuracy: 0.5112\n",
      "Epoch 4: saving model to ../../log/cps/mtm_classification_cascade\\latest_weights.h5\n",
      "353/353 [==============================] - 798s 2s/step - loss: 0.6456 - face_output_loss: 0.0182 - mask_output_loss: 0.0073 - age_output_loss: 1.9310 - face_output_binary_accuracy: 0.9976 - mask_output_binary_accuracy: 0.9976 - age_output_categorical_accuracy: 0.5112 - val_loss: 0.6974 - val_face_output_loss: 0.1879 - val_mask_output_loss: 0.0086 - val_age_output_loss: 1.9166 - val_face_output_binary_accuracy: 0.9872 - val_mask_output_binary_accuracy: 0.9982 - val_age_output_categorical_accuracy: 0.5206\n",
      "Epoch 5/10\n",
      "353/353 [==============================] - ETA: 0s - loss: 0.6316 - face_output_loss: 0.0061 - mask_output_loss: 0.0037 - age_output_loss: 1.9042 - face_output_binary_accuracy: 0.9991 - mask_output_binary_accuracy: 0.9990 - age_output_categorical_accuracy: 0.5092\n",
      "Epoch 5: saving model to ../../log/cps/mtm_classification_cascade\\latest_weights.h5\n",
      "353/353 [==============================] - 824s 2s/step - loss: 0.6316 - face_output_loss: 0.0061 - mask_output_loss: 0.0037 - age_output_loss: 1.9042 - face_output_binary_accuracy: 0.9991 - mask_output_binary_accuracy: 0.9990 - age_output_categorical_accuracy: 0.5092 - val_loss: 0.6337 - val_face_output_loss: 0.0216 - val_mask_output_loss: 0.0054 - val_age_output_loss: 1.8934 - val_face_output_binary_accuracy: 0.9972 - val_mask_output_binary_accuracy: 0.9979 - val_age_output_categorical_accuracy: 0.5145\n",
      "Epoch 6/10\n",
      "353/353 [==============================] - ETA: 0s - loss: 0.6266 - face_output_loss: 0.0071 - mask_output_loss: 0.0042 - age_output_loss: 1.8876 - face_output_binary_accuracy: 0.9993 - mask_output_binary_accuracy: 0.9988 - age_output_categorical_accuracy: 0.5144\n",
      "Epoch 6: saving model to ../../log/cps/mtm_classification_cascade\\latest_weights.h5\n",
      "353/353 [==============================] - 829s 2s/step - loss: 0.6266 - face_output_loss: 0.0071 - mask_output_loss: 0.0042 - age_output_loss: 1.8876 - face_output_binary_accuracy: 0.9993 - mask_output_binary_accuracy: 0.9988 - age_output_categorical_accuracy: 0.5144 - val_loss: 0.6861 - val_face_output_loss: 0.1041 - val_mask_output_loss: 0.0451 - val_age_output_loss: 1.9298 - val_face_output_binary_accuracy: 0.9823 - val_mask_output_binary_accuracy: 0.9809 - val_age_output_categorical_accuracy: 0.5120\n",
      "Epoch 7/10\n",
      "353/353 [==============================] - ETA: 0s - loss: 0.6257 - face_output_loss: 0.0164 - mask_output_loss: 0.0044 - age_output_loss: 1.8752 - face_output_binary_accuracy: 0.9969 - mask_output_binary_accuracy: 0.9988 - age_output_categorical_accuracy: 0.5146\n",
      "Epoch 7: saving model to ../../log/cps/mtm_classification_cascade\\latest_weights.h5\n",
      "353/353 [==============================] - 829s 2s/step - loss: 0.6257 - face_output_loss: 0.0164 - mask_output_loss: 0.0044 - age_output_loss: 1.8752 - face_output_binary_accuracy: 0.9969 - mask_output_binary_accuracy: 0.9988 - age_output_categorical_accuracy: 0.5146 - val_loss: 0.6388 - val_face_output_loss: 0.0190 - val_mask_output_loss: 0.0119 - val_age_output_loss: 1.9048 - val_face_output_binary_accuracy: 0.9982 - val_mask_output_binary_accuracy: 0.9975 - val_age_output_categorical_accuracy: 0.5220\n",
      "Epoch 8/10\n",
      "353/353 [==============================] - ETA: 0s - loss: 0.6255 - face_output_loss: 0.0145 - mask_output_loss: 0.0057 - age_output_loss: 1.8753 - face_output_binary_accuracy: 0.9983 - mask_output_binary_accuracy: 0.9979 - age_output_categorical_accuracy: 0.5156\n",
      "Epoch 8: saving model to ../../log/cps/mtm_classification_cascade\\latest_weights.h5\n",
      "353/353 [==============================] - 830s 2s/step - loss: 0.6255 - face_output_loss: 0.0145 - mask_output_loss: 0.0057 - age_output_loss: 1.8753 - face_output_binary_accuracy: 0.9983 - mask_output_binary_accuracy: 0.9979 - age_output_categorical_accuracy: 0.5156 - val_loss: 0.6467 - val_face_output_loss: 0.0206 - val_mask_output_loss: 0.0143 - val_age_output_loss: 1.9247 - val_face_output_binary_accuracy: 0.9986 - val_mask_output_binary_accuracy: 0.9979 - val_age_output_categorical_accuracy: 0.5096\n",
      "Epoch 9/10\n",
      "353/353 [==============================] - ETA: 0s - loss: 0.6144 - face_output_loss: 0.0044 - mask_output_loss: 0.0022 - age_output_loss: 1.8552 - face_output_binary_accuracy: 0.9992 - mask_output_binary_accuracy: 0.9993 - age_output_categorical_accuracy: 0.5166\n",
      "Epoch 9: saving model to ../../log/cps/mtm_classification_cascade\\latest_weights.h5\n",
      "353/353 [==============================] - 830s 2s/step - loss: 0.6144 - face_output_loss: 0.0044 - mask_output_loss: 0.0022 - age_output_loss: 1.8552 - face_output_binary_accuracy: 0.9992 - mask_output_binary_accuracy: 0.9993 - age_output_categorical_accuracy: 0.5166 - val_loss: 0.6259 - val_face_output_loss: 0.0033 - val_mask_output_loss: 0.0070 - val_age_output_loss: 1.8861 - val_face_output_binary_accuracy: 0.9993 - val_mask_output_binary_accuracy: 0.9982 - val_age_output_categorical_accuracy: 0.5188\n",
      "Epoch 10/10\n",
      "353/353 [==============================] - ETA: 0s - loss: 0.6153 - face_output_loss: 0.0118 - mask_output_loss: 0.0031 - age_output_loss: 1.8495 - face_output_binary_accuracy: 0.9989 - mask_output_binary_accuracy: 0.9994 - age_output_categorical_accuracy: 0.5150\n",
      "Epoch 10: saving model to ../../log/cps/mtm_classification_cascade\\latest_weights.h5\n",
      "353/353 [==============================] - 839s 2s/step - loss: 0.6153 - face_output_loss: 0.0118 - mask_output_loss: 0.0031 - age_output_loss: 1.8495 - face_output_binary_accuracy: 0.9989 - mask_output_binary_accuracy: 0.9994 - age_output_categorical_accuracy: 0.5150 - val_loss: 0.6207 - val_face_output_loss: 0.0022 - val_mask_output_loss: 0.0076 - val_age_output_loss: 1.8710 - val_face_output_binary_accuracy: 0.9993 - val_mask_output_binary_accuracy: 0.9986 - val_age_output_categorical_accuracy: 0.5209\n"
     ]
    }
   ],
   "source": [
    "history = model.fit(\n",
    "            training_ds,\n",
    "            validation_data=validation_ds,\n",
    "            batch_size=batch_size,\n",
    "            epochs=epochs, \n",
    "            callbacks=callbacks,\n",
    "        )"
   ]
  },
  {
   "cell_type": "markdown",
   "metadata": {},
   "source": [
    "## Save the model"
   ]
  },
  {
   "cell_type": "code",
   "execution_count": 15,
   "metadata": {},
   "outputs": [
    {
     "name": "stderr",
     "output_type": "stream",
     "text": [
      "WARNING:absl:Found untraced functions such as _update_step_xla, _jit_compiled_convolution_op, _jit_compiled_convolution_op, _jit_compiled_convolution_op, _jit_compiled_convolution_op while saving (showing 5 of 54). These functions will not be directly callable after loading.\n"
     ]
    },
    {
     "name": "stdout",
     "output_type": "stream",
     "text": [
      "INFO:tensorflow:Assets written to: ../../log/saved_models/mtm_classification_cascade\\assets\n"
     ]
    },
    {
     "name": "stderr",
     "output_type": "stream",
     "text": [
      "INFO:tensorflow:Assets written to: ../../log/saved_models/mtm_classification_cascade\\assets\n"
     ]
    }
   ],
   "source": [
    "model.save(savedModelPath)"
   ]
  }
 ],
 "metadata": {
  "kernelspec": {
   "display_name": "Python 3.9.13 ('tensorflow_env')",
   "language": "python",
   "name": "python3"
  },
  "language_info": {
   "codemirror_mode": {
    "name": "ipython",
    "version": 3
   },
   "file_extension": ".py",
   "mimetype": "text/x-python",
   "name": "python",
   "nbconvert_exporter": "python",
   "pygments_lexer": "ipython3",
   "version": "3.9.13 (main, Oct 13 2022, 21:23:06) [MSC v.1916 64 bit (AMD64)]"
  },
  "orig_nbformat": 4,
  "vscode": {
   "interpreter": {
    "hash": "cb093c5cba338e940f2218658681cebd9a5d8f8bec398f9f020da08f4168391d"
   }
  }
 },
 "nbformat": 4,
 "nbformat_minor": 2
}
