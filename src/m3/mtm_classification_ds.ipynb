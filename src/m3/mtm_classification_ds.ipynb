{
 "cells": [
  {
   "cell_type": "markdown",
   "metadata": {},
   "source": [
    "# Multi Task Model"
   ]
  },
  {
   "cell_type": "markdown",
   "metadata": {},
   "source": [
    "## Imports"
   ]
  },
  {
   "cell_type": "code",
   "execution_count": 1,
   "metadata": {},
   "outputs": [],
   "source": [
    "import os\n",
    "import numpy as np\n",
    "import matplotlib.pyplot as plt\n",
    "from itertools import product\n",
    "\n",
    "# Tensorflow imports\n",
    "import tensorflow as tf\n",
    "from tensorflow import keras\n",
    "import keras.backend as K\n",
    "from tensorflow.keras.applications import ResNet50\n",
    "\n",
    "from loadData_alt import createDataset"
   ]
  },
  {
   "cell_type": "markdown",
   "metadata": {},
   "source": [
    "## Model parameters"
   ]
  },
  {
   "cell_type": "code",
   "execution_count": 2,
   "metadata": {},
   "outputs": [],
   "source": [
    "# Log parameters\n",
    "model_name = 'mtm_classification_ds'\n",
    "savedModelPath = f'../../log/saved_models/{model_name}'\n",
    "tb_log_dir = f'../../log/tensorboard/{model_name}'\n",
    "cp_filepath = f'../../log/cps/{model_name}/'\n",
    "\n",
    "if not os.path.exists(cp_filepath):\n",
    "    os.makedirs(cp_filepath)\n",
    "\n",
    "cp_filepath += 'latest_weights.h5'\n",
    "\n",
    "# Dynamic hyperparameters\n",
    "learningRate = 0.001\n",
    "doDataAugmentation = True\n",
    "dropoutRate = 0.25\n",
    "width_multiplier = 1\n",
    "depth_multiplier = 1\n",
    "\n",
    "# Training parameters\n",
    "batch_size = 32\n",
    "epochs = 10"
   ]
  },
  {
   "cell_type": "markdown",
   "metadata": {},
   "source": [
    "## Model callbacks"
   ]
  },
  {
   "cell_type": "code",
   "execution_count": 3,
   "metadata": {},
   "outputs": [],
   "source": [
    "callbacks = [\n",
    "    # Checkpoint callback                    \n",
    "    keras.callbacks.ModelCheckpoint(\n",
    "                    filepath=cp_filepath, \n",
    "                    verbose=1, \n",
    "                    save_weights_only=True),\n",
    "\n",
    "    # Tensorboard callback\n",
    "    keras.callbacks.TensorBoard(log_dir=tb_log_dir, histogram_freq=1),\n",
    "\n",
    "    # Early Stopping callback\n",
    "    # keras.callbacks.EarlyStopping(\n",
    "    #                 monitor=\"val_loss\",\n",
    "    #                 patience=2,\n",
    "    #                 verbose=1)\n",
    "]"
   ]
  },
  {
   "cell_type": "markdown",
   "metadata": {},
   "source": [
    "## Data parameters"
   ]
  },
  {
   "cell_type": "code",
   "execution_count": 4,
   "metadata": {},
   "outputs": [],
   "source": [
    "image_height = 160\n",
    "image_width = 160\n",
    "\n",
    "use_age_groups = False\n",
    "num_age_classes = 8 if use_age_groups else 122\n",
    "\n",
    "age_classes_dict = {\n",
    "    0 : \"0-13\",\n",
    "    1 : \"14-19\",\n",
    "    2 : \"20-29\",\n",
    "    3 : \"30-39\",\n",
    "    4 : \"40-49\",\n",
    "    5 : \"50-59\",\n",
    "    6 : \"60+\",\n",
    "    7 : \"-\"\n",
    "}"
   ]
  },
  {
   "cell_type": "markdown",
   "metadata": {},
   "source": [
    "## Data Augmentation"
   ]
  },
  {
   "cell_type": "code",
   "execution_count": 5,
   "metadata": {},
   "outputs": [],
   "source": [
    "data_augmentation = keras.Sequential(\n",
    "    [\n",
    "        keras.layers.RandomRotation(0.1),\n",
    "        keras.layers.RandomBrightness(0.2),\n",
    "    ]\n",
    ")"
   ]
  },
  {
   "cell_type": "markdown",
   "metadata": {},
   "source": [
    "## Creating the training datasets"
   ]
  },
  {
   "cell_type": "code",
   "execution_count": 6,
   "metadata": {},
   "outputs": [
    {
     "name": "stdout",
     "output_type": "stream",
     "text": [
      "WARNING:tensorflow:From c:\\Users\\Zolkin\\anaconda3\\envs\\tensorflow_env\\lib\\site-packages\\tensorflow\\python\\autograph\\pyct\\static_analysis\\liveness.py:83: Analyzer.lamba_check (from tensorflow.python.autograph.pyct.static_analysis.liveness) is deprecated and will be removed after 2023-09-23.\n",
      "Instructions for updating:\n",
      "Lambda fuctions will be no more assumed to be used in the statement where they are used, or at least in the same block. https://github.com/tensorflow/tensorflow/issues/56089\n"
     ]
    }
   ],
   "source": [
    "training_ds, validation_ds = createDataset('../../data/m3/training', (image_height, image_width), batch_size, 0.2, use_age_groups=use_age_groups)"
   ]
  },
  {
   "cell_type": "markdown",
   "metadata": {},
   "source": [
    "## Load the ResNet model"
   ]
  },
  {
   "cell_type": "code",
   "execution_count": 7,
   "metadata": {},
   "outputs": [
    {
     "name": "stdout",
     "output_type": "stream",
     "text": [
      "WARNING:tensorflow:Using a while_loop for converting RngReadAndSkip cause there is no registered converter for this op.\n",
      "WARNING:tensorflow:Using a while_loop for converting Bitcast cause there is no registered converter for this op.\n",
      "WARNING:tensorflow:Using a while_loop for converting Bitcast cause there is no registered converter for this op.\n",
      "WARNING:tensorflow:Using a while_loop for converting StatelessRandomUniformV2 cause there is no registered converter for this op.\n",
      "WARNING:tensorflow:Using a while_loop for converting ImageProjectiveTransformV3 cause there is no registered converter for this op.\n",
      "WARNING:tensorflow:Using a while_loop for converting RngReadAndSkip cause there is no registered converter for this op.\n",
      "WARNING:tensorflow:Using a while_loop for converting Bitcast cause there is no registered converter for this op.\n",
      "WARNING:tensorflow:Using a while_loop for converting Bitcast cause there is no registered converter for this op.\n",
      "WARNING:tensorflow:Using a while_loop for converting StatelessRandomUniformV2 cause there is no registered converter for this op.\n",
      "WARNING:tensorflow:Using a while_loop for converting RngReadAndSkip cause there is no registered converter for this op.\n",
      "WARNING:tensorflow:Using a while_loop for converting Bitcast cause there is no registered converter for this op.\n",
      "WARNING:tensorflow:Using a while_loop for converting Bitcast cause there is no registered converter for this op.\n",
      "WARNING:tensorflow:Using a while_loop for converting StatelessRandomUniformV2 cause there is no registered converter for this op.\n",
      "WARNING:tensorflow:Using a while_loop for converting ImageProjectiveTransformV3 cause there is no registered converter for this op.\n",
      "WARNING:tensorflow:Using a while_loop for converting RngReadAndSkip cause there is no registered converter for this op.\n",
      "WARNING:tensorflow:Using a while_loop for converting Bitcast cause there is no registered converter for this op.\n",
      "WARNING:tensorflow:Using a while_loop for converting Bitcast cause there is no registered converter for this op.\n",
      "WARNING:tensorflow:Using a while_loop for converting StatelessRandomUniformV2 cause there is no registered converter for this op.\n"
     ]
    }
   ],
   "source": [
    "# Loading either the MobileNet architecture model or the previously saved model, and freeze it for transfer learning\n",
    "base = ResNet50(\n",
    "                input_shape=(image_height, image_width, 3), # Optional shape tuple, only to be specified if include_top is False\n",
    "                # alpha=width_multiplier, # Controls the width of the network. (Width multiplier)\n",
    "                # depth_multiplier=depth_multiplier, # Depth multiplier for depthwise convolution. (Resolution multiplier)\n",
    "                # dropout=dropoutRate, # Dropout rate. Default to 0.001.\n",
    "                weights=\"imagenet\",\n",
    "                # input_tensor=None,\n",
    "                # pooling='avg', # Optional pooling mode for feature extraction when include_top is False. (None, avg, max)\n",
    "                include_top=False\n",
    "                )\n",
    "           \n",
    "# Freeze the base model\n",
    "base.trainable = False\n",
    "\n",
    "inputs = keras.Input(shape=(image_height, image_width, 3))\n",
    "# Data Augmentation on input\n",
    "if(doDataAugmentation):\n",
    "    inputs = data_augmentation(inputs)\n",
    "\n",
    "# Running base model in inference mode\n",
    "base_model = base(inputs, training=False)\n",
    "base_model = keras.layers.GlobalAveragePooling2D()(base_model)\n",
    "base_model = keras.layers.Dense(1024)(base_model)\n",
    "base_model = keras.layers.Dropout(0.3)(base_model)"
   ]
  },
  {
   "cell_type": "markdown",
   "metadata": {},
   "source": [
    "## Creating Task 1 (Face Detection) Top Model"
   ]
  },
  {
   "cell_type": "code",
   "execution_count": 8,
   "metadata": {},
   "outputs": [],
   "source": [
    "# Add Dense layer\n",
    "face_head = tf.keras.layers.Dense(256, activation='relu')(base_model)\n",
    "face_head = keras.layers.BatchNormalization()(face_head)\n",
    "face_head = keras.layers.Activation('relu')(face_head)\n",
    "face_head = keras.layers.Dropout(0.2)(face_head)\n",
    "face_head = tf.keras.layers.Dense(128, activation='relu')(face_head)\n",
    "face_head = tf.keras.layers.Dense(64, activation='relu')(face_head)\n",
    "\n",
    "# Final layer for binary classification\n",
    "face_outputs = keras.layers.Dense(1, activation='sigmoid', name='face_output')(face_head)\n"
   ]
  },
  {
   "cell_type": "markdown",
   "metadata": {},
   "source": [
    "## Creating Task 2 (Mask Detection) Top Model"
   ]
  },
  {
   "cell_type": "code",
   "execution_count": 9,
   "metadata": {},
   "outputs": [],
   "source": [
    "# Add Dense layer\n",
    "mask_head = tf.keras.layers.Dense(256, activation='relu')(base_model)\n",
    "mask_head = keras.layers.BatchNormalization()(mask_head)\n",
    "mask_head = keras.layers.Activation('relu')(mask_head)\n",
    "mask_head = keras.layers.Dropout(0.2)(mask_head)\n",
    "mask_head = tf.keras.layers.Dense(128, activation='relu')(mask_head)\n",
    "mask_head = tf.keras.layers.Dense(64, activation='relu')(mask_head)\n",
    "\n",
    "# Final layer for binary classification\n",
    "mask_outputs = keras.layers.Dense(1, activation='sigmoid', name='mask_output')(mask_head)"
   ]
  },
  {
   "cell_type": "markdown",
   "metadata": {},
   "source": [
    "## Creating Task 3 (Age Prediction) Top Model"
   ]
  },
  {
   "cell_type": "code",
   "execution_count": 10,
   "metadata": {},
   "outputs": [],
   "source": [
    "# Add Dense layer\n",
    "age_head = tf.keras.layers.Dense(256, activation='relu')(base_model)\n",
    "age_head = keras.layers.BatchNormalization()(age_head)\n",
    "age_head = keras.layers.Activation('relu')(age_head)\n",
    "age_head = keras.layers.Dropout(0.2)(age_head)\n",
    "age_head = tf.keras.layers.Dense(128, activation='relu')(age_head)\n",
    "age_head = tf.keras.layers.Dense(64, activation='relu')(age_head)\n",
    "\n",
    "# Final layer for binary classification\n",
    "age_outputs = keras.layers.Dense(num_age_classes, activation='softmax', name='age_output')(age_head)"
   ]
  },
  {
   "cell_type": "markdown",
   "metadata": {},
   "source": [
    "## Creating and compiling the final model"
   ]
  },
  {
   "cell_type": "code",
   "execution_count": 15,
   "metadata": {},
   "outputs": [
    {
     "name": "stdout",
     "output_type": "stream",
     "text": [
      "Model: \"model_2\"\n",
      "__________________________________________________________________________________________________\n",
      " Layer (type)                   Output Shape         Param #     Connected to                     \n",
      "==================================================================================================\n",
      " input_5 (InputLayer)           [(None, 160, 160, 3  0           []                               \n",
      "                                )]                                                                \n",
      "                                                                                                  \n",
      " resnet50 (Functional)          (None, 5, 5, 2048)   23587712    ['input_5[0][0]']                \n",
      "                                                                                                  \n",
      " global_average_pooling2d (Glob  (None, 2048)        0           ['resnet50[3][0]']               \n",
      " alAveragePooling2D)                                                                              \n",
      "                                                                                                  \n",
      " dense (Dense)                  (None, 1024)         2098176     ['global_average_pooling2d[3][0]'\n",
      "                                                                 ]                                \n",
      "                                                                                                  \n",
      " dropout (Dropout)              (None, 1024)         0           ['dense[3][0]']                  \n",
      "                                                                                                  \n",
      " dense_1 (Dense)                (None, 256)          262400      ['dropout[3][0]']                \n",
      "                                                                                                  \n",
      " dense_4 (Dense)                (None, 256)          262400      ['dropout[3][0]']                \n",
      "                                                                                                  \n",
      " dense_7 (Dense)                (None, 256)          262400      ['dropout[3][0]']                \n",
      "                                                                                                  \n",
      " batch_normalization (BatchNorm  (None, 256)         1024        ['dense_1[3][0]']                \n",
      " alization)                                                                                       \n",
      "                                                                                                  \n",
      " batch_normalization_1 (BatchNo  (None, 256)         1024        ['dense_4[3][0]']                \n",
      " rmalization)                                                                                     \n",
      "                                                                                                  \n",
      " batch_normalization_2 (BatchNo  (None, 256)         1024        ['dense_7[3][0]']                \n",
      " rmalization)                                                                                     \n",
      "                                                                                                  \n",
      " activation (Activation)        (None, 256)          0           ['batch_normalization[3][0]']    \n",
      "                                                                                                  \n",
      " activation_1 (Activation)      (None, 256)          0           ['batch_normalization_1[3][0]']  \n",
      "                                                                                                  \n",
      " activation_2 (Activation)      (None, 256)          0           ['batch_normalization_2[3][0]']  \n",
      "                                                                                                  \n",
      " dropout_1 (Dropout)            (None, 256)          0           ['activation[3][0]']             \n",
      "                                                                                                  \n",
      " dropout_2 (Dropout)            (None, 256)          0           ['activation_1[3][0]']           \n",
      "                                                                                                  \n",
      " dropout_3 (Dropout)            (None, 256)          0           ['activation_2[3][0]']           \n",
      "                                                                                                  \n",
      " dense_2 (Dense)                (None, 128)          32896       ['dropout_1[3][0]']              \n",
      "                                                                                                  \n",
      " dense_5 (Dense)                (None, 128)          32896       ['dropout_2[3][0]']              \n",
      "                                                                                                  \n",
      " dense_8 (Dense)                (None, 128)          32896       ['dropout_3[3][0]']              \n",
      "                                                                                                  \n",
      " dense_3 (Dense)                (None, 64)           8256        ['dense_2[3][0]']                \n",
      "                                                                                                  \n",
      " dense_6 (Dense)                (None, 64)           8256        ['dense_5[3][0]']                \n",
      "                                                                                                  \n",
      " dense_9 (Dense)                (None, 64)           8256        ['dense_8[3][0]']                \n",
      "                                                                                                  \n",
      " face_output (Dense)            (None, 1)            65          ['dense_3[3][0]']                \n",
      "                                                                                                  \n",
      " mask_output (Dense)            (None, 1)            65          ['dense_6[3][0]']                \n",
      "                                                                                                  \n",
      " age_output (Dense)             (None, 122)          7930        ['dense_9[3][0]']                \n",
      "                                                                                                  \n",
      "==================================================================================================\n",
      "Total params: 26,607,676\n",
      "Trainable params: 3,018,428\n",
      "Non-trainable params: 23,589,248\n",
      "__________________________________________________________________________________________________\n"
     ]
    }
   ],
   "source": [
    "\n",
    "model = keras.Model(inputs, [face_outputs, mask_outputs, age_outputs])\n",
    "keras.utils.plot_model(model, to_file=f'{model_name}.png', show_layer_activations=True)\n",
    "\n",
    "# Using a joint loss function for the three tasks:\n",
    "# [ Loss = gamma * Loss_task1 + gamma * Loss_task2 + gamma * Loss_task3 ]\n",
    "# Because every task is dependant on every other task, the model receives the loss of every task when gamma > 0\n",
    "\n",
    "gamma = 1\n",
    "\n",
    "model.compile(\n",
    "      optimizer=keras.optimizers.Adam(0.01), # Learning Rate?\n",
    "            loss={\n",
    "                  'face_output': 'binary_crossentropy', \n",
    "                  'mask_output': 'binary_crossentropy',\n",
    "                  'age_output': 'categorical_crossentropy'\n",
    "                  },\n",
    "            loss_weights={\n",
    "                  'face_output': 0.33 * gamma, \n",
    "                  'mask_output': 0.33 * gamma,\n",
    "                  'age_output': 0.33 * gamma\n",
    "                  }, \n",
    "            metrics={\n",
    "                  'face_output': 'accuracy', \n",
    "                  'mask_output': 'accuracy',\n",
    "                  'age_output': 'accuracy'\n",
    "                  },\n",
    ")\n",
    "\n",
    "model.summary()"
   ]
  },
  {
   "cell_type": "markdown",
   "metadata": {},
   "source": [
    "## Training the model with the dataset"
   ]
  },
  {
   "cell_type": "code",
   "execution_count": 12,
   "metadata": {},
   "outputs": [
    {
     "name": "stdout",
     "output_type": "stream",
     "text": [
      "Epoch 1/10\n",
      "353/353 [==============================] - ETA: 0s - loss: 0.7228 - face_output_loss: 0.0368 - mask_output_loss: 0.0365 - age_output_loss: 2.1171 - face_output_accuracy: 0.9890 - mask_output_accuracy: 0.9862 - age_output_accuracy: 0.4985\n",
      "Epoch 1: saving model to ../../log/cps/mtm_classification_ds\\latest_weights.h5\n",
      "353/353 [==============================] - 989s 3s/step - loss: 0.7228 - face_output_loss: 0.0368 - mask_output_loss: 0.0365 - age_output_loss: 2.1171 - face_output_accuracy: 0.9890 - mask_output_accuracy: 0.9862 - age_output_accuracy: 0.4985 - val_loss: 2.6179 - val_face_output_loss: 0.1434 - val_mask_output_loss: 0.0466 - val_age_output_loss: 7.7430 - val_face_output_accuracy: 0.9727 - val_mask_output_accuracy: 0.9947 - val_age_output_accuracy: 0.4745\n",
      "Epoch 2/10\n",
      "353/353 [==============================] - ETA: 0s - loss: 0.6675 - face_output_loss: 0.0148 - mask_output_loss: 0.0125 - age_output_loss: 1.9955 - face_output_accuracy: 0.9963 - mask_output_accuracy: 0.9961 - age_output_accuracy: 0.5071\n",
      "Epoch 2: saving model to ../../log/cps/mtm_classification_ds\\latest_weights.h5\n",
      "353/353 [==============================] - 909s 3s/step - loss: 0.6675 - face_output_loss: 0.0148 - mask_output_loss: 0.0125 - age_output_loss: 1.9955 - face_output_accuracy: 0.9963 - mask_output_accuracy: 0.9961 - age_output_accuracy: 0.5071 - val_loss: 1.3525 - val_face_output_loss: 0.0054 - val_mask_output_loss: 0.0071 - val_age_output_loss: 4.0861 - val_face_output_accuracy: 0.9979 - val_mask_output_accuracy: 0.9982 - val_age_output_accuracy: 0.4968\n",
      "Epoch 3/10\n",
      "353/353 [==============================] - ETA: 0s - loss: 0.6618 - face_output_loss: 0.0172 - mask_output_loss: 0.0131 - age_output_loss: 1.9751 - face_output_accuracy: 0.9960 - mask_output_accuracy: 0.9968 - age_output_accuracy: 0.5053\n",
      "Epoch 3: saving model to ../../log/cps/mtm_classification_ds\\latest_weights.h5\n",
      "353/353 [==============================] - 906s 3s/step - loss: 0.6618 - face_output_loss: 0.0172 - mask_output_loss: 0.0131 - age_output_loss: 1.9751 - face_output_accuracy: 0.9960 - mask_output_accuracy: 0.9968 - age_output_accuracy: 0.5053 - val_loss: 0.7191 - val_face_output_loss: 0.0194 - val_mask_output_loss: 0.0316 - val_age_output_loss: 2.1281 - val_face_output_accuracy: 0.9887 - val_mask_output_accuracy: 0.9968 - val_age_output_accuracy: 0.4780\n",
      "Epoch 4/10\n",
      "353/353 [==============================] - ETA: 0s - loss: 0.6542 - face_output_loss: 0.0112 - mask_output_loss: 0.0077 - age_output_loss: 1.9635 - face_output_accuracy: 0.9976 - mask_output_accuracy: 0.9980 - age_output_accuracy: 0.5079\n",
      "Epoch 4: saving model to ../../log/cps/mtm_classification_ds\\latest_weights.h5\n",
      "353/353 [==============================] - 900s 3s/step - loss: 0.6542 - face_output_loss: 0.0112 - mask_output_loss: 0.0077 - age_output_loss: 1.9635 - face_output_accuracy: 0.9976 - mask_output_accuracy: 0.9980 - age_output_accuracy: 0.5079 - val_loss: 0.6385 - val_face_output_loss: 0.0138 - val_mask_output_loss: 0.0051 - val_age_output_loss: 1.9160 - val_face_output_accuracy: 0.9957 - val_mask_output_accuracy: 0.9979 - val_age_output_accuracy: 0.5163\n",
      "Epoch 5/10\n",
      "353/353 [==============================] - ETA: 0s - loss: 0.6488 - face_output_loss: 0.0085 - mask_output_loss: 0.0083 - age_output_loss: 1.9492 - face_output_accuracy: 0.9978 - mask_output_accuracy: 0.9981 - age_output_accuracy: 0.5059\n",
      "Epoch 5: saving model to ../../log/cps/mtm_classification_ds\\latest_weights.h5\n",
      "353/353 [==============================] - 897s 3s/step - loss: 0.6488 - face_output_loss: 0.0085 - mask_output_loss: 0.0083 - age_output_loss: 1.9492 - face_output_accuracy: 0.9978 - mask_output_accuracy: 0.9981 - age_output_accuracy: 0.5059 - val_loss: 0.6647 - val_face_output_loss: 0.0259 - val_mask_output_loss: 0.0757 - val_age_output_loss: 1.9126 - val_face_output_accuracy: 0.9922 - val_mask_output_accuracy: 0.9865 - val_age_output_accuracy: 0.5135\n",
      "Epoch 6/10\n",
      "353/353 [==============================] - ETA: 0s - loss: 0.6393 - face_output_loss: 0.0057 - mask_output_loss: 0.0058 - age_output_loss: 1.9258 - face_output_accuracy: 0.9978 - mask_output_accuracy: 0.9987 - age_output_accuracy: 0.5086\n",
      "Epoch 6: saving model to ../../log/cps/mtm_classification_ds\\latest_weights.h5\n",
      "353/353 [==============================] - 884s 3s/step - loss: 0.6393 - face_output_loss: 0.0057 - mask_output_loss: 0.0058 - age_output_loss: 1.9258 - face_output_accuracy: 0.9978 - mask_output_accuracy: 0.9987 - age_output_accuracy: 0.5086 - val_loss: 0.6435 - val_face_output_loss: 0.0375 - val_mask_output_loss: 0.0036 - val_age_output_loss: 1.9090 - val_face_output_accuracy: 0.9851 - val_mask_output_accuracy: 0.9989 - val_age_output_accuracy: 0.5213\n",
      "Epoch 7/10\n",
      "353/353 [==============================] - ETA: 0s - loss: 0.6394 - face_output_loss: 0.0088 - mask_output_loss: 0.0067 - age_output_loss: 1.9220 - face_output_accuracy: 0.9977 - mask_output_accuracy: 0.9984 - age_output_accuracy: 0.5097\n",
      "Epoch 7: saving model to ../../log/cps/mtm_classification_ds\\latest_weights.h5\n",
      "353/353 [==============================] - 876s 2s/step - loss: 0.6394 - face_output_loss: 0.0088 - mask_output_loss: 0.0067 - age_output_loss: 1.9220 - face_output_accuracy: 0.9977 - mask_output_accuracy: 0.9984 - age_output_accuracy: 0.5097 - val_loss: 0.6381 - val_face_output_loss: 0.0052 - val_mask_output_loss: 0.0039 - val_age_output_loss: 1.9244 - val_face_output_accuracy: 0.9975 - val_mask_output_accuracy: 0.9986 - val_age_output_accuracy: 0.5120\n",
      "Epoch 8/10\n",
      "353/353 [==============================] - ETA: 0s - loss: 0.6346 - face_output_loss: 0.0039 - mask_output_loss: 0.0048 - age_output_loss: 1.9144 - face_output_accuracy: 0.9988 - mask_output_accuracy: 0.9992 - age_output_accuracy: 0.5126\n",
      "Epoch 8: saving model to ../../log/cps/mtm_classification_ds\\latest_weights.h5\n",
      "353/353 [==============================] - 880s 2s/step - loss: 0.6346 - face_output_loss: 0.0039 - mask_output_loss: 0.0048 - age_output_loss: 1.9144 - face_output_accuracy: 0.9988 - mask_output_accuracy: 0.9992 - age_output_accuracy: 0.5126 - val_loss: 0.6385 - val_face_output_loss: 0.0073 - val_mask_output_loss: 0.0049 - val_age_output_loss: 1.9227 - val_face_output_accuracy: 0.9986 - val_mask_output_accuracy: 0.9986 - val_age_output_accuracy: 0.5191\n",
      "Epoch 9/10\n",
      "353/353 [==============================] - ETA: 0s - loss: 0.6323 - face_output_loss: 0.0097 - mask_output_loss: 0.0049 - age_output_loss: 1.9014 - face_output_accuracy: 0.9983 - mask_output_accuracy: 0.9981 - age_output_accuracy: 0.5114\n",
      "Epoch 9: saving model to ../../log/cps/mtm_classification_ds\\latest_weights.h5\n",
      "353/353 [==============================] - 939s 3s/step - loss: 0.6323 - face_output_loss: 0.0097 - mask_output_loss: 0.0049 - age_output_loss: 1.9014 - face_output_accuracy: 0.9983 - mask_output_accuracy: 0.9981 - age_output_accuracy: 0.5114 - val_loss: 0.6300 - val_face_output_loss: 0.0077 - val_mask_output_loss: 0.0088 - val_age_output_loss: 1.8925 - val_face_output_accuracy: 0.9954 - val_mask_output_accuracy: 0.9950 - val_age_output_accuracy: 0.5106\n",
      "Epoch 10/10\n",
      "353/353 [==============================] - ETA: 0s - loss: 0.6298 - face_output_loss: 0.0079 - mask_output_loss: 0.0039 - age_output_loss: 1.8969 - face_output_accuracy: 0.9985 - mask_output_accuracy: 0.9989 - age_output_accuracy: 0.5128\n",
      "Epoch 10: saving model to ../../log/cps/mtm_classification_ds\\latest_weights.h5\n",
      "353/353 [==============================] - 888s 3s/step - loss: 0.6298 - face_output_loss: 0.0079 - mask_output_loss: 0.0039 - age_output_loss: 1.8969 - face_output_accuracy: 0.9985 - mask_output_accuracy: 0.9989 - age_output_accuracy: 0.5128 - val_loss: 0.6625 - val_face_output_loss: 0.0160 - val_mask_output_loss: 0.0070 - val_age_output_loss: 1.9846 - val_face_output_accuracy: 0.9989 - val_mask_output_accuracy: 0.9989 - val_age_output_accuracy: 0.5149\n"
     ]
    }
   ],
   "source": [
    "history = model.fit(\n",
    "            training_ds,\n",
    "            validation_data=validation_ds,\n",
    "            epochs=epochs, \n",
    "            callbacks=callbacks,\n",
    "            shuffle=True\n",
    "        )"
   ]
  },
  {
   "cell_type": "markdown",
   "metadata": {},
   "source": [
    "## Save the model"
   ]
  },
  {
   "cell_type": "code",
   "execution_count": 13,
   "metadata": {},
   "outputs": [
    {
     "name": "stderr",
     "output_type": "stream",
     "text": [
      "WARNING:absl:Found untraced functions such as _update_step_xla, _jit_compiled_convolution_op, _jit_compiled_convolution_op, _jit_compiled_convolution_op, _jit_compiled_convolution_op while saving (showing 5 of 54). These functions will not be directly callable after loading.\n"
     ]
    },
    {
     "name": "stdout",
     "output_type": "stream",
     "text": [
      "INFO:tensorflow:Assets written to: ../../log/saved_models/mtm_classification_ds\\assets\n"
     ]
    },
    {
     "name": "stderr",
     "output_type": "stream",
     "text": [
      "INFO:tensorflow:Assets written to: ../../log/saved_models/mtm_classification_ds\\assets\n"
     ]
    }
   ],
   "source": [
    "model.save(savedModelPath)"
   ]
  }
 ],
 "metadata": {
  "kernelspec": {
   "display_name": "Python 3.9.13 ('tensorflow_env')",
   "language": "python",
   "name": "python3"
  },
  "language_info": {
   "codemirror_mode": {
    "name": "ipython",
    "version": 3
   },
   "file_extension": ".py",
   "mimetype": "text/x-python",
   "name": "python",
   "nbconvert_exporter": "python",
   "pygments_lexer": "ipython3",
   "version": "3.9.13 (main, Oct 13 2022, 21:23:06) [MSC v.1916 64 bit (AMD64)]"
  },
  "orig_nbformat": 4,
  "vscode": {
   "interpreter": {
    "hash": "cb093c5cba338e940f2218658681cebd9a5d8f8bec398f9f020da08f4168391d"
   }
  }
 },
 "nbformat": 4,
 "nbformat_minor": 2
}
