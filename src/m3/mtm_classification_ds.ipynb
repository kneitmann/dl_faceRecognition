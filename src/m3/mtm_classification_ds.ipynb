{
 "cells": [
  {
   "cell_type": "markdown",
   "metadata": {},
   "source": [
    "# Multi Task Model"
   ]
  },
  {
   "cell_type": "markdown",
   "metadata": {},
   "source": [
    "## Imports"
   ]
  },
  {
   "cell_type": "code",
   "execution_count": null,
   "metadata": {},
   "outputs": [],
   "source": [
    "import os\n",
    "import numpy as np\n",
    "import matplotlib.pyplot as plt\n",
    "from itertools import product\n",
    "\n",
    "# Tensorflow imports\n",
    "import tensorflow as tf\n",
    "from tensorflow import keras\n",
    "import keras.backend as K\n",
    "from tensorflow.keras.applications import MobileNet\n",
    "from tensorflow.keras.applications import ResNet50\n",
    "\n",
    "from loadData_alt import createDataset"
   ]
  },
  {
   "cell_type": "markdown",
   "metadata": {},
   "source": [
    "## Model parameters"
   ]
  },
  {
   "cell_type": "code",
   "execution_count": null,
   "metadata": {},
   "outputs": [],
   "source": [
    "# Log parameters\n",
    "model_name = 'mtm_classification_ds'\n",
    "savedModelPath = f'../../log/saved_models/{model_name}'\n",
    "tb_log_dir = f'../../log/tensorboard/{model_name}'\n",
    "cp_filepath = f'../../log/cps/{model_name}/'\n",
    "\n",
    "if not os.path.exists(cp_filepath):\n",
    "    os.makedirs(cp_filepath)\n",
    "\n",
    "cp_filepath += 'latest_weights.h5'\n",
    "\n",
    "# Dynamic hyperparameters\n",
    "learningRate = 0.001\n",
    "doDataAugmentation = True\n",
    "doFineTuning = False\n",
    "dropoutRate = 0.25\n",
    "width_multiplier = 1\n",
    "depth_multiplier = 1\n",
    "\n",
    "# Training parameters\n",
    "batch_size = 32\n",
    "epochs = 5"
   ]
  },
  {
   "cell_type": "markdown",
   "metadata": {},
   "source": [
    "## Model callbacks"
   ]
  },
  {
   "cell_type": "code",
   "execution_count": null,
   "metadata": {},
   "outputs": [],
   "source": [
    "callbacks = [\n",
    "    # Checkpoint callback                    \n",
    "    keras.callbacks.ModelCheckpoint(\n",
    "                    filepath=cp_filepath, \n",
    "                    verbose=1, \n",
    "                    save_weights_only=True),\n",
    "\n",
    "    # Tensorboard callback\n",
    "    keras.callbacks.TensorBoard(log_dir=tb_log_dir, histogram_freq=1),\n",
    "\n",
    "    # Early Stopping callback\n",
    "    # keras.callbacks.EarlyStopping(\n",
    "    #                 monitor=\"val_loss\",\n",
    "    #                 patience=2,\n",
    "    #                 verbose=1)\n",
    "]"
   ]
  },
  {
   "cell_type": "markdown",
   "metadata": {},
   "source": [
    "## Data parameters"
   ]
  },
  {
   "cell_type": "code",
   "execution_count": null,
   "metadata": {},
   "outputs": [],
   "source": [
    "image_height = 160\n",
    "image_width = 160\n",
    "\n",
    "use_age_groups = True\n",
    "num_age_classes = 8 if use_age_groups else 122"
   ]
  },
  {
   "cell_type": "markdown",
   "metadata": {},
   "source": [
    "## Data Augmentation"
   ]
  },
  {
   "cell_type": "code",
   "execution_count": null,
   "metadata": {},
   "outputs": [],
   "source": [
    "data_augmentation = keras.Sequential(\n",
    "    [\n",
    "        keras.layers.RandomRotation(0.1),\n",
    "        keras.layers.RandomBrightness(0.2),\n",
    "    ]\n",
    ")"
   ]
  },
  {
   "cell_type": "markdown",
   "metadata": {},
   "source": [
    "## Creating the training datasets"
   ]
  },
  {
   "cell_type": "code",
   "execution_count": null,
   "metadata": {},
   "outputs": [],
   "source": [
    "training_ds, validation_ds = createDataset('../../data/m3/training', (image_height, image_width), batch_size, 0.2, use_age_groups=use_age_groups)"
   ]
  },
  {
   "cell_type": "markdown",
   "metadata": {},
   "source": [
    "## Creating the test dataset"
   ]
  },
  {
   "cell_type": "code",
   "execution_count": null,
   "metadata": {},
   "outputs": [],
   "source": [
    "#test_ds = createDataset('../../data/m3/training', batch_size, 0)"
   ]
  },
  {
   "cell_type": "markdown",
   "metadata": {},
   "source": [
    "## Load the ResNet model"
   ]
  },
  {
   "cell_type": "code",
   "execution_count": null,
   "metadata": {},
   "outputs": [],
   "source": [
    "# Loading either the MobileNet architecture model or the previously saved model, and freeze it for transfer learning\n",
    "base = ResNet50(\n",
    "                input_shape=(image_height, image_width, 3), # Optional shape tuple, only to be specified if include_top is False\n",
    "                # alpha=width_multiplier, # Controls the width of the network. (Width multiplier)\n",
    "                # depth_multiplier=depth_multiplier, # Depth multiplier for depthwise convolution. (Resolution multiplier)\n",
    "                # dropout=dropoutRate, # Dropout rate. Default to 0.001.\n",
    "                weights=\"imagenet\",\n",
    "                # input_tensor=None,\n",
    "                # pooling='avg', # Optional pooling mode for feature extraction when include_top is False. (None, avg, max)\n",
    "                include_top=False\n",
    "                )\n",
    "           \n",
    "# Freeze the base model\n",
    "base.trainable = False\n",
    "\n",
    "inputs = keras.Input(shape=(image_height, image_width, 3))\n",
    "# Data Augmentation on input\n",
    "if(doDataAugmentation):\n",
    "    inputs = data_augmentation(inputs)\n",
    "\n",
    "# Running base model in inference mode\n",
    "base_model = base(inputs, training=False)\n",
    "base_model = keras.layers.GlobalAveragePooling2D()(base_model)\n",
    "base_model = keras.layers.Dense(1024)(base_model)\n",
    "base_model = keras.layers.Dropout(0.3)(base_model)"
   ]
  },
  {
   "cell_type": "markdown",
   "metadata": {},
   "source": [
    "## Creating Task 1 (Face Detection) Top Model"
   ]
  },
  {
   "cell_type": "code",
   "execution_count": null,
   "metadata": {},
   "outputs": [],
   "source": [
    "# Add Dense layer\n",
    "face_head = tf.keras.layers.Dense(256, activation='relu')(base_model)\n",
    "face_head = keras.layers.BatchNormalization()(face_head)\n",
    "face_head = keras.layers.Activation('relu')(face_head)\n",
    "face_head = keras.layers.Dropout(0.2)(face_head)\n",
    "face_head = tf.keras.layers.Dense(128, activation='relu')(face_head)\n",
    "\n",
    "# Final layer for binary classification\n",
    "face_outputs = keras.layers.Dense(1, activation='sigmoid', name='face_output')(face_head)\n"
   ]
  },
  {
   "cell_type": "markdown",
   "metadata": {},
   "source": [
    "## Creating Task 2 (Mask Detection) Top Model"
   ]
  },
  {
   "cell_type": "code",
   "execution_count": null,
   "metadata": {},
   "outputs": [],
   "source": [
    "# Add Dense layer\n",
    "mask_head = tf.keras.layers.Dense(256, activation='relu')(base_model)\n",
    "mask_head = keras.layers.BatchNormalization()(mask_head)\n",
    "mask_head = keras.layers.Activation('relu')(mask_head)\n",
    "mask_head = keras.layers.Dropout(0.2)(mask_head)\n",
    "mask_head = tf.keras.layers.Dense(128, activation='relu')(mask_head)\n",
    "\n",
    "# Final layer for binary classification\n",
    "mask_outputs = keras.layers.Dense(1, activation='sigmoid', name='mask_output')(mask_head)"
   ]
  },
  {
   "cell_type": "markdown",
   "metadata": {},
   "source": [
    "## Creating Task 3 (Age Prediction) Top Model"
   ]
  },
  {
   "cell_type": "code",
   "execution_count": null,
   "metadata": {},
   "outputs": [],
   "source": [
    "# Add Dense layer\n",
    "age_head = tf.keras.layers.Dense(512, activation='relu')(base_model)\n",
    "age_head = keras.layers.BatchNormalization()(age_head)\n",
    "age_head = keras.layers.Activation('relu')(age_head)\n",
    "age_head = keras.layers.Dropout(0.2)(age_head)\n",
    "age_head = tf.keras.layers.Dense(256, activation='relu')(age_head)\n",
    "\n",
    "# Final layer for binary classification\n",
    "age_outputs = keras.layers.Dense(num_age_classes, activation='softmax', name='age_output')(age_head)"
   ]
  },
  {
   "cell_type": "code",
   "execution_count": null,
   "metadata": {},
   "outputs": [],
   "source": [
    "age_class_weights = np.ones((num_age_classes, num_age_classes), dtype=np.float32)\n",
    "age_class_weights[:, num_age_classes-1] = 0.0 # Last class will be ignored (invalid data)\n",
    "age_class_weights[num_age_classes-1, :] = 0.0 # Last class will be ignored (invalid data)\n",
    "\n",
    "print(age_class_weights)\n",
    "def WeightedCategoricalCrossentropy(y_true, y_pred):\n",
    "    nb_cl = len(age_class_weights)\n",
    "    final_mask = K.zeros_like(y_pred[:, 0])\n",
    "    y_pred_max = K.max(y_pred, axis=1)\n",
    "    y_pred_max = K.reshape(y_pred_max, (K.shape(y_pred)[0], 1))\n",
    "    y_pred_max_mat = K.equal(y_pred, y_pred_max)\n",
    "    y_pred_max_mat = tf.where(y_pred_max_mat, 1.0, 0.0)\n",
    "    for c_p, c_t in product(range(nb_cl), range(nb_cl)):\n",
    "        final_mask += (age_class_weights[c_t, c_p] * y_pred_max_mat[:, c_p] * y_true[:, c_t])\n",
    "    return K.categorical_crossentropy(y_pred, y_true) * final_mask\n"
   ]
  },
  {
   "cell_type": "markdown",
   "metadata": {},
   "source": [
    "## Creating and compiling the final model"
   ]
  },
  {
   "cell_type": "code",
   "execution_count": null,
   "metadata": {},
   "outputs": [],
   "source": [
    "\n",
    "model = keras.Model(inputs, [face_outputs, mask_outputs, age_outputs])\n",
    "#keras.utils.plot_model(model)\n",
    "\n",
    "# Using a joint loss function for the three tasks:\n",
    "# [ Loss = gamma * Loss_task1 + gamma * Loss_task2 + gamma * Loss_task3 ]\n",
    "# Because every task is dependant on every other task, the model receives the loss of every task when gamma > 0\n",
    "\n",
    "gamma = 1\n",
    "\n",
    "model.compile(\n",
    "      optimizer=keras.optimizers.Adam(0.01), # Learning Rate?\n",
    "            loss={\n",
    "                  'face_output': 'binary_crossentropy', \n",
    "                  'mask_output': 'binary_crossentropy',\n",
    "                  'age_output': 'categorical_crossentropy'\n",
    "                  },\n",
    "            loss_weights={\n",
    "                  'face_output': 0.33 * gamma, \n",
    "                  'mask_output': 0.33 * gamma,\n",
    "                  'age_output': 0.33 * gamma\n",
    "                  }, \n",
    "            metrics={\n",
    "                  'face_output': 'binary_accuracy', \n",
    "                  'mask_output': 'binary_accuracy',\n",
    "                  'age_output': 'categorical_accuracy'\n",
    "                  },\n",
    ")\n",
    "\n",
    "model.summary()"
   ]
  },
  {
   "cell_type": "markdown",
   "metadata": {},
   "source": [
    "## Training the model with the dataset"
   ]
  },
  {
   "cell_type": "code",
   "execution_count": null,
   "metadata": {},
   "outputs": [],
   "source": [
    "history = model.fit(\n",
    "            training_ds,\n",
    "            validation_data=validation_ds,\n",
    "            epochs=epochs, \n",
    "            callbacks=callbacks,\n",
    "            shuffle=True\n",
    "        )"
   ]
  },
  {
   "cell_type": "markdown",
   "metadata": {},
   "source": [
    "## Fine tuning"
   ]
  },
  {
   "cell_type": "code",
   "execution_count": null,
   "metadata": {},
   "outputs": [],
   "source": [
    "if doFineTuning:\n",
    "      model_name = model_name + '_ft'\n",
    "      base.trainable = True\n",
    "\n",
    "      model.compile(\n",
    "            optimizer=keras.optimizers.Adam(1e-5),  # Low learning rate\n",
    "            loss={\n",
    "                  'face_output': 'binary_crossentropy', \n",
    "                  'mask_output': 'binary_crossentropy',\n",
    "                  'age_output': 'categorical_crossentropy'\n",
    "                  },\n",
    "            loss_weights={\n",
    "                  'face_output': 0.33 * gamma, \n",
    "                  'mask_output': 0.33 * gamma,\n",
    "                  'age_output': 0.33 * gamma\n",
    "                  }, \n",
    "                  metrics=['accuracy']\n",
    "      )\n",
    "\n",
    "      model.fit(training_ds, epochs=epochs)"
   ]
  },
  {
   "cell_type": "markdown",
   "metadata": {},
   "source": [
    "## Save the model"
   ]
  },
  {
   "cell_type": "code",
   "execution_count": null,
   "metadata": {},
   "outputs": [],
   "source": [
    "model.save(savedModelPath)"
   ]
  },
  {
   "cell_type": "markdown",
   "metadata": {},
   "source": [
    "## Test model with test dataset"
   ]
  },
  {
   "cell_type": "code",
   "execution_count": null,
   "metadata": {},
   "outputs": [],
   "source": [
    "#results = model.evaluate(test_ds)\n",
    "\n",
    "#print(f'Loss: {results[0]}; Accuracy: {results[1]}')"
   ]
  },
  {
   "cell_type": "markdown",
   "metadata": {},
   "source": [
    "## Predict new images"
   ]
  },
  {
   "cell_type": "code",
   "execution_count": null,
   "metadata": {},
   "outputs": [],
   "source": [
    "# https://www.tensorflow.org/tutorials/images/classification\n",
    "\n",
    "img = tf.keras.utils.load_img(\n",
    "    '../../data/m3/training/face/noMask/1_0_21_503486.jpg', target_size=(image_height, image_width)\n",
    ")\n",
    "img_array = tf.keras.utils.img_to_array(img)\n",
    "img_array_batch = tf.expand_dims(img_array, 0) # Create a batch\n",
    "\n",
    "preds = model.predict(img_array_batch)\n",
    "age_output_indexes = np.array([i for i in range(0, num_age_classes)])\n",
    "\n",
    "face_pred_percent = preds[0][0][0]*100\n",
    "mask_pred_percent = preds[1][0][0]*100\n",
    "age_preds = preds[2][0]\n",
    "age_pred = np.argmax(age_preds)\n",
    "apparent_predictions = np.sum(age_preds * age_output_indexes)\n",
    "\n",
    "ax = plt.subplot(1, 1, 1)\n",
    "plt.imshow(img)\n",
    "plt.title(\"Face: {:.2f}% | Mask: {:.2f}% | Age: {:.0f}\".format(face_pred_percent, mask_pred_percent, apparent_predictions))"
   ]
  }
 ],
 "metadata": {
  "kernelspec": {
   "display_name": "Python 3.9.13 ('tensorflow_env')",
   "language": "python",
   "name": "python3"
  },
  "language_info": {
   "codemirror_mode": {
    "name": "ipython",
    "version": 3
   },
   "file_extension": ".py",
   "mimetype": "text/x-python",
   "name": "python",
   "nbconvert_exporter": "python",
   "pygments_lexer": "ipython3",
   "version": "3.10.6 | packaged by conda-forge | (main, Oct  7 2022, 20:14:50) [MSC v.1916 64 bit (AMD64)]"
  },
  "orig_nbformat": 4,
  "vscode": {
   "interpreter": {
    "hash": "cb093c5cba338e940f2218658681cebd9a5d8f8bec398f9f020da08f4168391d"
   }
  }
 },
 "nbformat": 4,
 "nbformat_minor": 2
}
