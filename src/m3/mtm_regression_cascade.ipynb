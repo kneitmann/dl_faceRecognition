{
 "cells": [
  {
   "cell_type": "markdown",
   "metadata": {},
   "source": [
    "# Multi Task Model"
   ]
  },
  {
   "cell_type": "markdown",
   "metadata": {},
   "source": [
    "## Imports"
   ]
  },
  {
   "cell_type": "code",
   "execution_count": 2,
   "metadata": {},
   "outputs": [],
   "source": [
    "import os\n",
    "import numpy as np\n",
    "import matplotlib.pyplot as plt\n",
    "\n",
    "# Tensorflow imports\n",
    "import tensorflow as tf\n",
    "from tensorflow import keras\n",
    "from tensorflow.keras.applications import MobileNet\n",
    "from tensorflow.keras.applications import ResNet50\n",
    "\n",
    "from loadData_alt import createDataset"
   ]
  },
  {
   "cell_type": "markdown",
   "metadata": {},
   "source": [
    "## Model parameters"
   ]
  },
  {
   "cell_type": "code",
   "execution_count": 3,
   "metadata": {},
   "outputs": [],
   "source": [
    "# Log parameters\n",
    "model_name = 'mtm_regression_cascade_ds'\n",
    "savedModelPath = f'../../log/saved_models/{model_name}'\n",
    "tb_log_dir = f'../../log/tensorboard/{model_name}'\n",
    "cp_filepath = f'../../log/cps/{model_name}/'\n",
    "\n",
    "if not os.path.exists(cp_filepath):\n",
    "    os.makedirs(cp_filepath)\n",
    "\n",
    "cp_filepath += 'latest_weights.h5'\n",
    "\n",
    "# Dynamic hyperparameters\n",
    "learningRate = 0.001\n",
    "doDataAugmentation = True\n",
    "doFineTuning = False\n",
    "dropoutRate = 0.25\n",
    "width_multiplier = 1\n",
    "depth_multiplier = 1\n",
    "\n",
    "# Training parameters\n",
    "batch_size = 32\n",
    "epochs = 10"
   ]
  },
  {
   "cell_type": "markdown",
   "metadata": {},
   "source": [
    "## Model callbacks"
   ]
  },
  {
   "cell_type": "code",
   "execution_count": 4,
   "metadata": {},
   "outputs": [],
   "source": [
    "callbacks = [\n",
    "    # Checkpoint callback                    \n",
    "    keras.callbacks.ModelCheckpoint(\n",
    "                    filepath=cp_filepath, \n",
    "                    verbose=1, \n",
    "                    save_weights_only=True),\n",
    "\n",
    "    # Tensorboard callback\n",
    "    keras.callbacks.TensorBoard(log_dir=tb_log_dir, histogram_freq=1),\n",
    "\n",
    "    # Early Stopping callback\n",
    "    # keras.callbacks.EarlyStopping(\n",
    "    #                 monitor=\"val_loss\",\n",
    "    #                 patience=2,\n",
    "    #                 verbose=1)\n",
    "]"
   ]
  },
  {
   "cell_type": "markdown",
   "metadata": {},
   "source": [
    "## Data parameters"
   ]
  },
  {
   "cell_type": "code",
   "execution_count": 5,
   "metadata": {},
   "outputs": [],
   "source": [
    "image_height = 160\n",
    "image_width = 160"
   ]
  },
  {
   "cell_type": "markdown",
   "metadata": {},
   "source": [
    "## Data Augmentation"
   ]
  },
  {
   "cell_type": "code",
   "execution_count": 6,
   "metadata": {},
   "outputs": [],
   "source": [
    "data_augmentation = keras.Sequential(\n",
    "    [\n",
    "        keras.layers.RandomRotation(0.1),\n",
    "        keras.layers.RandomBrightness(0.2),\n",
    "    ]\n",
    ")"
   ]
  },
  {
   "cell_type": "markdown",
   "metadata": {},
   "source": [
    "## Creating the training datasets"
   ]
  },
  {
   "cell_type": "code",
   "execution_count": 7,
   "metadata": {},
   "outputs": [
    {
     "name": "stdout",
     "output_type": "stream",
     "text": [
      "WARNING:tensorflow:From c:\\Users\\Zolkin\\anaconda3\\envs\\tensorflow_env\\lib\\site-packages\\tensorflow\\python\\autograph\\pyct\\static_analysis\\liveness.py:83: Analyzer.lamba_check (from tensorflow.python.autograph.pyct.static_analysis.liveness) is deprecated and will be removed after 2023-09-23.\n",
      "Instructions for updating:\n",
      "Lambda fuctions will be no more assumed to be used in the statement where they are used, or at least in the same block. https://github.com/tensorflow/tensorflow/issues/56089\n"
     ]
    }
   ],
   "source": [
    "training_ds, validation_ds = createDataset('../../data/m3/training', (image_height, image_width), batch_size, 0.2, for_regression=True)"
   ]
  },
  {
   "cell_type": "markdown",
   "metadata": {},
   "source": [
    "## Load the ResNet model"
   ]
  },
  {
   "cell_type": "code",
   "execution_count": 8,
   "metadata": {},
   "outputs": [
    {
     "name": "stdout",
     "output_type": "stream",
     "text": [
      "WARNING:tensorflow:Using a while_loop for converting RngReadAndSkip cause there is no registered converter for this op.\n",
      "WARNING:tensorflow:Using a while_loop for converting Bitcast cause there is no registered converter for this op.\n",
      "WARNING:tensorflow:Using a while_loop for converting Bitcast cause there is no registered converter for this op.\n",
      "WARNING:tensorflow:Using a while_loop for converting StatelessRandomUniformV2 cause there is no registered converter for this op.\n",
      "WARNING:tensorflow:Using a while_loop for converting ImageProjectiveTransformV3 cause there is no registered converter for this op.\n",
      "WARNING:tensorflow:Using a while_loop for converting RngReadAndSkip cause there is no registered converter for this op.\n",
      "WARNING:tensorflow:Using a while_loop for converting Bitcast cause there is no registered converter for this op.\n",
      "WARNING:tensorflow:Using a while_loop for converting Bitcast cause there is no registered converter for this op.\n",
      "WARNING:tensorflow:Using a while_loop for converting StatelessRandomUniformV2 cause there is no registered converter for this op.\n",
      "WARNING:tensorflow:Using a while_loop for converting RngReadAndSkip cause there is no registered converter for this op.\n",
      "WARNING:tensorflow:Using a while_loop for converting Bitcast cause there is no registered converter for this op.\n",
      "WARNING:tensorflow:Using a while_loop for converting Bitcast cause there is no registered converter for this op.\n",
      "WARNING:tensorflow:Using a while_loop for converting StatelessRandomUniformV2 cause there is no registered converter for this op.\n",
      "WARNING:tensorflow:Using a while_loop for converting ImageProjectiveTransformV3 cause there is no registered converter for this op.\n",
      "WARNING:tensorflow:Using a while_loop for converting RngReadAndSkip cause there is no registered converter for this op.\n",
      "WARNING:tensorflow:Using a while_loop for converting Bitcast cause there is no registered converter for this op.\n",
      "WARNING:tensorflow:Using a while_loop for converting Bitcast cause there is no registered converter for this op.\n",
      "WARNING:tensorflow:Using a while_loop for converting StatelessRandomUniformV2 cause there is no registered converter for this op.\n"
     ]
    }
   ],
   "source": [
    "# Loading either the MobileNet architecture model or the previously saved model, and freeze it for transfer learning\n",
    "mobilenet = ResNet50(\n",
    "                input_shape=(image_height, image_width, 3), # Optional shape tuple, only to be specified if include_top is False\n",
    "                # alpha=width_multiplier, # Controls the width of the network. (Width multiplier)\n",
    "                # depth_multiplier=depth_multiplier, # Depth multiplier for depthwise convolution. (Resolution multiplier)\n",
    "                # dropout=dropoutRate, # Dropout rate. Default to 0.001.\n",
    "                weights=\"imagenet\",\n",
    "                # input_tensor=None,\n",
    "                # pooling='avg', # Optional pooling mode for feature extraction when include_top is False. (None, avg, max)\n",
    "                include_top=False\n",
    "                )\n",
    "           \n",
    "# Freeze the base model\n",
    "mobilenet.trainable = False\n",
    "\n",
    "inputs = keras.Input(shape=(image_height, image_width, 3))\n",
    "\n",
    "# Data Augmentation on input\n",
    "if(doDataAugmentation):\n",
    "    inputs = data_augmentation(inputs)\n",
    "\n",
    "# Running base model in inference mode\n",
    "base_model = mobilenet(inputs, training=False)\n",
    "base_model = keras.layers.GlobalAveragePooling2D()(base_model)\n",
    "base_model = keras.layers.Dropout(0.3)(base_model)"
   ]
  },
  {
   "cell_type": "markdown",
   "metadata": {},
   "source": [
    "## Creating Task 1 (Face Detection) Top Model"
   ]
  },
  {
   "cell_type": "code",
   "execution_count": 9,
   "metadata": {},
   "outputs": [],
   "source": [
    "# Add Dense layer\n",
    "face_head = tf.keras.layers.Dense(256, activation='relu')(base_model)\n",
    "face_head = keras.layers.BatchNormalization()(face_head)\n",
    "face_head = keras.layers.Activation('relu')(face_head)\n",
    "face_head = keras.layers.Dropout(0.2)(face_head)\n",
    "face_head = tf.keras.layers.Dense(128, activation='relu')(face_head)\n",
    "face_head = tf.keras.layers.Dense(64, activation='relu')(face_head)\n",
    "\n",
    "# Final layer for binary classification\n",
    "face_outputs = keras.layers.Dense(1, activation='sigmoid')(face_head)"
   ]
  },
  {
   "cell_type": "code",
   "execution_count": 10,
   "metadata": {},
   "outputs": [],
   "source": [
    "multiply_layer = keras.layers.Multiply()([base_model, face_outputs])\n",
    "multiply_layer = keras.layers.Dense(512, activation='relu')(multiply_layer)"
   ]
  },
  {
   "cell_type": "markdown",
   "metadata": {},
   "source": [
    "## Creating Task 2 (Mask Detection) Top Model"
   ]
  },
  {
   "cell_type": "code",
   "execution_count": 11,
   "metadata": {},
   "outputs": [],
   "source": [
    "# Add Dense layer\n",
    "mask_head = tf.keras.layers.Dense(128, activation='relu')(multiply_layer)\n",
    "mask_head = keras.layers.BatchNormalization()(mask_head)\n",
    "mask_head = keras.layers.Activation('relu')(mask_head)\n",
    "mask_head = keras.layers.Dropout(0.2)(mask_head)\n",
    "mask_head = tf.keras.layers.Dense(64, activation='relu')(mask_head)\n",
    "\n",
    "# Final layer for binary classification\n",
    "mask_outputs = keras.layers.Dense(1, activation='sigmoid', name='mask_output')(mask_head)"
   ]
  },
  {
   "cell_type": "markdown",
   "metadata": {},
   "source": [
    "## Creating Task 3 (Age Prediction) Top Model"
   ]
  },
  {
   "cell_type": "code",
   "execution_count": 12,
   "metadata": {},
   "outputs": [],
   "source": [
    "# Add Dense layer\n",
    "age_head = tf.keras.layers.Dense(256, activation='relu')(multiply_layer)\n",
    "age_head = keras.layers.BatchNormalization()(age_head)\n",
    "age_head = keras.layers.Activation('relu')(age_head)\n",
    "age_head = keras.layers.Dropout(0.2)(age_head)\n",
    "age_head = tf.keras.layers.Dense(128, activation='relu')(age_head)\n",
    "age_head = tf.keras.layers.Dense(64, activation='relu')(age_head)\n",
    "\n",
    "# Final layer for binary classification\n",
    "age_outputs = keras.layers.Dense(1, activation='relu', name='age_output')(age_head)"
   ]
  },
  {
   "cell_type": "code",
   "execution_count": 13,
   "metadata": {},
   "outputs": [],
   "source": [
    "face_outputs = keras.layers.Dense(1, activation='sigmoid', name='face_output')(multiply_layer)"
   ]
  },
  {
   "cell_type": "markdown",
   "metadata": {},
   "source": [
    "## Creating and compiling the final model"
   ]
  },
  {
   "cell_type": "code",
   "execution_count": 14,
   "metadata": {},
   "outputs": [
    {
     "name": "stdout",
     "output_type": "stream",
     "text": [
      "Model: \"model\"\n",
      "__________________________________________________________________________________________________\n",
      " Layer (type)                   Output Shape         Param #     Connected to                     \n",
      "==================================================================================================\n",
      " input_3 (InputLayer)           [(None, 160, 160, 3  0           []                               \n",
      "                                )]                                                                \n",
      "                                                                                                  \n",
      " resnet50 (Functional)          (None, 5, 5, 2048)   23587712    ['input_3[0][0]']                \n",
      "                                                                                                  \n",
      " global_average_pooling2d (Glob  (None, 2048)        0           ['resnet50[1][0]']               \n",
      " alAveragePooling2D)                                                                              \n",
      "                                                                                                  \n",
      " dropout (Dropout)              (None, 2048)         0           ['global_average_pooling2d[1][0]'\n",
      "                                                                 ]                                \n",
      "                                                                                                  \n",
      " dense (Dense)                  (None, 256)          524544      ['dropout[1][0]']                \n",
      "                                                                                                  \n",
      " batch_normalization (BatchNorm  (None, 256)         1024        ['dense[1][0]']                  \n",
      " alization)                                                                                       \n",
      "                                                                                                  \n",
      " activation (Activation)        (None, 256)          0           ['batch_normalization[1][0]']    \n",
      "                                                                                                  \n",
      " dropout_1 (Dropout)            (None, 256)          0           ['activation[1][0]']             \n",
      "                                                                                                  \n",
      " dense_1 (Dense)                (None, 128)          32896       ['dropout_1[1][0]']              \n",
      "                                                                                                  \n",
      " dense_2 (Dense)                (None, 64)           8256        ['dense_1[1][0]']                \n",
      "                                                                                                  \n",
      " dense_3 (Dense)                (None, 1)            65          ['dense_2[1][0]']                \n",
      "                                                                                                  \n",
      " multiply (Multiply)            (None, 2048)         0           ['dropout[1][0]',                \n",
      "                                                                  'dense_3[1][0]']                \n",
      "                                                                                                  \n",
      " dense_4 (Dense)                (None, 512)          1049088     ['multiply[1][0]']               \n",
      "                                                                                                  \n",
      " dense_7 (Dense)                (None, 256)          131328      ['dense_4[1][0]']                \n",
      "                                                                                                  \n",
      " dense_5 (Dense)                (None, 128)          65664       ['dense_4[1][0]']                \n",
      "                                                                                                  \n",
      " batch_normalization_2 (BatchNo  (None, 256)         1024        ['dense_7[1][0]']                \n",
      " rmalization)                                                                                     \n",
      "                                                                                                  \n",
      " batch_normalization_1 (BatchNo  (None, 128)         512         ['dense_5[1][0]']                \n",
      " rmalization)                                                                                     \n",
      "                                                                                                  \n",
      " activation_2 (Activation)      (None, 256)          0           ['batch_normalization_2[1][0]']  \n",
      "                                                                                                  \n",
      " activation_1 (Activation)      (None, 128)          0           ['batch_normalization_1[1][0]']  \n",
      "                                                                                                  \n",
      " dropout_3 (Dropout)            (None, 256)          0           ['activation_2[1][0]']           \n",
      "                                                                                                  \n",
      " dropout_2 (Dropout)            (None, 128)          0           ['activation_1[1][0]']           \n",
      "                                                                                                  \n",
      " dense_8 (Dense)                (None, 128)          32896       ['dropout_3[1][0]']              \n",
      "                                                                                                  \n",
      " dense_6 (Dense)                (None, 64)           8256        ['dropout_2[1][0]']              \n",
      "                                                                                                  \n",
      " dense_9 (Dense)                (None, 64)           8256        ['dense_8[1][0]']                \n",
      "                                                                                                  \n",
      " face_output (Dense)            (None, 1)            513         ['dense_4[1][0]']                \n",
      "                                                                                                  \n",
      " mask_output (Dense)            (None, 1)            65          ['dense_6[1][0]']                \n",
      "                                                                                                  \n",
      " age_output (Dense)             (None, 1)            65          ['dense_9[1][0]']                \n",
      "                                                                                                  \n",
      "==================================================================================================\n",
      "Total params: 25,452,164\n",
      "Trainable params: 1,863,172\n",
      "Non-trainable params: 23,588,992\n",
      "__________________________________________________________________________________________________\n"
     ]
    }
   ],
   "source": [
    "\n",
    "model = keras.Model(inputs, [face_outputs, mask_outputs, age_outputs])\n",
    "keras.utils.plot_model(model, to_file=f'{model_name}.png', show_layer_activations=True)\n",
    "\n",
    "# Using a joint loss function for the three tasks:\n",
    "# [ Loss = gamma * Loss_task1 + gamma * Loss_task2 + gamma * Loss_task3 ]\n",
    "# Because every task is dependant on every other task, the model receives the loss of every task when gamma > 0\n",
    "\n",
    "gamma = 1\n",
    "\n",
    "model.compile(\n",
    "      optimizer=keras.optimizers.Adam(), # Learning Rate?\n",
    "            loss={\n",
    "                  'face_output': 'mean_squared_error', \n",
    "                  'mask_output': 'mean_squared_error',\n",
    "                  'age_output': 'mean_squared_error'\n",
    "                  },\n",
    "            loss_weights={\n",
    "                  'face_output': 0.33 * gamma,\n",
    "                  'mask_output': 0.33 * gamma,\n",
    "                  'age_output': 0.33 * gamma\n",
    "                  }, \n",
    "            metrics={\n",
    "                  'face_output': 'mean_absolute_error', \n",
    "                  'mask_output': 'mean_absolute_error',\n",
    "                  'age_output': 'mean_absolute_error'\n",
    "                  },\n",
    ")\n",
    "\n",
    "model.summary()"
   ]
  },
  {
   "cell_type": "markdown",
   "metadata": {},
   "source": [
    "## Training the model with the dataset"
   ]
  },
  {
   "cell_type": "code",
   "execution_count": 15,
   "metadata": {},
   "outputs": [
    {
     "name": "stdout",
     "output_type": "stream",
     "text": [
      "Epoch 1/10\n",
      "353/353 [==============================] - ETA: 0s - loss: 305.2859 - face_output_loss: 0.0311 - mask_output_loss: 0.0246 - age_output_loss: 925.0530 - face_output_mean_absolute_error: 0.0588 - mask_output_mean_absolute_error: 0.0629 - age_output_mean_absolute_error: 20.9830\n",
      "Epoch 1: saving model to ../../log/cps/mtm_regression_cascade_ds\\latest_weights.h5\n",
      "353/353 [==============================] - 1257s 3s/step - loss: 305.2859 - face_output_loss: 0.0311 - mask_output_loss: 0.0246 - age_output_loss: 925.0530 - face_output_mean_absolute_error: 0.0588 - mask_output_mean_absolute_error: 0.0629 - age_output_mean_absolute_error: 20.9830 - val_loss: 132.8019 - val_face_output_loss: 0.0035 - val_mask_output_loss: 0.0032 - val_age_output_loss: 402.4230 - val_face_output_mean_absolute_error: 0.0071 - val_mask_output_mean_absolute_error: 0.0128 - val_age_output_mean_absolute_error: 16.0393\n",
      "Epoch 2/10\n",
      "353/353 [==============================] - ETA: 0s - loss: 85.0149 - face_output_loss: 0.0029 - mask_output_loss: 0.0054 - age_output_loss: 257.6126 - face_output_mean_absolute_error: 0.0069 - mask_output_mean_absolute_error: 0.0184 - age_output_mean_absolute_error: 12.3064\n",
      "Epoch 2: saving model to ../../log/cps/mtm_regression_cascade_ds\\latest_weights.h5\n",
      "353/353 [==============================] - 1124s 3s/step - loss: 85.0149 - face_output_loss: 0.0029 - mask_output_loss: 0.0054 - age_output_loss: 257.6126 - face_output_mean_absolute_error: 0.0069 - mask_output_mean_absolute_error: 0.0184 - age_output_mean_absolute_error: 12.3064 - val_loss: 79.7016 - val_face_output_loss: 0.0016 - val_mask_output_loss: 0.0078 - val_age_output_loss: 241.5105 - val_face_output_mean_absolute_error: 0.0028 - val_mask_output_mean_absolute_error: 0.0167 - val_age_output_mean_absolute_error: 12.4325\n",
      "Epoch 3/10\n",
      "353/353 [==============================] - ETA: 0s - loss: 57.5377 - face_output_loss: 0.0014 - mask_output_loss: 0.0037 - age_output_loss: 174.3517 - face_output_mean_absolute_error: 0.0020 - mask_output_mean_absolute_error: 0.0106 - age_output_mean_absolute_error: 10.0943\n",
      "Epoch 3: saving model to ../../log/cps/mtm_regression_cascade_ds\\latest_weights.h5\n",
      "353/353 [==============================] - 1097s 3s/step - loss: 57.5377 - face_output_loss: 0.0014 - mask_output_loss: 0.0037 - age_output_loss: 174.3517 - face_output_mean_absolute_error: 0.0020 - mask_output_mean_absolute_error: 0.0106 - age_output_mean_absolute_error: 10.0943 - val_loss: 34.9740 - val_face_output_loss: 0.0028 - val_mask_output_loss: 0.0017 - val_age_output_loss: 105.9773 - val_face_output_mean_absolute_error: 0.0041 - val_mask_output_mean_absolute_error: 0.0048 - val_age_output_mean_absolute_error: 7.9654\n",
      "Epoch 4/10\n",
      "353/353 [==============================] - ETA: 0s - loss: 37.3913 - face_output_loss: 6.0805e-04 - mask_output_loss: 0.0031 - age_output_loss: 113.3034 - face_output_mean_absolute_error: 0.0010 - mask_output_mean_absolute_error: 0.0080 - age_output_mean_absolute_error: 7.9629\n",
      "Epoch 4: saving model to ../../log/cps/mtm_regression_cascade_ds\\latest_weights.h5\n",
      "353/353 [==============================] - 1077s 3s/step - loss: 37.3913 - face_output_loss: 6.0805e-04 - mask_output_loss: 0.0031 - age_output_loss: 113.3034 - face_output_mean_absolute_error: 0.0010 - mask_output_mean_absolute_error: 0.0080 - age_output_mean_absolute_error: 7.9629 - val_loss: 30.6320 - val_face_output_loss: 0.0015 - val_mask_output_loss: 0.0022 - val_age_output_loss: 92.8204 - val_face_output_mean_absolute_error: 0.0020 - val_mask_output_mean_absolute_error: 0.0037 - val_age_output_mean_absolute_error: 6.6544\n",
      "Epoch 5/10\n",
      "353/353 [==============================] - ETA: 0s - loss: 31.5722 - face_output_loss: 9.3423e-04 - mask_output_loss: 0.0029 - age_output_loss: 95.6695 - face_output_mean_absolute_error: 0.0013 - mask_output_mean_absolute_error: 0.0073 - age_output_mean_absolute_error: 7.1360\n",
      "Epoch 5: saving model to ../../log/cps/mtm_regression_cascade_ds\\latest_weights.h5\n",
      "353/353 [==============================] - 902s 3s/step - loss: 31.5722 - face_output_loss: 9.3423e-04 - mask_output_loss: 0.0029 - age_output_loss: 95.6695 - face_output_mean_absolute_error: 0.0013 - mask_output_mean_absolute_error: 0.0073 - age_output_mean_absolute_error: 7.1360 - val_loss: 25.1354 - val_face_output_loss: 0.0019 - val_mask_output_loss: 0.0170 - val_age_output_loss: 76.1491 - val_face_output_mean_absolute_error: 0.0021 - val_mask_output_mean_absolute_error: 0.0300 - val_age_output_mean_absolute_error: 5.7237\n",
      "Epoch 6/10\n",
      "353/353 [==============================] - ETA: 0s - loss: 27.1574 - face_output_loss: 8.5381e-04 - mask_output_loss: 0.0026 - age_output_loss: 82.2916 - face_output_mean_absolute_error: 0.0010 - mask_output_mean_absolute_error: 0.0064 - age_output_mean_absolute_error: 6.5713\n",
      "Epoch 6: saving model to ../../log/cps/mtm_regression_cascade_ds\\latest_weights.h5\n",
      "353/353 [==============================] - 915s 3s/step - loss: 27.1574 - face_output_loss: 8.5381e-04 - mask_output_loss: 0.0026 - age_output_loss: 82.2916 - face_output_mean_absolute_error: 0.0010 - mask_output_mean_absolute_error: 0.0064 - age_output_mean_absolute_error: 6.5713 - val_loss: 30.3702 - val_face_output_loss: 0.0017 - val_mask_output_loss: 0.0023 - val_age_output_loss: 92.0270 - val_face_output_mean_absolute_error: 0.0020 - val_mask_output_mean_absolute_error: 0.0048 - val_age_output_mean_absolute_error: 6.7736\n",
      "Epoch 7/10\n",
      "353/353 [==============================] - ETA: 0s - loss: 26.9587 - face_output_loss: 4.7686e-04 - mask_output_loss: 0.0022 - age_output_loss: 81.6903 - face_output_mean_absolute_error: 5.7155e-04 - mask_output_mean_absolute_error: 0.0054 - age_output_mean_absolute_error: 6.4666\n",
      "Epoch 7: saving model to ../../log/cps/mtm_regression_cascade_ds\\latest_weights.h5\n",
      "353/353 [==============================] - 897s 3s/step - loss: 26.9587 - face_output_loss: 4.7686e-04 - mask_output_loss: 0.0022 - age_output_loss: 81.6903 - face_output_mean_absolute_error: 5.7155e-04 - mask_output_mean_absolute_error: 0.0054 - age_output_mean_absolute_error: 6.4666 - val_loss: 25.7784 - val_face_output_loss: 0.0011 - val_mask_output_loss: 0.0192 - val_age_output_loss: 78.0959 - val_face_output_mean_absolute_error: 0.0015 - val_mask_output_mean_absolute_error: 0.0264 - val_age_output_mean_absolute_error: 6.4924\n",
      "Epoch 8/10\n",
      "353/353 [==============================] - ETA: 0s - loss: 26.0589 - face_output_loss: 8.1859e-04 - mask_output_loss: 0.0018 - age_output_loss: 78.9638 - face_output_mean_absolute_error: 0.0011 - mask_output_mean_absolute_error: 0.0050 - age_output_mean_absolute_error: 6.3823\n",
      "Epoch 8: saving model to ../../log/cps/mtm_regression_cascade_ds\\latest_weights.h5\n",
      "353/353 [==============================] - 916s 3s/step - loss: 26.0589 - face_output_loss: 8.1859e-04 - mask_output_loss: 0.0018 - age_output_loss: 78.9638 - face_output_mean_absolute_error: 0.0011 - mask_output_mean_absolute_error: 0.0050 - age_output_mean_absolute_error: 6.3823 - val_loss: 22.4296 - val_face_output_loss: 1.3496e-04 - val_mask_output_loss: 0.0020 - val_age_output_loss: 67.9664 - val_face_output_mean_absolute_error: 4.1042e-04 - val_mask_output_mean_absolute_error: 0.0039 - val_age_output_mean_absolute_error: 5.2216\n",
      "Epoch 9/10\n",
      "353/353 [==============================] - ETA: 0s - loss: 24.2954 - face_output_loss: 6.9498e-04 - mask_output_loss: 0.0022 - age_output_loss: 73.6195 - face_output_mean_absolute_error: 7.7798e-04 - mask_output_mean_absolute_error: 0.0045 - age_output_mean_absolute_error: 6.1037\n",
      "Epoch 9: saving model to ../../log/cps/mtm_regression_cascade_ds\\latest_weights.h5\n",
      "353/353 [==============================] - 903s 3s/step - loss: 24.2954 - face_output_loss: 6.9498e-04 - mask_output_loss: 0.0022 - age_output_loss: 73.6195 - face_output_mean_absolute_error: 7.7798e-04 - mask_output_mean_absolute_error: 0.0045 - age_output_mean_absolute_error: 6.1037 - val_loss: 25.0220 - val_face_output_loss: 7.0162e-04 - val_mask_output_loss: 0.0036 - val_age_output_loss: 75.8199 - val_face_output_mean_absolute_error: 0.0010 - val_mask_output_mean_absolute_error: 0.0054 - val_age_output_mean_absolute_error: 5.5126\n",
      "Epoch 10/10\n",
      "353/353 [==============================] - ETA: 0s - loss: 23.2253 - face_output_loss: 8.2676e-04 - mask_output_loss: 0.0015 - age_output_loss: 70.3773 - face_output_mean_absolute_error: 0.0010 - mask_output_mean_absolute_error: 0.0034 - age_output_mean_absolute_error: 6.0182\n",
      "Epoch 10: saving model to ../../log/cps/mtm_regression_cascade_ds\\latest_weights.h5\n",
      "353/353 [==============================] - 896s 3s/step - loss: 23.2253 - face_output_loss: 8.2676e-04 - mask_output_loss: 0.0015 - age_output_loss: 70.3773 - face_output_mean_absolute_error: 0.0010 - mask_output_mean_absolute_error: 0.0034 - age_output_mean_absolute_error: 6.0182 - val_loss: 25.4595 - val_face_output_loss: 0.0016 - val_mask_output_loss: 0.0011 - val_age_output_loss: 77.1472 - val_face_output_mean_absolute_error: 0.0018 - val_mask_output_mean_absolute_error: 0.0027 - val_age_output_mean_absolute_error: 4.8787\n"
     ]
    }
   ],
   "source": [
    "history = model.fit(\n",
    "            training_ds,\n",
    "            validation_data=validation_ds,\n",
    "            batch_size=batch_size,\n",
    "            epochs=epochs, \n",
    "            callbacks=callbacks,\n",
    "            validation_split=0.2,\n",
    "            shuffle=True\n",
    "        )"
   ]
  },
  {
   "cell_type": "markdown",
   "metadata": {},
   "source": [
    "## Save the model"
   ]
  },
  {
   "cell_type": "code",
   "execution_count": 16,
   "metadata": {},
   "outputs": [
    {
     "name": "stderr",
     "output_type": "stream",
     "text": [
      "WARNING:absl:Found untraced functions such as _update_step_xla, _jit_compiled_convolution_op, _jit_compiled_convolution_op, _jit_compiled_convolution_op, _jit_compiled_convolution_op while saving (showing 5 of 54). These functions will not be directly callable after loading.\n"
     ]
    },
    {
     "name": "stdout",
     "output_type": "stream",
     "text": [
      "INFO:tensorflow:Assets written to: ../../log/saved_models/mtm_regression_cascade_ds\\assets\n"
     ]
    },
    {
     "name": "stderr",
     "output_type": "stream",
     "text": [
      "INFO:tensorflow:Assets written to: ../../log/saved_models/mtm_regression_cascade_ds\\assets\n"
     ]
    }
   ],
   "source": [
    "model.save(savedModelPath)"
   ]
  }
 ],
 "metadata": {
  "kernelspec": {
   "display_name": "Python 3.9.13 ('tensorflow_env')",
   "language": "python",
   "name": "python3"
  },
  "language_info": {
   "codemirror_mode": {
    "name": "ipython",
    "version": 3
   },
   "file_extension": ".py",
   "mimetype": "text/x-python",
   "name": "python",
   "nbconvert_exporter": "python",
   "pygments_lexer": "ipython3",
   "version": "3.9.13"
  },
  "orig_nbformat": 4,
  "vscode": {
   "interpreter": {
    "hash": "cb093c5cba338e940f2218658681cebd9a5d8f8bec398f9f020da08f4168391d"
   }
  }
 },
 "nbformat": 4,
 "nbformat_minor": 2
}
