{
 "cells": [
  {
   "cell_type": "markdown",
   "metadata": {},
   "source": [
    "# Multi Task Model"
   ]
  },
  {
   "cell_type": "markdown",
   "metadata": {},
   "source": [
    "## Imports"
   ]
  },
  {
   "cell_type": "code",
   "execution_count": 1,
   "metadata": {},
   "outputs": [],
   "source": [
    "import os\n",
    "import numpy as np\n",
    "import matplotlib.pyplot as plt\n",
    "from itertools import product\n",
    "\n",
    "# Tensorflow imports\n",
    "import tensorflow as tf\n",
    "from tensorflow import keras\n",
    "import keras.backend as K\n",
    "from tensorflow.keras.applications import MobileNet\n",
    "from tensorflow.keras.applications import ResNet50\n",
    "\n",
    "from loadData_alt import createDataset"
   ]
  },
  {
   "cell_type": "markdown",
   "metadata": {},
   "source": [
    "## Model parameters"
   ]
  },
  {
   "cell_type": "code",
   "execution_count": 2,
   "metadata": {},
   "outputs": [],
   "source": [
    "# Log parameters\n",
    "model_name = 'mtm_regression_ds'\n",
    "savedModelPath = f'../../log/saved_models/{model_name}'\n",
    "tb_log_dir = f'../../log/tensorboard/{model_name}'\n",
    "cp_filepath = f'../../log/cps/{model_name}/'\n",
    "\n",
    "if not os.path.exists(cp_filepath):\n",
    "    os.makedirs(cp_filepath)\n",
    "\n",
    "cp_filepath += 'latest_weights.h5'\n",
    "\n",
    "# Dynamic hyperparameters\n",
    "learningRate = 0.001\n",
    "doDataAugmentation = True\n",
    "dropoutRate = 0.25\n",
    "width_multiplier = 1\n",
    "depth_multiplier = 1\n",
    "\n",
    "# Training parameters\n",
    "batch_size = 32\n",
    "epochs = 10"
   ]
  },
  {
   "cell_type": "markdown",
   "metadata": {},
   "source": [
    "## Model callbacks"
   ]
  },
  {
   "cell_type": "code",
   "execution_count": 3,
   "metadata": {},
   "outputs": [],
   "source": [
    "callbacks = [\n",
    "    # Checkpoint callback                    \n",
    "    keras.callbacks.ModelCheckpoint(\n",
    "                    filepath=cp_filepath, \n",
    "                    verbose=1, \n",
    "                    save_weights_only=True),\n",
    "\n",
    "    # Tensorboard callback\n",
    "    keras.callbacks.TensorBoard(log_dir=tb_log_dir, histogram_freq=1),\n",
    "\n",
    "    # Early Stopping callback\n",
    "    # keras.callbacks.EarlyStopping(\n",
    "    #                 monitor=\"val_loss\",\n",
    "    #                 patience=2,\n",
    "    #                 verbose=1)\n",
    "]"
   ]
  },
  {
   "cell_type": "markdown",
   "metadata": {},
   "source": [
    "## Data parameters"
   ]
  },
  {
   "cell_type": "code",
   "execution_count": 4,
   "metadata": {},
   "outputs": [],
   "source": [
    "image_height = 160\n",
    "image_width = 160"
   ]
  },
  {
   "cell_type": "markdown",
   "metadata": {},
   "source": [
    "## Data Augmentation"
   ]
  },
  {
   "cell_type": "code",
   "execution_count": 5,
   "metadata": {},
   "outputs": [],
   "source": [
    "data_augmentation = keras.Sequential(\n",
    "    [\n",
    "        keras.layers.RandomRotation(0.1),\n",
    "        keras.layers.RandomBrightness(0.2),\n",
    "    ]\n",
    ")"
   ]
  },
  {
   "cell_type": "markdown",
   "metadata": {},
   "source": [
    "## Creating the training datasets"
   ]
  },
  {
   "cell_type": "code",
   "execution_count": 6,
   "metadata": {},
   "outputs": [
    {
     "name": "stdout",
     "output_type": "stream",
     "text": [
      "WARNING:tensorflow:From c:\\Users\\Zolkin\\anaconda3\\envs\\tensorflow_env\\lib\\site-packages\\tensorflow\\python\\autograph\\pyct\\static_analysis\\liveness.py:83: Analyzer.lamba_check (from tensorflow.python.autograph.pyct.static_analysis.liveness) is deprecated and will be removed after 2023-09-23.\n",
      "Instructions for updating:\n",
      "Lambda fuctions will be no more assumed to be used in the statement where they are used, or at least in the same block. https://github.com/tensorflow/tensorflow/issues/56089\n"
     ]
    }
   ],
   "source": [
    "training_ds, validation_ds = createDataset('../../data/m3/training', (image_height, image_width), batch_size, 0.2, for_regression=True)"
   ]
  },
  {
   "cell_type": "markdown",
   "metadata": {},
   "source": [
    "## Load the ResNet model"
   ]
  },
  {
   "cell_type": "code",
   "execution_count": 7,
   "metadata": {},
   "outputs": [
    {
     "name": "stdout",
     "output_type": "stream",
     "text": [
      "WARNING:tensorflow:Using a while_loop for converting RngReadAndSkip cause there is no registered converter for this op.\n",
      "WARNING:tensorflow:Using a while_loop for converting Bitcast cause there is no registered converter for this op.\n",
      "WARNING:tensorflow:Using a while_loop for converting Bitcast cause there is no registered converter for this op.\n",
      "WARNING:tensorflow:Using a while_loop for converting StatelessRandomUniformV2 cause there is no registered converter for this op.\n",
      "WARNING:tensorflow:Using a while_loop for converting ImageProjectiveTransformV3 cause there is no registered converter for this op.\n",
      "WARNING:tensorflow:Using a while_loop for converting RngReadAndSkip cause there is no registered converter for this op.\n",
      "WARNING:tensorflow:Using a while_loop for converting Bitcast cause there is no registered converter for this op.\n",
      "WARNING:tensorflow:Using a while_loop for converting Bitcast cause there is no registered converter for this op.\n",
      "WARNING:tensorflow:Using a while_loop for converting StatelessRandomUniformV2 cause there is no registered converter for this op.\n",
      "WARNING:tensorflow:Using a while_loop for converting RngReadAndSkip cause there is no registered converter for this op.\n",
      "WARNING:tensorflow:Using a while_loop for converting Bitcast cause there is no registered converter for this op.\n",
      "WARNING:tensorflow:Using a while_loop for converting Bitcast cause there is no registered converter for this op.\n",
      "WARNING:tensorflow:Using a while_loop for converting StatelessRandomUniformV2 cause there is no registered converter for this op.\n",
      "WARNING:tensorflow:Using a while_loop for converting ImageProjectiveTransformV3 cause there is no registered converter for this op.\n",
      "WARNING:tensorflow:Using a while_loop for converting RngReadAndSkip cause there is no registered converter for this op.\n",
      "WARNING:tensorflow:Using a while_loop for converting Bitcast cause there is no registered converter for this op.\n",
      "WARNING:tensorflow:Using a while_loop for converting Bitcast cause there is no registered converter for this op.\n",
      "WARNING:tensorflow:Using a while_loop for converting StatelessRandomUniformV2 cause there is no registered converter for this op.\n"
     ]
    }
   ],
   "source": [
    "# Loading either the MobileNet architecture model or the previously saved model, and freeze it for transfer learning\n",
    "base = ResNet50(\n",
    "                input_shape=(image_height, image_width, 3), # Optional shape tuple, only to be specified if include_top is False\n",
    "                # alpha=width_multiplier, # Controls the width of the network. (Width multiplier)\n",
    "                # depth_multiplier=depth_multiplier, # Depth multiplier for depthwise convolution. (Resolution multiplier)\n",
    "                # dropout=dropoutRate, # Dropout rate. Default to 0.001.\n",
    "                weights=\"imagenet\",\n",
    "                # input_tensor=None,\n",
    "                # pooling='avg', # Optional pooling mode for feature extraction when include_top is False. (None, avg, max)\n",
    "                include_top=False\n",
    "                )\n",
    "           \n",
    "# Freeze the base model\n",
    "base.trainable = False\n",
    "\n",
    "inputs = keras.Input(shape=(image_height, image_width, 3))\n",
    "# Data Augmentation on input\n",
    "if(doDataAugmentation):\n",
    "    inputs = data_augmentation(inputs)\n",
    "\n",
    "# Running base model in inference mode\n",
    "base_model = base(inputs, training=False)\n",
    "base_model = keras.layers.GlobalAveragePooling2D()(base_model)\n",
    "base_model = keras.layers.Dropout(0.3)(base_model)"
   ]
  },
  {
   "cell_type": "markdown",
   "metadata": {},
   "source": [
    "## Creating Task 1 (Face Detection) Top Model"
   ]
  },
  {
   "cell_type": "code",
   "execution_count": 8,
   "metadata": {},
   "outputs": [],
   "source": [
    "# Add Dense layer\n",
    "face_head = tf.keras.layers.Dense(256, activation='relu')(base_model)\n",
    "face_head = keras.layers.BatchNormalization()(face_head)\n",
    "face_head = keras.layers.Activation('relu')(face_head)\n",
    "face_head = keras.layers.Dropout(0.2)(face_head)\n",
    "face_head = tf.keras.layers.Dense(128, activation='relu')(face_head)\n",
    "face_head = tf.keras.layers.Dense(64, activation='relu')(face_head)\n",
    "\n",
    "# Final layer for binary classification\n",
    "face_outputs = keras.layers.Dense(1, activation='sigmoid', name='face_output')(face_head)\n"
   ]
  },
  {
   "cell_type": "markdown",
   "metadata": {},
   "source": [
    "## Creating Task 2 (Mask Detection) Top Model"
   ]
  },
  {
   "cell_type": "code",
   "execution_count": 9,
   "metadata": {},
   "outputs": [],
   "source": [
    "# Add Dense layer\n",
    "mask_head = tf.keras.layers.Dense(256, activation='relu')(base_model)\n",
    "mask_head = keras.layers.BatchNormalization()(mask_head)\n",
    "mask_head = keras.layers.Activation('relu')(mask_head)\n",
    "mask_head = keras.layers.Dropout(0.2)(mask_head)\n",
    "mask_head = tf.keras.layers.Dense(128, activation='relu')(mask_head)\n",
    "mask_head = tf.keras.layers.Dense(64, activation='relu')(mask_head)\n",
    "\n",
    "# Final layer for binary classification\n",
    "mask_outputs = keras.layers.Dense(1, activation='sigmoid', name='mask_output')(mask_head)"
   ]
  },
  {
   "cell_type": "markdown",
   "metadata": {},
   "source": [
    "## Creating Task 3 (Age Prediction) Top Model"
   ]
  },
  {
   "cell_type": "code",
   "execution_count": 10,
   "metadata": {},
   "outputs": [],
   "source": [
    "# Add Dense layer\n",
    "age_head = tf.keras.layers.Dense(256, activation='relu')(base_model)\n",
    "age_head = keras.layers.BatchNormalization()(age_head)\n",
    "age_head = keras.layers.Activation('relu')(age_head)\n",
    "age_head = keras.layers.Dropout(0.2)(age_head)\n",
    "age_head = tf.keras.layers.Dense(128, activation='relu')(age_head)\n",
    "age_head = tf.keras.layers.Dense(64, activation='relu')(age_head)\n",
    "\n",
    "# Final layer for binary classification\n",
    "age_outputs = keras.layers.Dense(1, activation='relu', name='age_output')(age_head)"
   ]
  },
  {
   "cell_type": "markdown",
   "metadata": {},
   "source": [
    "## Creating and compiling the final model"
   ]
  },
  {
   "cell_type": "code",
   "execution_count": 11,
   "metadata": {},
   "outputs": [
    {
     "name": "stdout",
     "output_type": "stream",
     "text": [
      "Model: \"model\"\n",
      "__________________________________________________________________________________________________\n",
      " Layer (type)                   Output Shape         Param #     Connected to                     \n",
      "==================================================================================================\n",
      " input_3 (InputLayer)           [(None, 160, 160, 3  0           []                               \n",
      "                                )]                                                                \n",
      "                                                                                                  \n",
      " resnet50 (Functional)          (None, 5, 5, 2048)   23587712    ['input_3[0][0]']                \n",
      "                                                                                                  \n",
      " global_average_pooling2d (Glob  (None, 2048)        0           ['resnet50[1][0]']               \n",
      " alAveragePooling2D)                                                                              \n",
      "                                                                                                  \n",
      " dropout (Dropout)              (None, 2048)         0           ['global_average_pooling2d[1][0]'\n",
      "                                                                 ]                                \n",
      "                                                                                                  \n",
      " dense (Dense)                  (None, 256)          524544      ['dropout[1][0]']                \n",
      "                                                                                                  \n",
      " dense_3 (Dense)                (None, 256)          524544      ['dropout[1][0]']                \n",
      "                                                                                                  \n",
      " dense_6 (Dense)                (None, 256)          524544      ['dropout[1][0]']                \n",
      "                                                                                                  \n",
      " batch_normalization (BatchNorm  (None, 256)         1024        ['dense[1][0]']                  \n",
      " alization)                                                                                       \n",
      "                                                                                                  \n",
      " batch_normalization_1 (BatchNo  (None, 256)         1024        ['dense_3[1][0]']                \n",
      " rmalization)                                                                                     \n",
      "                                                                                                  \n",
      " batch_normalization_2 (BatchNo  (None, 256)         1024        ['dense_6[1][0]']                \n",
      " rmalization)                                                                                     \n",
      "                                                                                                  \n",
      " activation (Activation)        (None, 256)          0           ['batch_normalization[1][0]']    \n",
      "                                                                                                  \n",
      " activation_1 (Activation)      (None, 256)          0           ['batch_normalization_1[1][0]']  \n",
      "                                                                                                  \n",
      " activation_2 (Activation)      (None, 256)          0           ['batch_normalization_2[1][0]']  \n",
      "                                                                                                  \n",
      " dropout_1 (Dropout)            (None, 256)          0           ['activation[1][0]']             \n",
      "                                                                                                  \n",
      " dropout_2 (Dropout)            (None, 256)          0           ['activation_1[1][0]']           \n",
      "                                                                                                  \n",
      " dropout_3 (Dropout)            (None, 256)          0           ['activation_2[1][0]']           \n",
      "                                                                                                  \n",
      " dense_1 (Dense)                (None, 128)          32896       ['dropout_1[1][0]']              \n",
      "                                                                                                  \n",
      " dense_4 (Dense)                (None, 128)          32896       ['dropout_2[1][0]']              \n",
      "                                                                                                  \n",
      " dense_7 (Dense)                (None, 128)          32896       ['dropout_3[1][0]']              \n",
      "                                                                                                  \n",
      " dense_2 (Dense)                (None, 64)           8256        ['dense_1[1][0]']                \n",
      "                                                                                                  \n",
      " dense_5 (Dense)                (None, 64)           8256        ['dense_4[1][0]']                \n",
      "                                                                                                  \n",
      " dense_8 (Dense)                (None, 64)           8256        ['dense_7[1][0]']                \n",
      "                                                                                                  \n",
      " face_output (Dense)            (None, 1)            65          ['dense_2[1][0]']                \n",
      "                                                                                                  \n",
      " mask_output (Dense)            (None, 1)            65          ['dense_5[1][0]']                \n",
      "                                                                                                  \n",
      " age_output (Dense)             (None, 1)            65          ['dense_8[1][0]']                \n",
      "                                                                                                  \n",
      "==================================================================================================\n",
      "Total params: 25,288,067\n",
      "Trainable params: 1,698,819\n",
      "Non-trainable params: 23,589,248\n",
      "__________________________________________________________________________________________________\n"
     ]
    }
   ],
   "source": [
    "\n",
    "model = keras.Model(inputs, [face_outputs, mask_outputs, age_outputs])\n",
    "keras.utils.plot_model(model, to_file=f'{model_name}.png', show_layer_activations=True)\n",
    "\n",
    "# Using a joint loss function for the three tasks:\n",
    "# [ Loss = gamma * Loss_task1 + gamma * Loss_task2 + gamma * Loss_task3 ]\n",
    "# Because every task is dependant on every other task, the model receives the loss of every task when gamma > 0\n",
    "\n",
    "gamma = 1\n",
    "\n",
    "model.compile(\n",
    "      optimizer=keras.optimizers.Adam(), # Learning Rate?\n",
    "            loss={\n",
    "                  'face_output': 'mean_squared_error', \n",
    "                  'mask_output': 'mean_squared_error',\n",
    "                  'age_output': 'mean_squared_error'\n",
    "                  },\n",
    "            loss_weights={\n",
    "                  'face_output': 0.33 * gamma,\n",
    "                  'mask_output': 0.33 * gamma,\n",
    "                  'age_output': 0.33 * gamma\n",
    "                  }, \n",
    "            metrics={\n",
    "                  'face_output': 'mean_absolute_error', \n",
    "                  'mask_output': 'mean_absolute_error',\n",
    "                  'age_output': 'mean_absolute_error'\n",
    "                  },\n",
    ")\n",
    "\n",
    "model.summary()"
   ]
  },
  {
   "cell_type": "markdown",
   "metadata": {},
   "source": [
    "## Training the model with the dataset"
   ]
  },
  {
   "cell_type": "code",
   "execution_count": 12,
   "metadata": {},
   "outputs": [
    {
     "name": "stdout",
     "output_type": "stream",
     "text": [
      "Epoch 1/10\n",
      "353/353 [==============================] - ETA: 0s - loss: 278.7271 - face_output_loss: 0.0068 - mask_output_loss: 0.0068 - age_output_loss: 844.6134 - face_output_mean_absolute_error: 0.0177 - mask_output_mean_absolute_error: 0.0177 - age_output_mean_absolute_error: 19.8411\n",
      "Epoch 1: saving model to ../../log/cps/mtm_regression_ds\\latest_weights.h5\n",
      "353/353 [==============================] - 971s 3s/step - loss: 278.7271 - face_output_loss: 0.0068 - mask_output_loss: 0.0068 - age_output_loss: 844.6134 - face_output_mean_absolute_error: 0.0177 - mask_output_mean_absolute_error: 0.0177 - age_output_mean_absolute_error: 19.8411 - val_loss: 79.1396 - val_face_output_loss: 9.6159e-04 - val_mask_output_loss: 0.0034 - val_age_output_loss: 239.8128 - val_face_output_mean_absolute_error: 0.0023 - val_mask_output_mean_absolute_error: 0.0056 - val_age_output_mean_absolute_error: 11.6707\n",
      "Epoch 2/10\n",
      "353/353 [==============================] - ETA: 0s - loss: 105.9323 - face_output_loss: 0.0026 - mask_output_loss: 0.0023 - age_output_loss: 321.0021 - face_output_mean_absolute_error: 0.0047 - mask_output_mean_absolute_error: 0.0049 - age_output_mean_absolute_error: 13.4673\n",
      "Epoch 2: saving model to ../../log/cps/mtm_regression_ds\\latest_weights.h5\n",
      "353/353 [==============================] - 878s 2s/step - loss: 105.9323 - face_output_loss: 0.0026 - mask_output_loss: 0.0023 - age_output_loss: 321.0021 - face_output_mean_absolute_error: 0.0047 - mask_output_mean_absolute_error: 0.0049 - age_output_mean_absolute_error: 13.4673 - val_loss: 70.4623 - val_face_output_loss: 0.0033 - val_mask_output_loss: 0.0022 - val_age_output_loss: 213.5166 - val_face_output_mean_absolute_error: 0.0049 - val_mask_output_mean_absolute_error: 0.0034 - val_age_output_mean_absolute_error: 10.8370\n",
      "Epoch 3/10\n",
      "353/353 [==============================] - ETA: 0s - loss: 84.8097 - face_output_loss: 0.0030 - mask_output_loss: 0.0020 - age_output_loss: 256.9940 - face_output_mean_absolute_error: 0.0044 - mask_output_mean_absolute_error: 0.0038 - age_output_mean_absolute_error: 12.1900\n",
      "Epoch 3: saving model to ../../log/cps/mtm_regression_ds\\latest_weights.h5\n",
      "353/353 [==============================] - 882s 2s/step - loss: 84.8097 - face_output_loss: 0.0030 - mask_output_loss: 0.0020 - age_output_loss: 256.9940 - face_output_mean_absolute_error: 0.0044 - mask_output_mean_absolute_error: 0.0038 - age_output_mean_absolute_error: 12.1900 - val_loss: 90.3745 - val_face_output_loss: 0.0023 - val_mask_output_loss: 0.0027 - val_age_output_loss: 273.8569 - val_face_output_mean_absolute_error: 0.0036 - val_mask_output_mean_absolute_error: 0.0043 - val_age_output_mean_absolute_error: 12.5037\n",
      "Epoch 4/10\n",
      "353/353 [==============================] - ETA: 0s - loss: 70.7224 - face_output_loss: 0.0019 - mask_output_loss: 9.5645e-04 - age_output_loss: 214.3075 - face_output_mean_absolute_error: 0.0029 - mask_output_mean_absolute_error: 0.0020 - age_output_mean_absolute_error: 11.2848\n",
      "Epoch 4: saving model to ../../log/cps/mtm_regression_ds\\latest_weights.h5\n",
      "353/353 [==============================] - 895s 3s/step - loss: 70.7224 - face_output_loss: 0.0019 - mask_output_loss: 9.5645e-04 - age_output_loss: 214.3075 - face_output_mean_absolute_error: 0.0029 - mask_output_mean_absolute_error: 0.0020 - age_output_mean_absolute_error: 11.2848 - val_loss: 59.6614 - val_face_output_loss: 0.0023 - val_mask_output_loss: 0.0016 - val_age_output_loss: 180.7883 - val_face_output_mean_absolute_error: 0.0030 - val_mask_output_mean_absolute_error: 0.0022 - val_age_output_mean_absolute_error: 10.1735\n",
      "Epoch 5/10\n",
      "353/353 [==============================] - ETA: 0s - loss: 57.5257 - face_output_loss: 0.0018 - mask_output_loss: 6.6466e-04 - age_output_loss: 174.3180 - face_output_mean_absolute_error: 0.0028 - mask_output_mean_absolute_error: 0.0015 - age_output_mean_absolute_error: 10.1303\n",
      "Epoch 5: saving model to ../../log/cps/mtm_regression_ds\\latest_weights.h5\n",
      "353/353 [==============================] - 873s 2s/step - loss: 57.5257 - face_output_loss: 0.0018 - mask_output_loss: 6.6466e-04 - age_output_loss: 174.3180 - face_output_mean_absolute_error: 0.0028 - mask_output_mean_absolute_error: 0.0015 - age_output_mean_absolute_error: 10.1303 - val_loss: 47.5860 - val_face_output_loss: 0.0016 - val_mask_output_loss: 0.0017 - val_age_output_loss: 144.1965 - val_face_output_mean_absolute_error: 0.0022 - val_mask_output_mean_absolute_error: 0.0027 - val_age_output_mean_absolute_error: 8.7525\n",
      "Epoch 6/10\n",
      "353/353 [==============================] - ETA: 0s - loss: 40.8494 - face_output_loss: 0.0014 - mask_output_loss: 0.0021 - age_output_loss: 123.7826 - face_output_mean_absolute_error: 0.0021 - mask_output_mean_absolute_error: 0.0033 - age_output_mean_absolute_error: 8.4906\n",
      "Epoch 6: saving model to ../../log/cps/mtm_regression_ds\\latest_weights.h5\n",
      "353/353 [==============================] - 871s 2s/step - loss: 40.8494 - face_output_loss: 0.0014 - mask_output_loss: 0.0021 - age_output_loss: 123.7826 - face_output_mean_absolute_error: 0.0021 - mask_output_mean_absolute_error: 0.0033 - age_output_mean_absolute_error: 8.4906 - val_loss: 38.5508 - val_face_output_loss: 0.0016 - val_mask_output_loss: 0.0051 - val_age_output_loss: 116.8138 - val_face_output_mean_absolute_error: 0.0021 - val_mask_output_mean_absolute_error: 0.0070 - val_age_output_mean_absolute_error: 7.9887\n",
      "Epoch 7/10\n",
      "353/353 [==============================] - ETA: 0s - loss: 32.6803 - face_output_loss: 0.0012 - mask_output_loss: 2.7969e-04 - age_output_loss: 99.0297 - face_output_mean_absolute_error: 0.0020 - mask_output_mean_absolute_error: 8.6258e-04 - age_output_mean_absolute_error: 7.5051\n",
      "Epoch 7: saving model to ../../log/cps/mtm_regression_ds\\latest_weights.h5\n",
      "353/353 [==============================] - 869s 2s/step - loss: 32.6803 - face_output_loss: 0.0012 - mask_output_loss: 2.7969e-04 - age_output_loss: 99.0297 - face_output_mean_absolute_error: 0.0020 - mask_output_mean_absolute_error: 8.6258e-04 - age_output_mean_absolute_error: 7.5051 - val_loss: 26.6713 - val_face_output_loss: 0.0011 - val_mask_output_loss: 0.0012 - val_age_output_loss: 80.8196 - val_face_output_mean_absolute_error: 0.0017 - val_mask_output_mean_absolute_error: 0.0020 - val_age_output_mean_absolute_error: 5.8524\n",
      "Epoch 8/10\n",
      "353/353 [==============================] - ETA: 0s - loss: 30.7918 - face_output_loss: 0.0013 - mask_output_loss: 0.0010 - age_output_loss: 93.3062 - face_output_mean_absolute_error: 0.0021 - mask_output_mean_absolute_error: 0.0017 - age_output_mean_absolute_error: 7.2660\n",
      "Epoch 8: saving model to ../../log/cps/mtm_regression_ds\\latest_weights.h5\n",
      "353/353 [==============================] - 864s 2s/step - loss: 30.7918 - face_output_loss: 0.0013 - mask_output_loss: 0.0010 - age_output_loss: 93.3062 - face_output_mean_absolute_error: 0.0021 - mask_output_mean_absolute_error: 0.0017 - age_output_mean_absolute_error: 7.2660 - val_loss: 27.1513 - val_face_output_loss: 0.0016 - val_mask_output_loss: 0.0020 - val_age_output_loss: 82.2729 - val_face_output_mean_absolute_error: 0.0020 - val_mask_output_mean_absolute_error: 0.0030 - val_age_output_mean_absolute_error: 5.5756\n",
      "Epoch 9/10\n",
      "353/353 [==============================] - ETA: 0s - loss: 28.8056 - face_output_loss: 0.0010 - mask_output_loss: 5.6235e-04 - age_output_loss: 87.2880 - face_output_mean_absolute_error: 0.0014 - mask_output_mean_absolute_error: 0.0013 - age_output_mean_absolute_error: 6.9829\n",
      "Epoch 9: saving model to ../../log/cps/mtm_regression_ds\\latest_weights.h5\n",
      "353/353 [==============================] - 861s 2s/step - loss: 28.8056 - face_output_loss: 0.0010 - mask_output_loss: 5.6235e-04 - age_output_loss: 87.2880 - face_output_mean_absolute_error: 0.0014 - mask_output_mean_absolute_error: 0.0013 - age_output_mean_absolute_error: 6.9829 - val_loss: 29.2123 - val_face_output_loss: 0.0011 - val_mask_output_loss: 0.0015 - val_age_output_loss: 88.5196 - val_face_output_mean_absolute_error: 0.0016 - val_mask_output_mean_absolute_error: 0.0023 - val_age_output_mean_absolute_error: 6.1519\n",
      "Epoch 10/10\n",
      "353/353 [==============================] - ETA: 0s - loss: 27.2139 - face_output_loss: 9.9085e-04 - mask_output_loss: 5.7604e-04 - age_output_loss: 82.4646 - face_output_mean_absolute_error: 0.0015 - mask_output_mean_absolute_error: 0.0010 - age_output_mean_absolute_error: 6.7922\n",
      "Epoch 10: saving model to ../../log/cps/mtm_regression_ds\\latest_weights.h5\n",
      "353/353 [==============================] - 857s 2s/step - loss: 27.2139 - face_output_loss: 9.9085e-04 - mask_output_loss: 5.7604e-04 - age_output_loss: 82.4646 - face_output_mean_absolute_error: 0.0015 - mask_output_mean_absolute_error: 0.0010 - age_output_mean_absolute_error: 6.7922 - val_loss: 27.8568 - val_face_output_loss: 0.0013 - val_mask_output_loss: 0.0012 - val_age_output_loss: 84.4122 - val_face_output_mean_absolute_error: 0.0017 - val_mask_output_mean_absolute_error: 0.0019 - val_age_output_mean_absolute_error: 5.7533\n"
     ]
    }
   ],
   "source": [
    "history = model.fit(\n",
    "            training_ds,\n",
    "            validation_data=validation_ds,\n",
    "            epochs=epochs, \n",
    "            callbacks=callbacks,\n",
    "            shuffle=True\n",
    "        )"
   ]
  },
  {
   "cell_type": "markdown",
   "metadata": {},
   "source": [
    "## Save the model"
   ]
  },
  {
   "cell_type": "code",
   "execution_count": 13,
   "metadata": {},
   "outputs": [
    {
     "name": "stderr",
     "output_type": "stream",
     "text": [
      "WARNING:absl:Found untraced functions such as _update_step_xla, _jit_compiled_convolution_op, _jit_compiled_convolution_op, _jit_compiled_convolution_op, _jit_compiled_convolution_op while saving (showing 5 of 54). These functions will not be directly callable after loading.\n"
     ]
    },
    {
     "name": "stdout",
     "output_type": "stream",
     "text": [
      "INFO:tensorflow:Assets written to: ../../log/saved_models/mtm_regression_ds\\assets\n"
     ]
    },
    {
     "name": "stderr",
     "output_type": "stream",
     "text": [
      "INFO:tensorflow:Assets written to: ../../log/saved_models/mtm_regression_ds\\assets\n"
     ]
    }
   ],
   "source": [
    "model.save(savedModelPath)"
   ]
  }
 ],
 "metadata": {
  "kernelspec": {
   "display_name": "Python 3.9.13 ('tensorflow_env')",
   "language": "python",
   "name": "python3"
  },
  "language_info": {
   "codemirror_mode": {
    "name": "ipython",
    "version": 3
   },
   "file_extension": ".py",
   "mimetype": "text/x-python",
   "name": "python",
   "nbconvert_exporter": "python",
   "pygments_lexer": "ipython3",
   "version": "3.9.13"
  },
  "orig_nbformat": 4,
  "vscode": {
   "interpreter": {
    "hash": "cb093c5cba338e940f2218658681cebd9a5d8f8bec398f9f020da08f4168391d"
   }
  }
 },
 "nbformat": 4,
 "nbformat_minor": 2
}
