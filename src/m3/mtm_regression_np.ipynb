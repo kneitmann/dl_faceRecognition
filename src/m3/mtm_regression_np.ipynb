{
 "cells": [
  {
   "cell_type": "markdown",
   "metadata": {},
   "source": [
    "# Multi Task Model"
   ]
  },
  {
   "cell_type": "markdown",
   "metadata": {},
   "source": [
    "## Imports"
   ]
  },
  {
   "cell_type": "code",
   "execution_count": null,
   "metadata": {},
   "outputs": [],
   "source": [
    "import os\n",
    "import numpy as np\n",
    "import matplotlib.pyplot as plt\n",
    "\n",
    "# Tensorflow imports\n",
    "import tensorflow as tf\n",
    "from tensorflow import keras\n",
    "from tensorflow.keras.applications import MobileNet\n",
    "from tensorflow.keras.applications import ResNet50\n",
    "\n",
    "from loadData import createDataset"
   ]
  },
  {
   "cell_type": "markdown",
   "metadata": {},
   "source": [
    "## Model parameters"
   ]
  },
  {
   "cell_type": "code",
   "execution_count": null,
   "metadata": {},
   "outputs": [],
   "source": [
    "# Log parameters\n",
    "model_name = 'mtm_regression_np'\n",
    "savedModelPath = f'../../log/saved_models/{model_name}'\n",
    "tb_log_dir = f'../../log/tensorboard/{model_name}'\n",
    "cp_filepath = f'../../log/cps/{model_name}/'\n",
    "\n",
    "if not os.path.exists(cp_filepath):\n",
    "    os.makedirs(cp_filepath)\n",
    "\n",
    "cp_filepath += 'latest_weights.h5'\n",
    "\n",
    "# Dynamic hyperparameters\n",
    "learningRate = 0.001\n",
    "doDataAugmentation = True\n",
    "doFineTuning = False\n",
    "dropoutRate = 0.25\n",
    "width_multiplier = 1\n",
    "depth_multiplier = 1\n",
    "\n",
    "# Training parameters\n",
    "batch_size = 32\n",
    "epochs = 5"
   ]
  },
  {
   "cell_type": "markdown",
   "metadata": {},
   "source": [
    "## Model callbacks"
   ]
  },
  {
   "cell_type": "code",
   "execution_count": null,
   "metadata": {},
   "outputs": [],
   "source": [
    "callbacks = [\n",
    "    # Checkpoint callback                    \n",
    "    keras.callbacks.ModelCheckpoint(\n",
    "                    filepath=cp_filepath, \n",
    "                    verbose=1, \n",
    "                    save_weights_only=True),\n",
    "\n",
    "    # Tensorboard callback\n",
    "    keras.callbacks.TensorBoard(log_dir=tb_log_dir, histogram_freq=1),\n",
    "\n",
    "    # Early Stopping callback\n",
    "    # keras.callbacks.EarlyStopping(\n",
    "    #                 monitor=\"val_loss\",\n",
    "    #                 patience=2,\n",
    "    #                 verbose=1)\n",
    "]"
   ]
  },
  {
   "cell_type": "markdown",
   "metadata": {},
   "source": [
    "## Data parameters"
   ]
  },
  {
   "cell_type": "code",
   "execution_count": null,
   "metadata": {},
   "outputs": [],
   "source": [
    "image_height = 160\n",
    "image_width = 160"
   ]
  },
  {
   "cell_type": "markdown",
   "metadata": {},
   "source": [
    "## Data Augmentation"
   ]
  },
  {
   "cell_type": "code",
   "execution_count": null,
   "metadata": {},
   "outputs": [],
   "source": [
    "data_augmentation = keras.Sequential(\n",
    "    [\n",
    "        keras.layers.RandomRotation(0.1),\n",
    "        keras.layers.RandomBrightness(0.2),\n",
    "    ]\n",
    ")"
   ]
  },
  {
   "cell_type": "markdown",
   "metadata": {},
   "source": [
    "## Creating the training datasets"
   ]
  },
  {
   "cell_type": "code",
   "execution_count": null,
   "metadata": {},
   "outputs": [],
   "source": [
    "x, y_face, y_mask, y_age = createDataset('../../data/m3/training', (image_height, image_width), for_regression=True)\n",
    "\n",
    "# for i in range(len(y_face)):\n",
    "#     print(y_face[i], y_mask[i], y_age[i])"
   ]
  },
  {
   "cell_type": "markdown",
   "metadata": {},
   "source": [
    "## Creating the test dataset"
   ]
  },
  {
   "cell_type": "code",
   "execution_count": null,
   "metadata": {},
   "outputs": [],
   "source": [
    "# test_x, test_y_face, test_y_mask, test_y_age = createDataset('../../data/m3/test', (image_height, image_width))"
   ]
  },
  {
   "cell_type": "markdown",
   "metadata": {},
   "source": [
    "## Load the ResNet model"
   ]
  },
  {
   "cell_type": "code",
   "execution_count": null,
   "metadata": {},
   "outputs": [],
   "source": [
    "# Loading either the ResNet50 architecture model or the previously saved model, and freeze it for transfer learning\n",
    "mobilenet = ResNet50(\n",
    "                input_shape=(image_height, image_width, 3), # Optional shape tuple, only to be specified if include_top is False\n",
    "                # alpha=width_multiplier, # Controls the width of the network. (Width multiplier)\n",
    "                # depth_multiplier=depth_multiplier, # Depth multiplier for depthwise convolution. (Resolution multiplier)\n",
    "                # dropout=dropoutRate, # Dropout rate. Default to 0.001.\n",
    "                weights=\"imagenet\",\n",
    "                # input_tensor=None,\n",
    "                # pooling='avg', # Optional pooling mode for feature extraction when include_top is False. (None, avg, max)\n",
    "                include_top=False\n",
    "                )\n",
    "           \n",
    "# Freeze the base model\n",
    "mobilenet.trainable = False\n",
    "\n",
    "inputs = keras.Input(shape=(image_height, image_width, 3))\n",
    "\n",
    "# Data Augmentation on input\n",
    "if(doDataAugmentation):\n",
    "    inputs = data_augmentation(inputs)\n",
    "\n",
    "# Running base model in inference mode\n",
    "base_model = mobilenet(inputs, training=False)\n",
    "base_model = keras.layers.GlobalAveragePooling2D()(base_model)"
   ]
  },
  {
   "cell_type": "markdown",
   "metadata": {},
   "source": [
    "## Creating Task 1 (Face Detection) Top Model"
   ]
  },
  {
   "cell_type": "code",
   "execution_count": null,
   "metadata": {},
   "outputs": [],
   "source": [
    "# Add Dense layer\n",
    "face_head = tf.keras.layers.Dense(256, activation='relu')(base_model)\n",
    "face_head = keras.layers.BatchNormalization()(face_head)\n",
    "face_head = keras.layers.Activation('relu')(face_head)\n",
    "face_head = keras.layers.Dropout(0.2)(face_head)\n",
    "face_head = tf.keras.layers.Dense(128, activation='relu')(face_head)\n",
    "face_head = tf.keras.layers.Dense(64, activation='relu')(face_head)\n",
    "\n",
    "# Final layer for binary classification\n",
    "face_outputs = keras.layers.Dense(1, activation='sigmoid', name='face_output')(face_head)"
   ]
  },
  {
   "cell_type": "markdown",
   "metadata": {},
   "source": [
    "## Creating Task 2 (Mask Detection) Top Model"
   ]
  },
  {
   "cell_type": "code",
   "execution_count": null,
   "metadata": {},
   "outputs": [],
   "source": [
    "# Add Dense layer\n",
    "mask_head = tf.keras.layers.Dense(256, activation='relu')(base_model)\n",
    "mask_head = keras.layers.BatchNormalization()(mask_head)\n",
    "mask_head = keras.layers.Activation('relu')(mask_head)\n",
    "mask_head = keras.layers.Dropout(0.2)(mask_head)\n",
    "mask_head = tf.keras.layers.Dense(128, activation='relu')(mask_head)\n",
    "mask_head = tf.keras.layers.Dense(64, activation='relu')(mask_head)\n",
    "\n",
    "# Final layer for binary classification\n",
    "mask_outputs = keras.layers.Dense(1, activation='sigmoid', name='mask_output')(mask_head)"
   ]
  },
  {
   "cell_type": "markdown",
   "metadata": {},
   "source": [
    "## Creating Task 3 (Age Prediction) Top Model"
   ]
  },
  {
   "cell_type": "code",
   "execution_count": null,
   "metadata": {},
   "outputs": [],
   "source": [
    "# Add Dense layer\n",
    "age_head = tf.keras.layers.Dense(256, activation='relu')(base_model)\n",
    "age_head = keras.layers.BatchNormalization()(age_head)\n",
    "age_head = keras.layers.Activation('relu')(age_head)\n",
    "age_head = keras.layers.Dropout(0.2)(age_head)\n",
    "age_head = tf.keras.layers.Dense(128, activation='relu')(age_head)\n",
    "age_head = tf.keras.layers.Dense(64, activation='relu')(age_head)\n",
    "\n",
    "# Final layer for binary classification\n",
    "age_outputs = keras.layers.Dense(1, activation='relu', name='age_output')(age_head)"
   ]
  },
  {
   "cell_type": "markdown",
   "metadata": {},
   "source": [
    "## Creating and compiling the final model"
   ]
  },
  {
   "cell_type": "code",
   "execution_count": null,
   "metadata": {},
   "outputs": [],
   "source": [
    "\n",
    "model = keras.Model(inputs, [face_outputs, mask_outputs, age_outputs])\n",
    "\n",
    "# Using a joint loss function for the three tasks:\n",
    "# [ Loss = gamma * Loss_task1 + gamma * Loss_task2 + gamma * Loss_task3 ]\n",
    "# Because every task is dependant on every other task, the model receives the loss of every task when gamma > 0\n",
    "\n",
    "gamma = 1\n",
    "\n",
    "model.compile(\n",
    "      optimizer=keras.optimizers.Adam(), # Learning Rate?\n",
    "            loss='mean_squared_error',\n",
    "            loss_weights={\n",
    "                  'face_output': 0.33 * gamma,\n",
    "                  'mask_output': 0.33 * gamma,\n",
    "                  'age_output': 0.33 * gamma\n",
    "                  }, \n",
    "            metrics='mean_absolute_error',\n",
    ")\n",
    "\n",
    "model.summary()"
   ]
  },
  {
   "cell_type": "markdown",
   "metadata": {},
   "source": [
    "## Training the model with the dataset"
   ]
  },
  {
   "cell_type": "code",
   "execution_count": null,
   "metadata": {},
   "outputs": [],
   "source": [
    "history = model.fit(\n",
    "            x,\n",
    "            y={'face_output': y_face, \n",
    "             'mask_output': y_mask,\n",
    "             'age_output': y_age},\n",
    "            batch_size=batch_size,\n",
    "            epochs=epochs, \n",
    "            callbacks=callbacks,\n",
    "            validation_split=0.2,\n",
    "            shuffle=True\n",
    "        )"
   ]
  },
  {
   "cell_type": "markdown",
   "metadata": {},
   "source": [
    "## Fine tuning"
   ]
  },
  {
   "cell_type": "code",
   "execution_count": null,
   "metadata": {},
   "outputs": [],
   "source": [
    "if doFineTuning:\n",
    "      model_name = model_name + '_ft'\n",
    "      mobilenet.trainable = True\n",
    "      model.summary()\n",
    "\n",
    "      model.compile(\n",
    "            optimizer=keras.optimizers.Adam(1e-5),  # Low learning rate\n",
    "            loss={\n",
    "                  'face_output': keras.losses.BinaryCrossentropy(), \n",
    "                  'mask_output': keras.losses.BinaryCrossentropy(),\n",
    "                  'age_output': 'mae'\n",
    "                  },\n",
    "            loss_weights={\n",
    "                  'face_output': gamma, \n",
    "                  'mask_output': gamma,\n",
    "                  'age_output': gamma\n",
    "                  }, \n",
    "            metrics=['accuracy']\n",
    "      )\n",
    "\n",
    "      model.fit(            \n",
    "            x,\n",
    "            y={'face_output': y_face, \n",
    "             'mask_output': y_mask,\n",
    "             'age_output': y_age},\n",
    "            batch_size=batch_size,\n",
    "            epochs=epochs\n",
    "            )"
   ]
  },
  {
   "cell_type": "markdown",
   "metadata": {},
   "source": [
    "## Save the model"
   ]
  },
  {
   "cell_type": "code",
   "execution_count": null,
   "metadata": {},
   "outputs": [],
   "source": [
    "model.save(savedModelPath)"
   ]
  },
  {
   "cell_type": "markdown",
   "metadata": {},
   "source": [
    "## Test model with test dataset"
   ]
  },
  {
   "cell_type": "code",
   "execution_count": null,
   "metadata": {},
   "outputs": [],
   "source": [
    "# results = model.evaluate(\n",
    "#                 x=test_x,\n",
    "#                 y={'face_output': test_y_face, \n",
    "#                 'mask_output': test_y_mask,\n",
    "#                 'age_output': test_y_age},\n",
    "# )\n",
    "\n",
    "# print(f'Loss: {results[0]}; Accuracy: {results[1]}')"
   ]
  },
  {
   "cell_type": "markdown",
   "metadata": {},
   "source": [
    "## Predict new images"
   ]
  },
  {
   "cell_type": "code",
   "execution_count": null,
   "metadata": {},
   "outputs": [],
   "source": [
    "# https://www.tensorflow.org/tutorials/images/classification\n",
    "\n",
    "img = tf.keras.utils.load_img(\n",
    "    '../../data/m3/training/noFace/0_0_-1_600723.jpg', target_size=(image_height, image_width)\n",
    ")\n",
    "img_array = tf.keras.utils.img_to_array(img)\n",
    "img_array_batch = tf.expand_dims(img_array, 0) # Create a batch\n",
    "\n",
    "preds = model.predict(img_array_batch)\n",
    "\n",
    "face_pred_percent = preds[0][0][0]*100\n",
    "mask_pred_percent = preds[1][0][0]*100\n",
    "age_pred = preds[2][0][0]\n",
    "\n",
    "ax = plt.subplot(1, 1, 1)\n",
    "plt.imshow(img)\n",
    "plt.title(\"Face: {:.2f}% | Mask: {:.2f}% | Age: {:.0f}\".format(face_pred_percent, mask_pred_percent, age_pred))"
   ]
  }
 ],
 "metadata": {
  "kernelspec": {
   "display_name": "Python 3.9.13 ('tensorflow_env')",
   "language": "python",
   "name": "python3"
  },
  "language_info": {
   "codemirror_mode": {
    "name": "ipython",
    "version": 3
   },
   "file_extension": ".py",
   "mimetype": "text/x-python",
   "name": "python",
   "nbconvert_exporter": "python",
   "pygments_lexer": "ipython3",
   "version": "3.10.6"
  },
  "orig_nbformat": 4,
  "vscode": {
   "interpreter": {
    "hash": "cb093c5cba338e940f2218658681cebd9a5d8f8bec398f9f020da08f4168391d"
   }
  }
 },
 "nbformat": 4,
 "nbformat_minor": 2
}
