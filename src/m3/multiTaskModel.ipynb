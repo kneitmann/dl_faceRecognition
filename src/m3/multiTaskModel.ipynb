{
 "cells": [
  {
   "cell_type": "markdown",
   "metadata": {},
   "source": [
    "# Multi Task Model"
   ]
  },
  {
   "cell_type": "markdown",
   "metadata": {},
   "source": [
    "## Imports"
   ]
  },
  {
   "cell_type": "code",
   "execution_count": 1,
   "metadata": {},
   "outputs": [],
   "source": [
    "# Tensorflow imports\n",
    "import tensorflow as tf\n",
    "from tensorflow import keras\n",
    "from tensorflow.keras.applications import MobileNet\n",
    "\n",
    "from loadData import createImageDataset"
   ]
  },
  {
   "cell_type": "markdown",
   "metadata": {},
   "source": [
    "## Model parameters"
   ]
  },
  {
   "cell_type": "code",
   "execution_count": 2,
   "metadata": {},
   "outputs": [],
   "source": [
    "# Log parameters\n",
    "model_name = 'multiTaskModel'\n",
    "savedModelPath = f'../../log/saved_models/{model_name}'\n",
    "tb_log_dir = f'../../log/tensorboard/{model_name}'\n",
    "cp_filepath = f'../../log/cps/{model_name}/latest_weights.h5'\n",
    "\n",
    "# Dynamic hyperparameters\n",
    "learningRate = 0.001\n",
    "doDataAugmentation = True\n",
    "dropoutRate = 0.25\n",
    "width_multiplier = 1\n",
    "depth_multiplier = 1\n",
    "\n",
    "# Training parameters\n",
    "batch_size = 32\n",
    "epochs = 10"
   ]
  },
  {
   "cell_type": "markdown",
   "metadata": {},
   "source": [
    "## Model callbacks"
   ]
  },
  {
   "cell_type": "code",
   "execution_count": 3,
   "metadata": {},
   "outputs": [],
   "source": [
    "callbacks = [\n",
    "    # Checkpoint callback                    \n",
    "    keras.callbacks.ModelCheckpoint(\n",
    "                    filepath=cp_filepath, \n",
    "                    verbose=1, \n",
    "                    save_weights_only=True),\n",
    "\n",
    "    # Tensorboard callback\n",
    "    keras.callbacks.TensorBoard(log_dir=tb_log_dir, histogram_freq=1),\n",
    "\n",
    "    # Early Stopping callback\n",
    "    keras.callbacks.EarlyStopping(\n",
    "                    monitor=\"val_loss\",\n",
    "                    patience=2,\n",
    "                    verbose=1)\n",
    "]"
   ]
  },
  {
   "cell_type": "markdown",
   "metadata": {},
   "source": [
    "## Data parameters"
   ]
  },
  {
   "cell_type": "code",
   "execution_count": 4,
   "metadata": {},
   "outputs": [],
   "source": [
    "image_height = 224\n",
    "image_width = 224"
   ]
  },
  {
   "cell_type": "markdown",
   "metadata": {},
   "source": [
    "## Data Augmentation"
   ]
  },
  {
   "cell_type": "code",
   "execution_count": 5,
   "metadata": {},
   "outputs": [],
   "source": [
    "data_augmentation = keras.Sequential(\n",
    "    [\n",
    "        keras.layers.RandomRotation(0.1),\n",
    "        keras.layers.RandomBrightness(0.2),\n",
    "    ]\n",
    ")"
   ]
  },
  {
   "cell_type": "markdown",
   "metadata": {},
   "source": [
    "## Creating the training datasets"
   ]
  },
  {
   "cell_type": "code",
   "execution_count": 6,
   "metadata": {},
   "outputs": [
    {
     "name": "stdout",
     "output_type": "stream",
     "text": [
      "Found 14 files belonging to 1 classes.\n"
     ]
    }
   ],
   "source": [
    "training_data, training_labels = createImageDataset('../../data/m3/training', (image_height, image_width))\n",
    "training_face_labels = training_labels[:, 0]\n",
    "training_mask_labels = training_labels[:, 1]\n",
    "training_age_labels = training_labels[:, 2]"
   ]
  },
  {
   "cell_type": "markdown",
   "metadata": {},
   "source": [
    "## Creating the test dataset"
   ]
  },
  {
   "cell_type": "code",
   "execution_count": 7,
   "metadata": {},
   "outputs": [
    {
     "name": "stdout",
     "output_type": "stream",
     "text": [
      "Found 14 files belonging to 1 classes.\n"
     ]
    },
    {
     "name": "stderr",
     "output_type": "stream",
     "text": [
      "d:\\Master Studium Informatik\\3. Semester\\Advanced Deep Learning\\Projekt\\dl_faceRecognition\\src\\m3\\loadData.py:51: VisibleDeprecationWarning: Creating an ndarray from ragged nested sequences (which is a list-or-tuple of lists-or-tuples-or ndarrays with different lengths or shapes) is deprecated. If you meant to do this, you must specify 'dtype=object' when creating the ndarray.\n",
      "  return np.array(images), np.array(labels)\n"
     ]
    },
    {
     "ename": "IndexError",
     "evalue": "too many indices for array: array is 1-dimensional, but 2 were indexed",
     "output_type": "error",
     "traceback": [
      "\u001b[1;31m---------------------------------------------------------------------------\u001b[0m",
      "\u001b[1;31mIndexError\u001b[0m                                Traceback (most recent call last)",
      "\u001b[1;32md:\\Master Studium Informatik\\3. Semester\\Advanced Deep Learning\\Projekt\\dl_faceRecognition\\src\\m3\\multiTaskModel.ipynb Zelle 15\u001b[0m in \u001b[0;36m<cell line: 2>\u001b[1;34m()\u001b[0m\n\u001b[0;32m      <a href='vscode-notebook-cell:/d%3A/Master%20Studium%20Informatik/3.%20Semester/Advanced%20Deep%20Learning/Projekt/dl_faceRecognition/src/m3/multiTaskModel.ipynb#X23sZmlsZQ%3D%3D?line=0'>1</a>\u001b[0m test_data, test_labels \u001b[39m=\u001b[39m createImageDataset(\u001b[39m'\u001b[39m\u001b[39m../../data/m3/test\u001b[39m\u001b[39m'\u001b[39m, (image_height, image_width))\n\u001b[1;32m----> <a href='vscode-notebook-cell:/d%3A/Master%20Studium%20Informatik/3.%20Semester/Advanced%20Deep%20Learning/Projekt/dl_faceRecognition/src/m3/multiTaskModel.ipynb#X23sZmlsZQ%3D%3D?line=1'>2</a>\u001b[0m test_face_labels \u001b[39m=\u001b[39m test_labels[:, \u001b[39m0\u001b[39;49m]\n\u001b[0;32m      <a href='vscode-notebook-cell:/d%3A/Master%20Studium%20Informatik/3.%20Semester/Advanced%20Deep%20Learning/Projekt/dl_faceRecognition/src/m3/multiTaskModel.ipynb#X23sZmlsZQ%3D%3D?line=2'>3</a>\u001b[0m test_mask_labels \u001b[39m=\u001b[39m test_labels[:, \u001b[39m1\u001b[39m]\n\u001b[0;32m      <a href='vscode-notebook-cell:/d%3A/Master%20Studium%20Informatik/3.%20Semester/Advanced%20Deep%20Learning/Projekt/dl_faceRecognition/src/m3/multiTaskModel.ipynb#X23sZmlsZQ%3D%3D?line=3'>4</a>\u001b[0m test_age_labels \u001b[39m=\u001b[39m test_labels[:, \u001b[39m2\u001b[39m]\n",
      "\u001b[1;31mIndexError\u001b[0m: too many indices for array: array is 1-dimensional, but 2 were indexed"
     ]
    }
   ],
   "source": [
    "test_data, test_labels = createImageDataset('../../data/m3/test', (image_height, image_width))\n",
    "test_face_labels = test_labels[:, 0]\n",
    "test_mask_labels = test_labels[:, 1]\n",
    "test_age_labels = test_labels[:, 2]"
   ]
  },
  {
   "cell_type": "markdown",
   "metadata": {},
   "source": [
    "## Load the ResNet model"
   ]
  },
  {
   "cell_type": "code",
   "execution_count": 8,
   "metadata": {},
   "outputs": [],
   "source": [
    "# Loading either the ResNet50 architecture model or the previously saved model, and freeze it for transfer learning\n",
    "mobilenet = MobileNet(\n",
    "                input_shape=(image_height, image_width, 3), # Optional shape tuple, only to be specified if include_top is False\n",
    "                alpha=width_multiplier, # Controls the width of the network. (Width multiplier)\n",
    "                depth_multiplier=depth_multiplier, # Depth multiplier for depthwise convolution. (Resolution multiplier)\n",
    "                dropout=dropoutRate, # Dropout rate. Default to 0.001.\n",
    "                weights=\"imagenet\",\n",
    "                input_tensor=None,\n",
    "                pooling='avg', # Optional pooling mode for feature extraction when include_top is False. (None, avg, max)\n",
    "                include_top=False\n",
    "                )\n",
    "           \n",
    "# Freeze the base model\n",
    "mobilenet.trainable = False\n",
    "\n",
    "inputs = keras.Input(shape=(image_height, image_width, 3))\n",
    "\n",
    "# Data Augmentation on input\n",
    "if(doDataAugmentation):\n",
    "    inputs = data_augmentation(inputs)\n",
    "\n",
    "# Running base model in inference mode\n",
    "base_model = mobilenet(inputs, training=False)"
   ]
  },
  {
   "cell_type": "markdown",
   "metadata": {},
   "source": [
    "## Creating Task 1 (Face Detection) Top Model"
   ]
  },
  {
   "cell_type": "code",
   "execution_count": 9,
   "metadata": {},
   "outputs": [],
   "source": [
    "# Add Dense layer\n",
    "face_head = tf.keras.layers.Dense(512, activation='relu')(base_model)\n",
    "\n",
    "# Final layer for binary classification\n",
    "face_outputs = keras.layers.Dense(1, activation='sigmoid', name='face_output')(face_head)"
   ]
  },
  {
   "cell_type": "markdown",
   "metadata": {},
   "source": [
    "## Creating Task 2 (Mask Detection) Top Model"
   ]
  },
  {
   "cell_type": "code",
   "execution_count": 10,
   "metadata": {},
   "outputs": [],
   "source": [
    "# Add Dense layer\n",
    "mask_head = tf.keras.layers.Dense(512, activation='relu')(base_model)\n",
    "\n",
    "# Final layer for binary classification\n",
    "mask_outputs = keras.layers.Dense(1, activation='sigmoid', name='mask_output')(mask_head)"
   ]
  },
  {
   "cell_type": "markdown",
   "metadata": {},
   "source": [
    "## Creating Task 3 (Age Prediction) Top Model"
   ]
  },
  {
   "cell_type": "code",
   "execution_count": 11,
   "metadata": {},
   "outputs": [],
   "source": [
    "# Add Dense layer\n",
    "age_head = tf.keras.layers.Dense(1024, activation='relu')(base_model)\n",
    "\n",
    "# Final layer for binary classification\n",
    "age_outputs = keras.layers.Dense(120, activation='softmax', name='age_output')(age_head)"
   ]
  },
  {
   "cell_type": "markdown",
   "metadata": {},
   "source": [
    "## Creating and compiling the final model"
   ]
  },
  {
   "cell_type": "code",
   "execution_count": 12,
   "metadata": {},
   "outputs": [
    {
     "name": "stdout",
     "output_type": "stream",
     "text": [
      "Model: \"model\"\n",
      "__________________________________________________________________________________________________\n",
      " Layer (type)                   Output Shape         Param #     Connected to                     \n",
      "==================================================================================================\n",
      " input_3 (InputLayer)           [(None, 224, 224, 3  0           []                               \n",
      "                                )]                                                                \n",
      "                                                                                                  \n",
      " mobilenet_1.00_224 (Functional  (None, 1024)        3228864     ['input_3[0][0]']                \n",
      " )                                                                                                \n",
      "                                                                                                  \n",
      " dense (Dense)                  (None, 512)          524800      ['mobilenet_1.00_224[1][0]']     \n",
      "                                                                                                  \n",
      " dense_1 (Dense)                (None, 512)          524800      ['mobilenet_1.00_224[1][0]']     \n",
      "                                                                                                  \n",
      " dense_2 (Dense)                (None, 1024)         1049600     ['mobilenet_1.00_224[1][0]']     \n",
      "                                                                                                  \n",
      " face_output (Dense)            (None, 1)            513         ['dense[1][0]']                  \n",
      "                                                                                                  \n",
      " mask_output (Dense)            (None, 1)            513         ['dense_1[1][0]']                \n",
      "                                                                                                  \n",
      " age_output (Dense)             (None, 120)          123000      ['dense_2[1][0]']                \n",
      "                                                                                                  \n",
      "==================================================================================================\n",
      "Total params: 5,452,090\n",
      "Trainable params: 2,223,226\n",
      "Non-trainable params: 3,228,864\n",
      "__________________________________________________________________________________________________\n"
     ]
    }
   ],
   "source": [
    "\n",
    "model = keras.Model(inputs, [face_outputs, mask_outputs, age_outputs])\n",
    "\n",
    "# Using a joint loss function for the three tasks:\n",
    "# [ Loss = gamma * Loss_task1 + gamma * Loss_task2 + gamma * Loss_task3 ]\n",
    "# Because every task is dependant on every other task, the model receives the loss of every task when gamma > 0\n",
    "\n",
    "gamma = 0.33\n",
    "\n",
    "model.compile(\n",
    "            optimizer=keras.optimizers.Adam(), # Learning Rate?\n",
    "            loss={'face_output': keras.losses.BinaryCrossentropy(), \n",
    "                  'mask_output': keras.losses.BinaryCrossentropy(),\n",
    "                  'age_output': keras.losses.SparseCategoricalCrossentropy()},\n",
    "            loss_weights={'face_output': gamma, \n",
    "                        'mask_output': gamma,\n",
    "                        'age_output': gamma}, \n",
    "            metrics=['accuracy'])\n",
    "\n",
    "model.summary()"
   ]
  },
  {
   "cell_type": "markdown",
   "metadata": {},
   "source": [
    "## Training the model with the dataset"
   ]
  },
  {
   "cell_type": "code",
   "execution_count": 14,
   "metadata": {},
   "outputs": [
    {
     "name": "stdout",
     "output_type": "stream",
     "text": [
      "Epoch 1/10\n",
      "1/1 [==============================] - ETA: 0s - loss: 0.0029 - face_output_loss: 2.5924e-10 - mask_output_loss: 6.1243e-10 - age_output_loss: 0.0088 - face_output_accuracy: 1.0000 - mask_output_accuracy: 1.0000 - age_output_accuracy: 1.0000\n",
      "Epoch 1: saving model to ../../log/cps/multiTaskModel\\latest_weights.h5\n",
      "1/1 [==============================] - 5s 5s/step - loss: 0.0029 - face_output_loss: 2.5924e-10 - mask_output_loss: 6.1243e-10 - age_output_loss: 0.0088 - face_output_accuracy: 1.0000 - mask_output_accuracy: 1.0000 - age_output_accuracy: 1.0000 - val_loss: 0.0039 - val_face_output_loss: 6.3391e-12 - val_mask_output_loss: 2.6650e-11 - val_age_output_loss: 0.0119 - val_face_output_accuracy: 1.0000 - val_mask_output_accuracy: 1.0000 - val_age_output_accuracy: 1.0000\n",
      "Epoch 2/10\n",
      "1/1 [==============================] - ETA: 0s - loss: 0.0017 - face_output_loss: 8.6023e-11 - mask_output_loss: 2.0018e-10 - age_output_loss: 0.0052 - face_output_accuracy: 1.0000 - mask_output_accuracy: 1.0000 - age_output_accuracy: 1.0000\n",
      "Epoch 2: saving model to ../../log/cps/multiTaskModel\\latest_weights.h5\n",
      "1/1 [==============================] - 3s 3s/step - loss: 0.0017 - face_output_loss: 8.6023e-11 - mask_output_loss: 2.0018e-10 - age_output_loss: 0.0052 - face_output_accuracy: 1.0000 - mask_output_accuracy: 1.0000 - age_output_accuracy: 1.0000 - val_loss: 0.0029 - val_face_output_loss: 2.0611e-12 - val_mask_output_loss: 8.9546e-12 - val_age_output_loss: 0.0088 - val_face_output_accuracy: 1.0000 - val_mask_output_accuracy: 1.0000 - val_age_output_accuracy: 1.0000\n",
      "Epoch 3/10\n",
      "1/1 [==============================] - ETA: 0s - loss: 0.0011 - face_output_loss: 3.2446e-11 - mask_output_loss: 7.3989e-11 - age_output_loss: 0.0032 - face_output_accuracy: 1.0000 - mask_output_accuracy: 1.0000 - age_output_accuracy: 1.0000\n",
      "Epoch 3: saving model to ../../log/cps/multiTaskModel\\latest_weights.h5\n",
      "1/1 [==============================] - 3s 3s/step - loss: 0.0011 - face_output_loss: 3.2446e-11 - mask_output_loss: 7.3989e-11 - age_output_loss: 0.0032 - face_output_accuracy: 1.0000 - mask_output_accuracy: 1.0000 - age_output_accuracy: 1.0000 - val_loss: 0.0022 - val_face_output_loss: 7.5571e-13 - val_mask_output_loss: 3.3665e-12 - val_age_output_loss: 0.0067 - val_face_output_accuracy: 1.0000 - val_mask_output_accuracy: 1.0000 - val_age_output_accuracy: 1.0000\n",
      "Epoch 4/10\n",
      "1/1 [==============================] - ETA: 0s - loss: 6.7141e-04 - face_output_loss: 1.3537e-11 - mask_output_loss: 3.0406e-11 - age_output_loss: 0.0020 - face_output_accuracy: 1.0000 - mask_output_accuracy: 1.0000 - age_output_accuracy: 1.0000\n",
      "Epoch 4: saving model to ../../log/cps/multiTaskModel\\latest_weights.h5\n",
      "1/1 [==============================] - 3s 3s/step - loss: 6.7141e-04 - face_output_loss: 1.3537e-11 - mask_output_loss: 3.0406e-11 - age_output_loss: 0.0020 - face_output_accuracy: 1.0000 - mask_output_accuracy: 1.0000 - age_output_accuracy: 1.0000 - val_loss: 0.0017 - val_face_output_loss: 3.0735e-13 - val_mask_output_loss: 1.3901e-12 - val_age_output_loss: 0.0051 - val_face_output_accuracy: 1.0000 - val_mask_output_accuracy: 1.0000 - val_age_output_accuracy: 1.0000\n",
      "Epoch 5/10\n",
      "1/1 [==============================] - ETA: 0s - loss: 4.4866e-04 - face_output_loss: 6.1747e-12 - mask_output_loss: 1.3657e-11 - age_output_loss: 0.0014 - face_output_accuracy: 1.0000 - mask_output_accuracy: 1.0000 - age_output_accuracy: 1.0000\n",
      "Epoch 5: saving model to ../../log/cps/multiTaskModel\\latest_weights.h5\n",
      "1/1 [==============================] - 2s 2s/step - loss: 4.4866e-04 - face_output_loss: 6.1747e-12 - mask_output_loss: 1.3657e-11 - age_output_loss: 0.0014 - face_output_accuracy: 1.0000 - mask_output_accuracy: 1.0000 - age_output_accuracy: 1.0000 - val_loss: 0.0013 - val_face_output_loss: 1.3644e-13 - val_mask_output_loss: 6.2446e-13 - val_age_output_loss: 0.0040 - val_face_output_accuracy: 1.0000 - val_mask_output_accuracy: 1.0000 - val_age_output_accuracy: 1.0000\n",
      "Epoch 6/10\n",
      "1/1 [==============================] - ETA: 0s - loss: 3.1512e-04 - face_output_loss: 3.0465e-12 - mask_output_loss: 6.6110e-12 - age_output_loss: 9.5492e-04 - face_output_accuracy: 1.0000 - mask_output_accuracy: 1.0000 - age_output_accuracy: 1.0000\n",
      "Epoch 6: saving model to ../../log/cps/multiTaskModel\\latest_weights.h5\n",
      "1/1 [==============================] - 2s 2s/step - loss: 3.1512e-04 - face_output_loss: 3.0465e-12 - mask_output_loss: 6.6110e-12 - age_output_loss: 9.5492e-04 - face_output_accuracy: 1.0000 - mask_output_accuracy: 1.0000 - age_output_accuracy: 1.0000 - val_loss: 0.0011 - val_face_output_loss: 6.5710e-14 - val_mask_output_loss: 3.0266e-13 - val_age_output_loss: 0.0032 - val_face_output_accuracy: 1.0000 - val_mask_output_accuracy: 1.0000 - val_age_output_accuracy: 1.0000\n",
      "Epoch 7/10\n",
      "1/1 [==============================] - ETA: 0s - loss: 2.3160e-04 - face_output_loss: 1.6072e-12 - mask_output_loss: 3.4277e-12 - age_output_loss: 7.0182e-04 - face_output_accuracy: 1.0000 - mask_output_accuracy: 1.0000 - age_output_accuracy: 1.0000\n",
      "Epoch 7: saving model to ../../log/cps/multiTaskModel\\latest_weights.h5\n",
      "1/1 [==============================] - 2s 2s/step - loss: 2.3160e-04 - face_output_loss: 1.6072e-12 - mask_output_loss: 3.4277e-12 - age_output_loss: 7.0182e-04 - face_output_accuracy: 1.0000 - mask_output_accuracy: 1.0000 - age_output_accuracy: 1.0000 - val_loss: 8.4851e-04 - val_face_output_loss: 3.3940e-14 - val_mask_output_loss: 1.5697e-13 - val_age_output_loss: 0.0026 - val_face_output_accuracy: 1.0000 - val_mask_output_accuracy: 1.0000 - val_age_output_accuracy: 1.0000\n",
      "Epoch 8/10\n",
      "1/1 [==============================] - ETA: 0s - loss: 1.7821e-04 - face_output_loss: 9.0064e-13 - mask_output_loss: 1.8883e-12 - age_output_loss: 5.4002e-04 - face_output_accuracy: 1.0000 - mask_output_accuracy: 1.0000 - age_output_accuracy: 1.0000\n",
      "Epoch 8: saving model to ../../log/cps/multiTaskModel\\latest_weights.h5\n",
      "1/1 [==============================] - 3s 3s/step - loss: 1.7821e-04 - face_output_loss: 9.0064e-13 - mask_output_loss: 1.8883e-12 - age_output_loss: 5.4002e-04 - face_output_accuracy: 1.0000 - mask_output_accuracy: 1.0000 - age_output_accuracy: 1.0000 - val_loss: 6.9487e-04 - val_face_output_loss: 1.8631e-14 - val_mask_output_loss: 8.6430e-14 - val_age_output_loss: 0.0021 - val_face_output_accuracy: 1.0000 - val_mask_output_accuracy: 1.0000 - val_age_output_accuracy: 1.0000\n",
      "Epoch 9/10\n",
      "1/1 [==============================] - ETA: 0s - loss: 1.4262e-04 - face_output_loss: 5.3208e-13 - mask_output_loss: 1.0970e-12 - age_output_loss: 4.3218e-04 - face_output_accuracy: 1.0000 - mask_output_accuracy: 1.0000 - age_output_accuracy: 1.0000\n",
      "Epoch 9: saving model to ../../log/cps/multiTaskModel\\latest_weights.h5\n",
      "1/1 [==============================] - 2s 2s/step - loss: 1.4262e-04 - face_output_loss: 5.3208e-13 - mask_output_loss: 1.0970e-12 - age_output_loss: 4.3218e-04 - face_output_accuracy: 1.0000 - mask_output_accuracy: 1.0000 - age_output_accuracy: 1.0000 - val_loss: 5.7699e-04 - val_face_output_loss: 1.0801e-14 - val_mask_output_loss: 5.0224e-14 - val_age_output_loss: 0.0017 - val_face_output_accuracy: 1.0000 - val_mask_output_accuracy: 1.0000 - val_age_output_accuracy: 1.0000\n",
      "Epoch 10/10\n",
      "1/1 [==============================] - ETA: 0s - loss: 1.1790e-04 - face_output_loss: 3.2966e-13 - mask_output_loss: 6.6836e-13 - age_output_loss: 3.5728e-04 - face_output_accuracy: 1.0000 - mask_output_accuracy: 1.0000 - age_output_accuracy: 1.0000\n",
      "Epoch 10: saving model to ../../log/cps/multiTaskModel\\latest_weights.h5\n",
      "1/1 [==============================] - 2s 2s/step - loss: 1.1790e-04 - face_output_loss: 3.2966e-13 - mask_output_loss: 6.6836e-13 - age_output_loss: 3.5728e-04 - face_output_accuracy: 1.0000 - mask_output_accuracy: 1.0000 - age_output_accuracy: 1.0000 - val_loss: 4.8514e-04 - val_face_output_loss: 6.5818e-15 - val_mask_output_loss: 3.0639e-14 - val_age_output_loss: 0.0015 - val_face_output_accuracy: 1.0000 - val_mask_output_accuracy: 1.0000 - val_age_output_accuracy: 1.0000\n"
     ]
    }
   ],
   "source": [
    "history = model.fit(\n",
    "            x=training_data,\n",
    "            y={'face_output': training_face_labels, \n",
    "             'mask_output': training_mask_labels,\n",
    "             'age_output': training_age_labels},\n",
    "            batch_size=batch_size,\n",
    "            epochs=epochs, \n",
    "            callbacks=callbacks,\n",
    "            validation_split=0.2,\n",
    "            shuffle=True\n",
    "        )"
   ]
  },
  {
   "cell_type": "markdown",
   "metadata": {},
   "source": [
    "## Save the model"
   ]
  },
  {
   "cell_type": "code",
   "execution_count": null,
   "metadata": {},
   "outputs": [],
   "source": [
    "model.save(savedModelPath)"
   ]
  },
  {
   "cell_type": "markdown",
   "metadata": {},
   "source": [
    "## Test model with test dataset"
   ]
  },
  {
   "cell_type": "code",
   "execution_count": null,
   "metadata": {},
   "outputs": [],
   "source": [
    "results = model.evaluate(\n",
    "                x=test_data,\n",
    "                y={'face_output': test_face_labels, \n",
    "                'mask_output': test_mask_labels,\n",
    "                'age_output': test_age_labels},\n",
    ")\n",
    "\n",
    "print(f'Loss: {results[0]}; Accuracy: {results[1]}')"
   ]
  },
  {
   "cell_type": "markdown",
   "metadata": {},
   "source": [
    "## Predict new images"
   ]
  },
  {
   "cell_type": "code",
   "execution_count": null,
   "metadata": {},
   "outputs": [],
   "source": [
    "# https://www.tensorflow.org/tutorials/images/classification\n",
    "\n",
    "img = tf.keras.utils.load_img(\n",
    "    '../../data/m3/test/FaceTest/000001.jpg', target_size=(image_height, image_width)\n",
    ")\n",
    "img_array = tf.keras.utils.img_to_array(img)\n",
    "img_array = tf.expand_dims(img_array, 0) # Create a batch\n",
    "\n",
    "preds = model.predict(img_array)"
   ]
  }
 ],
 "metadata": {
  "kernelspec": {
   "display_name": "Python 3.9.15 ('tensorflow_env')",
   "language": "python",
   "name": "python3"
  },
  "language_info": {
   "codemirror_mode": {
    "name": "ipython",
    "version": 3
   },
   "file_extension": ".py",
   "mimetype": "text/x-python",
   "name": "python",
   "nbconvert_exporter": "python",
   "pygments_lexer": "ipython3",
   "version": "3.9.15"
  },
  "orig_nbformat": 4,
  "vscode": {
   "interpreter": {
    "hash": "e835bed0d045645e9c54544f1f004d71899c2dc33915ef0fe048509bab96fa04"
   }
  }
 },
 "nbformat": 4,
 "nbformat_minor": 2
}
