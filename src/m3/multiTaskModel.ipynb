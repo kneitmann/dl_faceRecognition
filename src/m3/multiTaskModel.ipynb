{
 "cells": [
  {
   "cell_type": "markdown",
   "metadata": {},
   "source": [
    "# Multi Task Model"
   ]
  },
  {
   "cell_type": "markdown",
   "metadata": {},
   "source": [
    "## Imports"
   ]
  },
  {
   "cell_type": "code",
   "execution_count": 21,
   "metadata": {},
   "outputs": [],
   "source": [
    "# Tensorflow imports\n",
    "import tensorflow as tf\n",
    "from tensorflow import keras\n",
    "from tensorflow.keras.applications import MobileNet"
   ]
  },
  {
   "cell_type": "markdown",
   "metadata": {},
   "source": [
    "## Model parameters"
   ]
  },
  {
   "cell_type": "code",
   "execution_count": 22,
   "metadata": {},
   "outputs": [],
   "source": [
    "# Log parameters\n",
    "model_name = 'multiTaskModel'\n",
    "savedModelPath = f'../log/saved_models/{model_name}'\n",
    "tb_log_dir = f'../log/tensorboard/{model_name}'\n",
    "cp_filepath = f'../log/cps/{model_name}/latest_weights.h5'\n",
    "\n",
    "# Dynamic hyperparameters\n",
    "learningRate = 0.001\n",
    "doDataAugmentation = True\n",
    "dropoutRate = 0.25\n",
    "width_multiplier = 1\n",
    "depth_multiplier = 1\n",
    "\n",
    "# Training parameters\n",
    "batch_size = 32\n",
    "epochs = 10"
   ]
  },
  {
   "cell_type": "markdown",
   "metadata": {},
   "source": [
    "## Model callbacks"
   ]
  },
  {
   "cell_type": "code",
   "execution_count": 23,
   "metadata": {},
   "outputs": [],
   "source": [
    "callbacks = [\n",
    "    # Checkpoint callback                    \n",
    "    keras.callbacks.ModelCheckpoint(\n",
    "                    filepath=cp_filepath, \n",
    "                    verbose=1, \n",
    "                    save_weights_only=True),\n",
    "\n",
    "    # Tensorboard callback\n",
    "    keras.callbacks.TensorBoard(log_dir=tb_log_dir, histogram_freq=1),\n",
    "\n",
    "    # Early Stopping callback\n",
    "    keras.callbacks.EarlyStopping(\n",
    "                    monitor=\"val_loss\",\n",
    "                    patience=2,\n",
    "                    verbose=1)\n",
    "]"
   ]
  },
  {
   "cell_type": "markdown",
   "metadata": {},
   "source": [
    "## Data parameters"
   ]
  },
  {
   "cell_type": "code",
   "execution_count": 24,
   "metadata": {},
   "outputs": [],
   "source": [
    "image_height = 224\n",
    "image_width = 224"
   ]
  },
  {
   "cell_type": "markdown",
   "metadata": {},
   "source": [
    "## Data Augmentation"
   ]
  },
  {
   "cell_type": "code",
   "execution_count": 25,
   "metadata": {},
   "outputs": [],
   "source": [
    "# More data augmentation?\n",
    "data_augmentation = keras.Sequential(\n",
    "    [\n",
    "        keras.layers.RandomFlip(\"horizontal\"),\n",
    "        keras.layers.RandomRotation(0.1),\n",
    "    ]\n",
    ")"
   ]
  },
  {
   "cell_type": "markdown",
   "metadata": {},
   "source": [
    "## Creating the training datasets"
   ]
  },
  {
   "cell_type": "code",
   "execution_count": 26,
   "metadata": {},
   "outputs": [
    {
     "name": "stdout",
     "output_type": "stream",
     "text": [
      "Found 43444 files belonging to 2 classes.\n",
      "Using 34756 files for training.\n"
     ]
    },
    {
     "data": {
      "text/plain": [
       "<PrefetchDataset element_spec=(TensorSpec(shape=(None, None, 224, 224, 3), dtype=tf.float32, name=None), TensorSpec(shape=(None, None, 1), dtype=tf.float32, name=None))>"
      ]
     },
     "execution_count": 26,
     "metadata": {},
     "output_type": "execute_result"
    }
   ],
   "source": [
    "# https://www.tensorflow.org/api_docs/python/tf/keras/utils/image_dataset_from_directory\n",
    "\n",
    "training_ds = keras.utils.image_dataset_from_directory(\n",
    "    \"../../data/m3/training/\",\n",
    "    label_mode='binary',\n",
    "    color_mode='rgb',\n",
    "    batch_size=batch_size,\n",
    "    image_size=(image_height, image_width),\n",
    "    shuffle=True,\n",
    "    seed=123,\n",
    "    validation_split=0.2,\n",
    "    subset='training',\n",
    "    interpolation='bilinear',\n",
    "    follow_links=False,\n",
    "    crop_to_aspect_ratio=True,\n",
    ")\n",
    "\n",
    "training_ds.cache().batch(batch_size).prefetch(buffer_size=10)"
   ]
  },
  {
   "cell_type": "markdown",
   "metadata": {},
   "source": [
    "## Creating the validation dataset"
   ]
  },
  {
   "cell_type": "code",
   "execution_count": 27,
   "metadata": {},
   "outputs": [
    {
     "name": "stdout",
     "output_type": "stream",
     "text": [
      "Found 43444 files belonging to 2 classes.\n",
      "Using 8688 files for validation.\n"
     ]
    },
    {
     "data": {
      "text/plain": [
       "<PrefetchDataset element_spec=(TensorSpec(shape=(None, None, 224, 224, 3), dtype=tf.float32, name=None), TensorSpec(shape=(None, None, 1), dtype=tf.float32, name=None))>"
      ]
     },
     "execution_count": 27,
     "metadata": {},
     "output_type": "execute_result"
    }
   ],
   "source": [
    "validation_ds = keras.utils.image_dataset_from_directory(\n",
    "    \"../../data/m3/training/\",\n",
    "    label_mode='binary',\n",
    "    color_mode='rgb',\n",
    "    batch_size=batch_size,\n",
    "    image_size=(image_height, image_width),\n",
    "    shuffle=True,\n",
    "    seed=123,\n",
    "    validation_split=0.2,\n",
    "    subset='validation',\n",
    "    interpolation='bilinear',\n",
    "    follow_links=False,\n",
    "    crop_to_aspect_ratio=True,\n",
    ")\n",
    "\n",
    "validation_ds.cache().batch(batch_size).prefetch(buffer_size=10)"
   ]
  },
  {
   "cell_type": "markdown",
   "metadata": {},
   "source": [
    "## Creating the test dataset"
   ]
  },
  {
   "cell_type": "code",
   "execution_count": 28,
   "metadata": {},
   "outputs": [
    {
     "name": "stdout",
     "output_type": "stream",
     "text": [
      "Found 224 files belonging to 2 classes.\n"
     ]
    },
    {
     "data": {
      "text/plain": [
       "<PrefetchDataset element_spec=(TensorSpec(shape=(None, None, 224, 224, 3), dtype=tf.float32, name=None), TensorSpec(shape=(None, None, 1), dtype=tf.float32, name=None))>"
      ]
     },
     "execution_count": 28,
     "metadata": {},
     "output_type": "execute_result"
    }
   ],
   "source": [
    "test_ds = keras.utils.image_dataset_from_directory(\n",
    "    \"../../data/m3/test/\",\n",
    "    label_mode='binary',\n",
    "    color_mode='rgb',\n",
    "    batch_size=batch_size,\n",
    "    image_size=(image_height, image_width),\n",
    "    interpolation='bilinear',\n",
    "    follow_links=False,\n",
    "    crop_to_aspect_ratio=True,\n",
    ")\n",
    "\n",
    "test_ds.cache().batch(batch_size).prefetch(buffer_size=10)"
   ]
  },
  {
   "cell_type": "markdown",
   "metadata": {},
   "source": [
    "## Load the ResNet model"
   ]
  },
  {
   "cell_type": "code",
   "execution_count": 29,
   "metadata": {},
   "outputs": [
    {
     "ename": "SyntaxError",
     "evalue": "keyword argument repeated: include_top (193704594.py, line 2)",
     "output_type": "error",
     "traceback": [
      "\u001b[1;36m  Cell \u001b[1;32mIn [29], line 2\u001b[1;36m\u001b[0m\n\u001b[1;33m    mobilenet = MobileNet(\u001b[0m\n\u001b[1;37m                    ^\u001b[0m\n\u001b[1;31mSyntaxError\u001b[0m\u001b[1;31m:\u001b[0m keyword argument repeated: include_top\n"
     ]
    }
   ],
   "source": [
    "# Loading either the ResNet50 architecture model or the previously saved model, and freeze it for transfer learning\n",
    "mobilenet = MobileNet(\n",
    "                input_shape=(image_height, image_width, 3), # Optional shape tuple, only to be specified if include_top is False\n",
    "                alpha=width_multiplier, # Controls the width of the network. (Width multiplier)\n",
    "                depth_multiplier=depth_multiplier, # Depth multiplier for depthwise convolution. (Resolution multiplier)\n",
    "                dropout=dropoutRate, # Dropout rate. Default to 0.001.\n",
    "                weights=\"imagenet\",\n",
    "                input_tensor=None,\n",
    "                pooling='avg', # Optional pooling mode for feature extraction when include_top is False. (None, avg, max)\n",
    "                include_top=False\n",
    "                )\n",
    "           \n",
    "# Freeze the base model\n",
    "mobilenet.trainable = False\n",
    "\n",
    "inputs = keras.Input(shape=(image_height, image_width, 3))\n",
    "\n",
    "# Data Augmentation on input\n",
    "if(doDataAugmentation):\n",
    "    inputs = data_augmentation(inputs)\n",
    "\n",
    "# Running base model in inference mode\n",
    "base_model = mobilenet(inputs, training=False)"
   ]
  },
  {
   "cell_type": "markdown",
   "metadata": {},
   "source": [
    "## Creating Task 1 (Face Detection) Top Model"
   ]
  },
  {
   "cell_type": "code",
   "execution_count": null,
   "metadata": {},
   "outputs": [],
   "source": [
    "# Add Dense layer\n",
    "face_head = tf.keras.layers.Dense(512, activation='relu')(base_model)\n",
    "\n",
    "# Final layer for binary classification\n",
    "face_outputs = keras.layers.Dense(1, activation='sigmoid', name='face_output')(face_head)"
   ]
  },
  {
   "cell_type": "markdown",
   "metadata": {},
   "source": [
    "## Creating Task 2 (Mask Detection) Top Model"
   ]
  },
  {
   "cell_type": "code",
   "execution_count": null,
   "metadata": {},
   "outputs": [],
   "source": [
    "# Add Dense layer\n",
    "mask_head = tf.keras.layers.Dense(512, activation='relu')(base_model)\n",
    "\n",
    "# Final layer for binary classification\n",
    "mask_outputs = keras.layers.Dense(1, activation='sigmoid', name='mask_output')(mask_head)"
   ]
  },
  {
   "cell_type": "markdown",
   "metadata": {},
   "source": [
    "## Creating Task 3 (Age Prediction) Top Model"
   ]
  },
  {
   "cell_type": "code",
   "execution_count": null,
   "metadata": {},
   "outputs": [],
   "source": [
    "# Add Dense layer\n",
    "age_head = tf.keras.layers.Dense(1024, activation='relu')(base_model)\n",
    "\n",
    "# Final layer for binary classification\n",
    "age_outputs = keras.layers.Dense(1, activation='softmax', name='age_output')(age_head)"
   ]
  },
  {
   "cell_type": "markdown",
   "metadata": {},
   "source": [
    "## Creating and compiling the final model"
   ]
  },
  {
   "cell_type": "code",
   "execution_count": null,
   "metadata": {},
   "outputs": [],
   "source": [
    "\n",
    "model = keras.Model(inputs, [face_outputs, mask_outputs, age_outputs])\n",
    "\n",
    "# Using a joint loss function for the three tasks:\n",
    "# [ Loss = gamma * Loss_task1 + gamma * Loss_task2 + gamma * Loss_task3 ]\n",
    "# Because every task is dependant on every other task, the model receives the loss of every task when gamma > 0\n",
    "\n",
    "gamma = 0.33\n",
    "\n",
    "model.compile(optimizer=keras.optimizers.Adam(), # Learning Rate?\n",
    "                    loss={'face_output': keras.losses.BinaryCrossentropy(), \n",
    "                          'mask_output': keras.losses.BinaryCrossentropy(),\n",
    "                          'age_output': keras.losses.CategoricalCrossentropy()},\n",
    "                    loss_weights={'face_output': gamma, \n",
    "                                  'mask_output': gamma,\n",
    "                                  'age_output': gamma}, \n",
    "                    metrics=['accuracy'])\n",
    "\n",
    "model.summary()"
   ]
  },
  {
   "cell_type": "markdown",
   "metadata": {},
   "source": [
    "## Training the model with the dataset"
   ]
  },
  {
   "cell_type": "code",
   "execution_count": null,
   "metadata": {},
   "outputs": [],
   "source": [
    "history = model.fit(\n",
    "            training_ds, \n",
    "            epochs=epochs, \n",
    "            callbacks=callbacks, \n",
    "            validation_data=validation_ds\n",
    "        )"
   ]
  },
  {
   "cell_type": "markdown",
   "metadata": {},
   "source": [
    "## Save the model"
   ]
  },
  {
   "cell_type": "code",
   "execution_count": null,
   "metadata": {},
   "outputs": [],
   "source": [
    "model.save(savedModelPath)"
   ]
  },
  {
   "cell_type": "markdown",
   "metadata": {},
   "source": [
    "## Test model with test dataset"
   ]
  },
  {
   "cell_type": "code",
   "execution_count": null,
   "metadata": {},
   "outputs": [],
   "source": [
    "results = model.evaluate(test_ds)\n",
    "\n",
    "print(f'Loss: {results[0]}; Accuracy: {results[1]}')"
   ]
  },
  {
   "cell_type": "markdown",
   "metadata": {},
   "source": [
    "## Predict new images"
   ]
  },
  {
   "cell_type": "code",
   "execution_count": null,
   "metadata": {},
   "outputs": [],
   "source": [
    "# https://www.tensorflow.org/tutorials/images/classification\n",
    "\n",
    "img = tf.keras.utils.load_img(\n",
    "    '../data/test/NoFace/000001.jpg', target_size=(image_height, image_width)\n",
    ")\n",
    "img_array = tf.keras.utils.img_to_array(img)\n",
    "img_array = tf.expand_dims(img_array, 0) # Create a batch\n",
    "\n",
    "preds = model.predict(img_array)"
   ]
  }
 ],
 "metadata": {
  "kernelspec": {
   "display_name": "Python 3.9.15 ('tensorflow_env')",
   "language": "python",
   "name": "python3"
  },
  "language_info": {
   "codemirror_mode": {
    "name": "ipython",
    "version": 3
   },
   "file_extension": ".py",
   "mimetype": "text/x-python",
   "name": "python",
   "nbconvert_exporter": "python",
   "pygments_lexer": "ipython3",
   "version": "3.9.15"
  },
  "orig_nbformat": 4,
  "vscode": {
   "interpreter": {
    "hash": "c00f7aeea047a1b088a3a42b60204c8b63ef26be0f1318957be1b27f8c5ab367"
   }
  }
 },
 "nbformat": 4,
 "nbformat_minor": 2
}
