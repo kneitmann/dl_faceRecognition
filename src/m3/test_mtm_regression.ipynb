{
 "cells": [
  {
   "attachments": {},
   "cell_type": "markdown",
   "metadata": {},
   "source": [
    "# Regression Model Test"
   ]
  },
  {
   "attachments": {},
   "cell_type": "markdown",
   "metadata": {},
   "source": [
    "## Imports"
   ]
  },
  {
   "cell_type": "code",
   "execution_count": null,
   "metadata": {},
   "outputs": [],
   "source": [
    "import tensorflow as tf\n",
    "from tensorflow import keras\n",
    "from loadData_alt import createDataset\n",
    "import matplotlib.pyplot as plt"
   ]
  },
  {
   "cell_type": "code",
   "execution_count": null,
   "metadata": {},
   "outputs": [],
   "source": [
    "model_path = '../../log/saved_models/mtm_regression_np/'\n",
    "batch_size = 32\n",
    "image_height = 160\n",
    "image_width = 160"
   ]
  },
  {
   "attachments": {},
   "cell_type": "markdown",
   "metadata": {},
   "source": [
    "## Load the model"
   ]
  },
  {
   "cell_type": "code",
   "execution_count": null,
   "metadata": {},
   "outputs": [],
   "source": [
    "loaded_model = keras.models.load_model(model_path)"
   ]
  },
  {
   "attachments": {},
   "cell_type": "markdown",
   "metadata": {},
   "source": [
    "## Evaluating the test data"
   ]
  },
  {
   "cell_type": "code",
   "execution_count": null,
   "metadata": {},
   "outputs": [],
   "source": [
    "test_ds = createDataset('../../data/m3/test', batch_size, 0)\n",
    "\n",
    "results = loaded_model.evaluate(test_ds)\n",
    "\n",
    "print(f'Loss: {results[0]}; Accuracy: {results[1]}')"
   ]
  },
  {
   "attachments": {},
   "cell_type": "markdown",
   "metadata": {},
   "source": [
    "## Predict new images"
   ]
  },
  {
   "cell_type": "code",
   "execution_count": null,
   "metadata": {},
   "outputs": [],
   "source": [
    "# Getting the image path for image to predict\n",
    "img_path = '../../data/m3/test/'\n",
    "img_path_split = img_path.split('/')\n",
    "img_name = img_path_split[len(img_path_split)-1]\n",
    "img_name_split = img_name.split('_')\n",
    "\n",
    "# Getting the actual age from the file name\n",
    "if(len(img_name_split) > 2 and str.isnumeric(img_name_split[2])):\n",
    "    age_actual = img_name_split[2]\n",
    "else:\n",
    "    age_actual = '?'\n",
    "\n",
    "# Loading and preprocessing the image\n",
    "img = tf.keras.utils.load_img(\n",
    "    img_path, target_size=(image_height, image_width)\n",
    ")\n",
    "img_array = tf.keras.utils.img_to_array(img)\n",
    "img_array_batch = tf.expand_dims(img_array, 0) # Create a batch\n",
    "\n",
    "# Let the model make a prediction for the image\n",
    "preds = loaded_model.predict(img_array_batch)\n",
    "\n",
    "# Getting face, mask and age prediction\n",
    "face_pred_percent = preds[0][0][0]*100\n",
    "mask_pred_percent = preds[1][0][0]*100\n",
    "age_pred = str(int(preds[2][0][0]))\n",
    "\n",
    "if(age_pred == '121'): age_pred = '-'\n",
    "\n",
    "# Showing the image with the corresponding predictions\n",
    "ax = plt.subplot(1, 1, 1)\n",
    "plt.imshow(img)\n",
    "plt.title(\"Face: {:.2f}% | Mask: {:.2f}% | Age: {} (Actual: {})\".format(face_pred_percent, mask_pred_percent, age_pred, age_actual))"
   ]
  }
 ],
 "metadata": {
  "kernelspec": {
   "display_name": "Python 3",
   "language": "python",
   "name": "python3"
  },
  "language_info": {
   "name": "python",
   "version": "3.10.8 (tags/v3.10.8:aaaf517, Oct 11 2022, 16:50:30) [MSC v.1933 64 bit (AMD64)]"
  },
  "orig_nbformat": 4,
  "vscode": {
   "interpreter": {
    "hash": "d4a990ad3d82f2495f1f246b36d1c69892b3c20f6cabe7329a7b4ce08f5013a9"
   }
  }
 },
 "nbformat": 4,
 "nbformat_minor": 2
}
