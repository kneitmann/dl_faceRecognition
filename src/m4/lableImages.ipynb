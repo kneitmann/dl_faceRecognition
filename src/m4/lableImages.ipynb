{
 "cells": [
  {
   "attachments": {},
   "cell_type": "markdown",
   "metadata": {},
   "source": [
    "## Imports"
   ]
  },
  {
   "cell_type": "code",
   "execution_count": null,
   "metadata": {},
   "outputs": [],
   "source": [
    "import os\n",
    "import glob\n",
    "from PIL import Image"
   ]
  },
  {
   "attachments": {},
   "cell_type": "markdown",
   "metadata": {},
   "source": [
    "## Path variables\n",
    "Variables for the different structure paths."
   ]
  },
  {
   "cell_type": "code",
   "execution_count": null,
   "metadata": {},
   "outputs": [],
   "source": [
    "faceFolders= \"F:/ComputerVisionBild/Pair158dataset/\"\n",
    "faceFolders2= \"F:/ComputerVisionBild/PairManyForOne/CFP_Data/\"\n",
    "faceFoldersTest= \"F:/ComputerVisionBild/Pair2/\"\n",
    "faceCounter = 100000\n",
    "faceCounter2 = 200000"
   ]
  },
  {
   "attachments": {},
   "cell_type": "markdown",
   "metadata": {},
   "source": [
    "## Change lable"
   ]
  },
  {
   "cell_type": "code",
   "execution_count": null,
   "metadata": {},
   "outputs": [],
   "source": [
    "def changeLable(path, counterStart):\n",
    "    counterPerson = counterStart\n",
    "    counterImage = counterStart\n",
    "    fileFolderTmp = \"\"\n",
    "    for file in glob.glob(path + '/*/*' + \".jpg\"):\n",
    "        #seperate of the current folder for the faces which are sorted by the folders\n",
    "        firstLableEle = file.split(\"\\\\\")\n",
    "        fileFolder = firstLableEle[len(firstLableEle)-2]\n",
    "        \n",
    "        #check if the current folder with the same face ist already used\n",
    "        #counterPerson to lable the same face with the same number\n",
    "        if fileFolder!=fileFolderTmp:\n",
    "            counterPerson += 1\n",
    "\n",
    "        #lable for all images\n",
    "        os.rename(file, path + str(counterPerson) + '_' + str(counterImage) + \".jpg\")     \n",
    "        counterImage += 1\n",
    "        fileFolderTmp = fileFolder"
   ]
  },
  {
   "attachments": {},
   "cell_type": "markdown",
   "metadata": {},
   "source": [
    "## Function call"
   ]
  },
  {
   "cell_type": "code",
   "execution_count": null,
   "metadata": {},
   "outputs": [],
   "source": [
    "changeLable(faceFolders2, faceCounter2)"
   ]
  }
 ],
 "metadata": {
  "kernelspec": {
   "display_name": "tensorflow_env",
   "language": "python",
   "name": "python3"
  },
  "language_info": {
   "codemirror_mode": {
    "name": "ipython",
    "version": 3
   },
   "file_extension": ".py",
   "mimetype": "text/x-python",
   "name": "python",
   "nbconvert_exporter": "python",
   "pygments_lexer": "ipython3",
   "version": "3.9.15 (main, Nov 24 2022, 14:39:17) [MSC v.1916 64 bit (AMD64)]"
  },
  "orig_nbformat": 4,
  "vscode": {
   "interpreter": {
    "hash": "e835bed0d045645e9c54544f1f004d71899c2dc33915ef0fe048509bab96fa04"
   }
  }
 },
 "nbformat": 4,
 "nbformat_minor": 2
}
