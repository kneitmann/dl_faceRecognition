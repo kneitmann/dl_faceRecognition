{
 "cells": [
  {
   "cell_type": "code",
   "execution_count": 65,
   "metadata": {},
   "outputs": [],
   "source": [
    "import import_ipynb\n",
    "from LoadPicture import *\n",
    "\n",
    "import numpy as np\n",
    "import glob\n",
    "import matplotlib.pyplot as plt\n",
    "\n",
    "# Tensorflow imports\n",
    "import tensorflow as tf\n",
    "from tensorflow import keras\n",
    "from tensorflow.keras.applications.resnet_v2 import ResNet50V2\n",
    "from tensorflow.keras.preprocessing import image\n",
    "from tensorflow.keras.applications.resnet50 import preprocess_input, decode_predictions"
   ]
  },
  {
   "cell_type": "markdown",
   "metadata": {},
   "source": [
    "## Model parameters"
   ]
  },
  {
   "cell_type": "code",
   "execution_count": 66,
   "metadata": {},
   "outputs": [],
   "source": [
    "batch_size = 32\n",
    "class_names = ['FaceOnly', 'NoFace']"
   ]
  },
  {
   "cell_type": "markdown",
   "metadata": {},
   "source": [
    "## Model callbacks"
   ]
  },
  {
   "cell_type": "code",
   "execution_count": 67,
   "metadata": {},
   "outputs": [],
   "source": [
    "callbacks = [\n",
    "    keras.callbacks.ModelCheckpoint(                        \n",
    "                        filepath='../log/cps/{model.name}_cp_{epoch}', \n",
    "                        verbose=1, \n",
    "                        save_weights_only=False,\n",
    "                        save_freq=5*batch_size) # Checkpoint is saved every five epochs\n",
    "]"
   ]
  },
  {
   "cell_type": "markdown",
   "metadata": {},
   "source": [
    "## Data parameters"
   ]
  },
  {
   "cell_type": "code",
   "execution_count": 68,
   "metadata": {},
   "outputs": [],
   "source": [
    "image_height = 224\n",
    "image_width = 224"
   ]
  },
  {
   "cell_type": "markdown",
   "metadata": {},
   "source": [
    "## Creating the training dataset"
   ]
  },
  {
   "cell_type": "code",
   "execution_count": 69,
   "metadata": {},
   "outputs": [
    {
     "name": "stdout",
     "output_type": "stream",
     "text": [
      "Found 20 files belonging to 2 classes.\n"
     ]
    },
    {
     "data": {
      "text/plain": [
       "<PrefetchDataset element_spec=(TensorSpec(shape=(None, None, 224, 224, 3), dtype=tf.float32, name=None), TensorSpec(shape=(None, None, 1), dtype=tf.float32, name=None))>"
      ]
     },
     "execution_count": 69,
     "metadata": {},
     "output_type": "execute_result"
    }
   ],
   "source": [
    "face_training_ds = keras.utils.image_dataset_from_directory(\n",
    "    \"../data/training/\",\n",
    "    labels='inferred',\n",
    "    label_mode='binary',\n",
    "    class_names=class_names,\n",
    "    color_mode='rgb',\n",
    "    batch_size=batch_size,\n",
    "    image_size=(image_height, image_width),\n",
    "    shuffle=True,\n",
    "    seed=None,\n",
    "    validation_split=None,\n",
    "    subset=None,\n",
    "    interpolation='bilinear',\n",
    "    follow_links=False,\n",
    "    crop_to_aspect_ratio=True,\n",
    ")\n",
    "\n",
    "#face_training_ds.map(lambda x, y: (tf.image.resize(x, (image_height, image_width)), y))\n",
    "face_training_ds.cache().batch(batch_size).prefetch(buffer_size=10)"
   ]
  },
  {
   "cell_type": "markdown",
   "metadata": {},
   "source": [
    "## Creating the validation dataset"
   ]
  },
  {
   "cell_type": "code",
   "execution_count": 70,
   "metadata": {},
   "outputs": [],
   "source": [
    "validation_ds = []"
   ]
  },
  {
   "cell_type": "markdown",
   "metadata": {},
   "source": [
    "## Creating the test dataset"
   ]
  },
  {
   "cell_type": "code",
   "execution_count": 71,
   "metadata": {},
   "outputs": [],
   "source": [
    "test_ds = []"
   ]
  },
  {
   "cell_type": "markdown",
   "metadata": {},
   "source": [
    "## Load the base model"
   ]
  },
  {
   "cell_type": "code",
   "execution_count": 72,
   "metadata": {},
   "outputs": [],
   "source": [
    "# Loading either the ResNet50 architecture model or the previously saved model, and freeze it for transfer learning\n",
    "base_model = ResNet50V2(include_top=False)\n",
    "base_model.trainable = False"
   ]
  },
  {
   "cell_type": "markdown",
   "metadata": {},
   "source": [
    "## Creating a new model"
   ]
  },
  {
   "cell_type": "code",
   "execution_count": 73,
   "metadata": {},
   "outputs": [],
   "source": [
    "inputs = keras.Input(shape=(image_height, image_width, 3))\n",
    "\n",
    "# Running base model in inference mode\n",
    "x = base_model(inputs, training=False)\n",
    "\n",
    "# Convert features of shape `base_model.output_shape[1:]` to vectors\n",
    "x = keras.layers.GlobalAveragePooling2D()(x)\n",
    "\n",
    "# Final layer for binary classification\n",
    "outputs = keras.layers.Dense(1)(x)\n",
    "model = keras.Model(inputs, outputs)"
   ]
  },
  {
   "cell_type": "markdown",
   "metadata": {},
   "source": [
    "## Training the new model with new data"
   ]
  },
  {
   "cell_type": "code",
   "execution_count": 74,
   "metadata": {},
   "outputs": [
    {
     "name": "stdout",
     "output_type": "stream",
     "text": [
      "Epoch 1/20\n",
      "1/1 [==============================] - 10s 10s/step - loss: 3.4436 - binary_accuracy: 0.7500\n",
      "Epoch 2/20\n",
      "1/1 [==============================] - 2s 2s/step - loss: 5.6435 - binary_accuracy: 0.8500\n",
      "Epoch 3/20\n",
      "1/1 [==============================] - 2s 2s/step - loss: 5.5628 - binary_accuracy: 0.8500\n",
      "Epoch 4/20\n",
      "1/1 [==============================] - 2s 2s/step - loss: 2.6680 - binary_accuracy: 0.8500\n",
      "Epoch 5/20\n",
      "1/1 [==============================] - 2s 2s/step - loss: 0.9920 - binary_accuracy: 0.9000\n",
      "Epoch 6/20\n",
      "1/1 [==============================] - 2s 2s/step - loss: 4.1119 - binary_accuracy: 0.7000\n",
      "Epoch 7/20\n",
      "1/1 [==============================] - 2s 2s/step - loss: 2.8172 - binary_accuracy: 0.8000\n",
      "Epoch 8/20\n",
      "1/1 [==============================] - 2s 2s/step - loss: 0.5371 - binary_accuracy: 0.9500\n",
      "Epoch 9/20\n",
      "1/1 [==============================] - 2s 2s/step - loss: 0.5104 - binary_accuracy: 0.9000\n",
      "Epoch 10/20\n",
      "1/1 [==============================] - 2s 2s/step - loss: 1.2749 - binary_accuracy: 0.9000\n",
      "Epoch 11/20\n",
      "1/1 [==============================] - 2s 2s/step - loss: 1.4764 - binary_accuracy: 0.9000\n",
      "Epoch 12/20\n",
      "1/1 [==============================] - 2s 2s/step - loss: 0.9626 - binary_accuracy: 0.9000\n",
      "Epoch 13/20\n",
      "1/1 [==============================] - 2s 2s/step - loss: 0.0918 - binary_accuracy: 0.9500\n",
      "Epoch 14/20\n",
      "1/1 [==============================] - 2s 2s/step - loss: 0.0109 - binary_accuracy: 1.0000\n",
      "Epoch 15/20\n",
      "1/1 [==============================] - 2s 2s/step - loss: 0.1324 - binary_accuracy: 0.9500\n",
      "Epoch 16/20\n",
      "1/1 [==============================] - 2s 2s/step - loss: 0.3347 - binary_accuracy: 0.9000\n",
      "Epoch 17/20\n",
      "1/1 [==============================] - 2s 2s/step - loss: 0.4299 - binary_accuracy: 0.9000\n",
      "Epoch 18/20\n",
      "1/1 [==============================] - 2s 2s/step - loss: 0.1845 - binary_accuracy: 0.9500\n",
      "Epoch 19/20\n",
      "1/1 [==============================] - 2s 2s/step - loss: 0.0102 - binary_accuracy: 1.0000\n",
      "Epoch 20/20\n",
      "1/1 [==============================] - 2s 2s/step - loss: 1.9747e-04 - binary_accuracy: 1.0000\n"
     ]
    }
   ],
   "source": [
    "model.compile(optimizer=keras.optimizers.Adam(),\n",
    "              loss=keras.losses.BinaryCrossentropy(from_logits=True),\n",
    "              metrics=[keras.metrics.BinaryAccuracy()])\n",
    "history = model.fit(\n",
    "            face_training_ds, \n",
    "            epochs=20, \n",
    "            callbacks=callbacks, \n",
    "            #validation_data=...\n",
    "        )"
   ]
  },
  {
   "cell_type": "markdown",
   "metadata": {},
   "source": [
    "## View Results"
   ]
  },
  {
   "cell_type": "markdown",
   "metadata": {},
   "source": [
    "## Predict new images"
   ]
  },
  {
   "cell_type": "code",
   "execution_count": 75,
   "metadata": {},
   "outputs": [
    {
     "ename": "ValueError",
     "evalue": "Exception encountered when calling layer \"tf.keras.backend.bias_add_4\" (type TFOpLambda).\n\nDimensions must be equal, but are 2048 and 3 for '{{node tf.keras.backend.bias_add_4/BiasAdd}} = BiasAdd[T=DT_FLOAT, data_format=\"NHWC\"](Placeholder, tf.keras.backend.bias_add_4/BiasAdd/bias)' with input shapes: [?,2048], [3].\n\nCall arguments received by layer \"tf.keras.backend.bias_add_4\" (type TFOpLambda):\n  • x=tf.Tensor(shape=(None, 2048), dtype=float32)\n  • bias=tf.Tensor(shape=(3,), dtype=float32)\n  • data_format='channels_last'",
     "output_type": "error",
     "traceback": [
      "\u001b[1;31m---------------------------------------------------------------------------\u001b[0m",
      "\u001b[1;31mValueError\u001b[0m                                Traceback (most recent call last)",
      "\u001b[1;32mc:\\Users\\Zolkin\\Documents\\Master Studium Informatik\\3. Semester\\Advanced Deep Learning\\Projekt\\dl_faceRecognition\\src\\model.ipynb Zelle 22\u001b[0m in \u001b[0;36m<cell line: 9>\u001b[1;34m()\u001b[0m\n\u001b[0;32m      <a href='vscode-notebook-cell:/c%3A/Users/Zolkin/Documents/Master%20Studium%20Informatik/3.%20Semester/Advanced%20Deep%20Learning/Projekt/dl_faceRecognition/src/model.ipynb#X32sZmlsZQ%3D%3D?line=5'>6</a>\u001b[0m img_array \u001b[39m=\u001b[39m tf\u001b[39m.\u001b[39mkeras\u001b[39m.\u001b[39mutils\u001b[39m.\u001b[39mimg_to_array(img)\n\u001b[0;32m      <a href='vscode-notebook-cell:/c%3A/Users/Zolkin/Documents/Master%20Studium%20Informatik/3.%20Semester/Advanced%20Deep%20Learning/Projekt/dl_faceRecognition/src/model.ipynb#X32sZmlsZQ%3D%3D?line=6'>7</a>\u001b[0m img_array \u001b[39m=\u001b[39m tf\u001b[39m.\u001b[39mexpand_dims(img_array, \u001b[39m0\u001b[39m) \u001b[39m# Create a batch\u001b[39;00m\n\u001b[1;32m----> <a href='vscode-notebook-cell:/c%3A/Users/Zolkin/Documents/Master%20Studium%20Informatik/3.%20Semester/Advanced%20Deep%20Learning/Projekt/dl_faceRecognition/src/model.ipynb#X32sZmlsZQ%3D%3D?line=8'>9</a>\u001b[0m img_array \u001b[39m=\u001b[39m preprocess_input(x)\n\u001b[0;32m     <a href='vscode-notebook-cell:/c%3A/Users/Zolkin/Documents/Master%20Studium%20Informatik/3.%20Semester/Advanced%20Deep%20Learning/Projekt/dl_faceRecognition/src/model.ipynb#X32sZmlsZQ%3D%3D?line=10'>11</a>\u001b[0m preds \u001b[39m=\u001b[39m model\u001b[39m.\u001b[39mpredict(img_array)\n\u001b[0;32m     <a href='vscode-notebook-cell:/c%3A/Users/Zolkin/Documents/Master%20Studium%20Informatik/3.%20Semester/Advanced%20Deep%20Learning/Projekt/dl_faceRecognition/src/model.ipynb#X32sZmlsZQ%3D%3D?line=11'>12</a>\u001b[0m score \u001b[39m=\u001b[39m tf\u001b[39m.\u001b[39mnn\u001b[39m.\u001b[39msoftmax(preds[\u001b[39m0\u001b[39m])\n",
      "File \u001b[1;32mc:\\Users\\Zolkin\\anaconda3\\envs\\dl_faceRecognition\\lib\\site-packages\\keras\\applications\\resnet.py:507\u001b[0m, in \u001b[0;36mpreprocess_input\u001b[1;34m(x, data_format)\u001b[0m\n\u001b[0;32m    504\u001b[0m \u001b[39m@keras_export\u001b[39m(\u001b[39m'\u001b[39m\u001b[39mkeras.applications.resnet50.preprocess_input\u001b[39m\u001b[39m'\u001b[39m,\n\u001b[0;32m    505\u001b[0m               \u001b[39m'\u001b[39m\u001b[39mkeras.applications.resnet.preprocess_input\u001b[39m\u001b[39m'\u001b[39m)\n\u001b[0;32m    506\u001b[0m \u001b[39mdef\u001b[39;00m \u001b[39mpreprocess_input\u001b[39m(x, data_format\u001b[39m=\u001b[39m\u001b[39mNone\u001b[39;00m):\n\u001b[1;32m--> 507\u001b[0m   \u001b[39mreturn\u001b[39;00m imagenet_utils\u001b[39m.\u001b[39;49mpreprocess_input(\n\u001b[0;32m    508\u001b[0m       x, data_format\u001b[39m=\u001b[39;49mdata_format, mode\u001b[39m=\u001b[39;49m\u001b[39m'\u001b[39;49m\u001b[39mcaffe\u001b[39;49m\u001b[39m'\u001b[39;49m)\n",
      "File \u001b[1;32mc:\\Users\\Zolkin\\anaconda3\\envs\\dl_faceRecognition\\lib\\site-packages\\keras\\applications\\imagenet_utils.py:117\u001b[0m, in \u001b[0;36mpreprocess_input\u001b[1;34m(x, data_format, mode)\u001b[0m\n\u001b[0;32m    114\u001b[0m   \u001b[39mreturn\u001b[39;00m _preprocess_numpy_input(\n\u001b[0;32m    115\u001b[0m       x, data_format\u001b[39m=\u001b[39mdata_format, mode\u001b[39m=\u001b[39mmode)\n\u001b[0;32m    116\u001b[0m \u001b[39melse\u001b[39;00m:\n\u001b[1;32m--> 117\u001b[0m   \u001b[39mreturn\u001b[39;00m _preprocess_symbolic_input(\n\u001b[0;32m    118\u001b[0m       x, data_format\u001b[39m=\u001b[39;49mdata_format, mode\u001b[39m=\u001b[39;49mmode)\n",
      "File \u001b[1;32mc:\\Users\\Zolkin\\anaconda3\\envs\\dl_faceRecognition\\lib\\site-packages\\keras\\applications\\imagenet_utils.py:289\u001b[0m, in \u001b[0;36m_preprocess_symbolic_input\u001b[1;34m(x, data_format, mode)\u001b[0m\n\u001b[0;32m    286\u001b[0m   x \u001b[39m=\u001b[39m backend\u001b[39m.\u001b[39mbias_add(\n\u001b[0;32m    287\u001b[0m       x, backend\u001b[39m.\u001b[39mcast(mean_tensor, backend\u001b[39m.\u001b[39mdtype(x)), data_format\u001b[39m=\u001b[39mdata_format)\n\u001b[0;32m    288\u001b[0m \u001b[39melse\u001b[39;00m:\n\u001b[1;32m--> 289\u001b[0m   x \u001b[39m=\u001b[39m backend\u001b[39m.\u001b[39;49mbias_add(x, mean_tensor, data_format)\n\u001b[0;32m    290\u001b[0m \u001b[39mif\u001b[39;00m std \u001b[39mis\u001b[39;00m \u001b[39mnot\u001b[39;00m \u001b[39mNone\u001b[39;00m:\n\u001b[0;32m    291\u001b[0m   std_tensor \u001b[39m=\u001b[39m backend\u001b[39m.\u001b[39mconstant(np\u001b[39m.\u001b[39marray(std), dtype\u001b[39m=\u001b[39mbackend\u001b[39m.\u001b[39mdtype(x))\n",
      "File \u001b[1;32mc:\\Users\\Zolkin\\anaconda3\\envs\\dl_faceRecognition\\lib\\site-packages\\tensorflow\\python\\util\\traceback_utils.py:153\u001b[0m, in \u001b[0;36mfilter_traceback.<locals>.error_handler\u001b[1;34m(*args, **kwargs)\u001b[0m\n\u001b[0;32m    151\u001b[0m \u001b[39mexcept\u001b[39;00m \u001b[39mException\u001b[39;00m \u001b[39mas\u001b[39;00m e:\n\u001b[0;32m    152\u001b[0m   filtered_tb \u001b[39m=\u001b[39m _process_traceback_frames(e\u001b[39m.\u001b[39m__traceback__)\n\u001b[1;32m--> 153\u001b[0m   \u001b[39mraise\u001b[39;00m e\u001b[39m.\u001b[39mwith_traceback(filtered_tb) \u001b[39mfrom\u001b[39;00m \u001b[39mNone\u001b[39m\n\u001b[0;32m    154\u001b[0m \u001b[39mfinally\u001b[39;00m:\n\u001b[0;32m    155\u001b[0m   \u001b[39mdel\u001b[39;00m filtered_tb\n",
      "File \u001b[1;32mc:\\Users\\Zolkin\\anaconda3\\envs\\dl_faceRecognition\\lib\\site-packages\\keras\\layers\\core\\tf_op_layer.py:107\u001b[0m, in \u001b[0;36mKerasOpDispatcher.handle\u001b[1;34m(self, op, args, kwargs)\u001b[0m\n\u001b[0;32m    103\u001b[0m \u001b[39m\"\"\"Handle the specified operation with the specified arguments.\"\"\"\u001b[39;00m\n\u001b[0;32m    104\u001b[0m \u001b[39mif\u001b[39;00m \u001b[39many\u001b[39m(\n\u001b[0;32m    105\u001b[0m     \u001b[39misinstance\u001b[39m(x, keras_tensor\u001b[39m.\u001b[39mKerasTensor)\n\u001b[0;32m    106\u001b[0m     \u001b[39mfor\u001b[39;00m x \u001b[39min\u001b[39;00m tf\u001b[39m.\u001b[39mnest\u001b[39m.\u001b[39mflatten([args, kwargs])):\n\u001b[1;32m--> 107\u001b[0m   \u001b[39mreturn\u001b[39;00m TFOpLambda(op)(\u001b[39m*\u001b[39margs, \u001b[39m*\u001b[39m\u001b[39m*\u001b[39mkwargs)\n\u001b[0;32m    108\u001b[0m \u001b[39melse\u001b[39;00m:\n\u001b[0;32m    109\u001b[0m   \u001b[39mreturn\u001b[39;00m \u001b[39mself\u001b[39m\u001b[39m.\u001b[39mNOT_SUPPORTED\n",
      "File \u001b[1;32mc:\\Users\\Zolkin\\anaconda3\\envs\\dl_faceRecognition\\lib\\site-packages\\keras\\utils\\traceback_utils.py:67\u001b[0m, in \u001b[0;36mfilter_traceback.<locals>.error_handler\u001b[1;34m(*args, **kwargs)\u001b[0m\n\u001b[0;32m     65\u001b[0m \u001b[39mexcept\u001b[39;00m \u001b[39mException\u001b[39;00m \u001b[39mas\u001b[39;00m e:  \u001b[39m# pylint: disable=broad-except\u001b[39;00m\n\u001b[0;32m     66\u001b[0m   filtered_tb \u001b[39m=\u001b[39m _process_traceback_frames(e\u001b[39m.\u001b[39m__traceback__)\n\u001b[1;32m---> 67\u001b[0m   \u001b[39mraise\u001b[39;00m e\u001b[39m.\u001b[39mwith_traceback(filtered_tb) \u001b[39mfrom\u001b[39;00m \u001b[39mNone\u001b[39m\n\u001b[0;32m     68\u001b[0m \u001b[39mfinally\u001b[39;00m:\n\u001b[0;32m     69\u001b[0m   \u001b[39mdel\u001b[39;00m filtered_tb\n",
      "File \u001b[1;32mc:\\Users\\Zolkin\\anaconda3\\envs\\dl_faceRecognition\\lib\\site-packages\\keras\\backend.py:6365\u001b[0m, in \u001b[0;36mbias_add\u001b[1;34m(x, bias, data_format)\u001b[0m\n\u001b[0;32m   6363\u001b[0m   \u001b[39mif\u001b[39;00m data_format \u001b[39m==\u001b[39m \u001b[39m'\u001b[39m\u001b[39mchannels_first\u001b[39m\u001b[39m'\u001b[39m:\n\u001b[0;32m   6364\u001b[0m     \u001b[39mreturn\u001b[39;00m tf\u001b[39m.\u001b[39mnn\u001b[39m.\u001b[39mbias_add(x, bias, data_format\u001b[39m=\u001b[39m\u001b[39m'\u001b[39m\u001b[39mNCHW\u001b[39m\u001b[39m'\u001b[39m)\n\u001b[1;32m-> 6365\u001b[0m   \u001b[39mreturn\u001b[39;00m tf\u001b[39m.\u001b[39;49mnn\u001b[39m.\u001b[39;49mbias_add(x, bias, data_format\u001b[39m=\u001b[39;49m\u001b[39m'\u001b[39;49m\u001b[39mNHWC\u001b[39;49m\u001b[39m'\u001b[39;49m)\n\u001b[0;32m   6366\u001b[0m \u001b[39mif\u001b[39;00m ndim(x) \u001b[39min\u001b[39;00m (\u001b[39m3\u001b[39m, \u001b[39m4\u001b[39m, \u001b[39m5\u001b[39m):\n\u001b[0;32m   6367\u001b[0m   \u001b[39mif\u001b[39;00m data_format \u001b[39m==\u001b[39m \u001b[39m'\u001b[39m\u001b[39mchannels_first\u001b[39m\u001b[39m'\u001b[39m:\n",
      "\u001b[1;31mValueError\u001b[0m: Exception encountered when calling layer \"tf.keras.backend.bias_add_4\" (type TFOpLambda).\n\nDimensions must be equal, but are 2048 and 3 for '{{node tf.keras.backend.bias_add_4/BiasAdd}} = BiasAdd[T=DT_FLOAT, data_format=\"NHWC\"](Placeholder, tf.keras.backend.bias_add_4/BiasAdd/bias)' with input shapes: [?,2048], [3].\n\nCall arguments received by layer \"tf.keras.backend.bias_add_4\" (type TFOpLambda):\n  • x=tf.Tensor(shape=(None, 2048), dtype=float32)\n  • bias=tf.Tensor(shape=(3,), dtype=float32)\n  • data_format='channels_last'"
     ]
    }
   ],
   "source": [
    "# https://www.tensorflow.org/tutorials/images/classification\n",
    "\n",
    "img = tf.keras.utils.load_img(\n",
    "    '../data/test/FaceTest/nonFace_10.jpg', target_size=(image_height, image_width)\n",
    ")\n",
    "img_array = tf.keras.utils.img_to_array(img)\n",
    "img_array = tf.expand_dims(img_array, 0) # Create a batch\n",
    "\n",
    "#img_array = preprocess_input(x)\n",
    "\n",
    "preds = model.predict(img_array)\n",
    "score = tf.nn.softmax(preds[0])\n",
    "# decode the results into a list of tuples (class, description, probability)\n",
    "# (one such list for each sample in the batch)\n",
    "#print('Predicted:', tf.keras.applications.imagenet_utils.decode_predictions(preds)[0])\n",
    "\n",
    "print(\n",
    "    \"This image most likely belongs to {} with a {:.2f} percent confidence.\"\n",
    "    .format(class_names[np.argmax(score)], 100 * np.max(score))\n",
    ")"
   ]
  }
 ],
 "metadata": {
  "kernelspec": {
   "display_name": "Python 3.10.6 ('dl_faceRecognition')",
   "language": "python",
   "name": "python3"
  },
  "language_info": {
   "codemirror_mode": {
    "name": "ipython",
    "version": 3
   },
   "file_extension": ".py",
   "mimetype": "text/x-python",
   "name": "python",
   "nbconvert_exporter": "python",
   "pygments_lexer": "ipython3",
   "version": "3.9.13"
  },
  "orig_nbformat": 4,
  "vscode": {
   "interpreter": {
    "hash": "38bbd1b45095e1136595347f4fdc5f02eeae8a25a242cddf0296b5f64b31b328"
   }
  }
 },
 "nbformat": 4,
 "nbformat_minor": 2
}
