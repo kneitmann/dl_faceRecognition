{
 "cells": [
  {
   "cell_type": "code",
   "execution_count": 12,
   "metadata": {},
   "outputs": [],
   "source": [
    "import import_ipynb\n",
    "import numpy as np\n",
    "import glob\n",
    "import matplotlib.pyplot as plt\n",
    "import datetime\n",
    "\n",
    "# Tensorflow imports\n",
    "import tensorflow as tf\n",
    "from tensorflow import keras\n",
    "from tensorflow.keras.applications.resnet50 import ResNet50\n",
    "from tensorflow.keras.applications.resnet50 import preprocess_input, decode_predictions"
   ]
  },
  {
   "cell_type": "markdown",
   "metadata": {},
   "source": [
    "## Model parameters"
   ]
  },
  {
   "cell_type": "code",
   "execution_count": 13,
   "metadata": {},
   "outputs": [],
   "source": [
    "batch_size = 32\n",
    "class_names = ['FaceOnly', 'NoFace']"
   ]
  },
  {
   "cell_type": "markdown",
   "metadata": {},
   "source": [
    "## Model callbacks"
   ]
  },
  {
   "cell_type": "code",
   "execution_count": 14,
   "metadata": {},
   "outputs": [],
   "source": [
    "tb_log_dir = \"../log/tensorboard/\" + datetime.datetime.now().strftime(\"%Y%m%d-%H%M%S\")\n",
    "cp_filepath = '../log/cps/{model.name}_cp_{epoch}'\n",
    "\n",
    "callbacks = [\n",
    "    keras.callbacks.ModelCheckpoint(                        \n",
    "                        filepath=cp_filepath, \n",
    "                        verbose=1, \n",
    "                        save_weights_only=False,\n",
    "                        save_freq=5*batch_size), # Checkpoint is saved every five epochs\n",
    "                        tf.keras.callbacks.TensorBoard(log_dir=tb_log_dir, histogram_freq=1)\n",
    "]"
   ]
  },
  {
   "cell_type": "markdown",
   "metadata": {},
   "source": [
    "## Data parameters"
   ]
  },
  {
   "cell_type": "code",
   "execution_count": 15,
   "metadata": {},
   "outputs": [],
   "source": [
    "image_height = 224\n",
    "image_width = 224"
   ]
  },
  {
   "cell_type": "markdown",
   "metadata": {},
   "source": [
    "## Creating the training dataset"
   ]
  },
  {
   "cell_type": "code",
   "execution_count": 16,
   "metadata": {},
   "outputs": [
    {
     "name": "stdout",
     "output_type": "stream",
     "text": [
      "Found 28 files belonging to 2 classes.\n",
      "Using 23 files for training.\n"
     ]
    },
    {
     "data": {
      "text/plain": [
       "<PrefetchDataset element_spec=(TensorSpec(shape=(None, None, 224, 224, 3), dtype=tf.float32, name=None), TensorSpec(shape=(None, None, 2), dtype=tf.float32, name=None))>"
      ]
     },
     "execution_count": 16,
     "metadata": {},
     "output_type": "execute_result"
    }
   ],
   "source": [
    "face_training_ds = keras.utils.image_dataset_from_directory(\n",
    "    \"../data/training/\",\n",
    "    labels='inferred',\n",
    "    label_mode='categorical',\n",
    "    class_names=class_names,\n",
    "    color_mode='rgb',\n",
    "    batch_size=batch_size,\n",
    "    image_size=(image_height, image_width),\n",
    "    shuffle=True,\n",
    "    seed=123,\n",
    "    validation_split=0.2,\n",
    "    subset='training',\n",
    "    interpolation='bilinear',\n",
    "    follow_links=False,\n",
    "    crop_to_aspect_ratio=True,\n",
    ")\n",
    "\n",
    "# normalization_layer = keras.layers.Rescaling(1./255)\n",
    "# face_training_ds = face_training_ds.map(lambda x, y: (normalization_layer(x), y))\n",
    "face_training_ds.cache().batch(batch_size).prefetch(buffer_size=10)"
   ]
  },
  {
   "cell_type": "markdown",
   "metadata": {},
   "source": [
    "## Creating the validation dataset"
   ]
  },
  {
   "cell_type": "code",
   "execution_count": 17,
   "metadata": {},
   "outputs": [
    {
     "name": "stdout",
     "output_type": "stream",
     "text": [
      "Found 28 files belonging to 2 classes.\n",
      "Using 5 files for validation.\n"
     ]
    }
   ],
   "source": [
    "validation_ds = keras.utils.image_dataset_from_directory(\n",
    "    \"../data/training/\",\n",
    "    labels='inferred',\n",
    "    label_mode='categorical',\n",
    "    class_names=class_names,\n",
    "    color_mode='rgb',\n",
    "    batch_size=batch_size,\n",
    "    image_size=(image_height, image_width),\n",
    "    shuffle=True,\n",
    "    seed=123,\n",
    "    validation_split=0.2,\n",
    "    subset='validation',\n",
    "    interpolation='bilinear',\n",
    "    follow_links=False,\n",
    "    crop_to_aspect_ratio=True,\n",
    ")\n",
    "# validation_ds = validation_ds.map(lambda x, y: (normalization_layer(x), y))"
   ]
  },
  {
   "cell_type": "markdown",
   "metadata": {},
   "source": [
    "## Creating the test dataset"
   ]
  },
  {
   "cell_type": "code",
   "execution_count": 18,
   "metadata": {},
   "outputs": [],
   "source": [
    "test_ds = []"
   ]
  },
  {
   "cell_type": "markdown",
   "metadata": {},
   "source": [
    "## Load the base model"
   ]
  },
  {
   "cell_type": "code",
   "execution_count": 19,
   "metadata": {},
   "outputs": [],
   "source": [
    "# Loading either the ResNet50 architecture model or the previously saved model, and freeze it for transfer learning\n",
    "base_model = ResNet50(\n",
    "                include_top=False,\n",
    "                weights='imagenet',  # Load weights pre-trained on ImageNet.\n",
    "                input_shape=(image_height, image_width, 3)\n",
    "                )\n",
    "base_model.trainable = False"
   ]
  },
  {
   "cell_type": "markdown",
   "metadata": {},
   "source": [
    "## Creating a new model"
   ]
  },
  {
   "cell_type": "code",
   "execution_count": 20,
   "metadata": {},
   "outputs": [],
   "source": [
    "inputs = keras.Input(shape=(image_height, image_width, 3))\n",
    "\n",
    "# Running base model in inference mode\n",
    "x = base_model(inputs, training=False)\n",
    "\n",
    "# Convert features of shape `base_model.output_shape[1:]` to vectors\n",
    "x = keras.layers.GlobalAveragePooling2D()(x)\n",
    "\n",
    "# Fully connected layer\n",
    "x = keras.layers.Dense(1024, activation='relu')(x)\n",
    "\n",
    "# Final layer for binary classification\n",
    "outputs = keras.layers.Dense(2, activation='softmax')(x)\n",
    "\n",
    "model = keras.Model(inputs, outputs)"
   ]
  },
  {
   "cell_type": "markdown",
   "metadata": {},
   "source": [
    "## Training the new model with new data"
   ]
  },
  {
   "cell_type": "code",
   "execution_count": 21,
   "metadata": {},
   "outputs": [
    {
     "name": "stdout",
     "output_type": "stream",
     "text": [
      "Epoch 1/10\n",
      "1/1 [==============================] - 23s 23s/step - loss: 0.6801 - accuracy: 0.5217 - val_loss: 1.9147 - val_accuracy: 0.6000\n",
      "Epoch 2/10\n",
      "1/1 [==============================] - 10s 10s/step - loss: 2.7965 - accuracy: 0.4783 - val_loss: 0.5116 - val_accuracy: 0.8000\n",
      "Epoch 3/10\n",
      "1/1 [==============================] - 10s 10s/step - loss: 0.7768 - accuracy: 0.5217 - val_loss: 2.1280 - val_accuracy: 0.4000\n",
      "Epoch 4/10\n",
      "1/1 [==============================] - 10s 10s/step - loss: 1.7299 - accuracy: 0.5217 - val_loss: 2.5008 - val_accuracy: 0.4000\n",
      "Epoch 5/10\n",
      "1/1 [==============================] - 10s 10s/step - loss: 2.0229 - accuracy: 0.5217 - val_loss: 1.7759 - val_accuracy: 0.4000\n",
      "Epoch 6/10\n",
      "1/1 [==============================] - 10s 10s/step - loss: 1.4529 - accuracy: 0.5217 - val_loss: 0.7169 - val_accuracy: 0.4000\n",
      "Epoch 7/10\n",
      "1/1 [==============================] - 9s 9s/step - loss: 0.6779 - accuracy: 0.5217 - val_loss: 0.4779 - val_accuracy: 0.8000\n",
      "Epoch 8/10\n",
      "1/1 [==============================] - 10s 10s/step - loss: 0.8176 - accuracy: 0.5217 - val_loss: 0.6683 - val_accuracy: 0.8000\n",
      "Epoch 9/10\n",
      "1/1 [==============================] - 9s 9s/step - loss: 1.2388 - accuracy: 0.5217 - val_loss: 0.6472 - val_accuracy: 0.8000\n",
      "Epoch 10/10\n",
      "1/1 [==============================] - 9s 9s/step - loss: 1.2124 - accuracy: 0.5217 - val_loss: 0.4858 - val_accuracy: 0.8000\n"
     ]
    }
   ],
   "source": [
    "model.compile(optimizer=keras.optimizers.Adam(),\n",
    "              loss=keras.losses.CategoricalCrossentropy(),\n",
    "              metrics=['accuracy'])\n",
    "history = model.fit(\n",
    "            face_training_ds, \n",
    "            epochs=10, \n",
    "            callbacks=callbacks, \n",
    "            validation_data=validation_ds\n",
    "        )"
   ]
  },
  {
   "cell_type": "markdown",
   "metadata": {},
   "source": [
    "## View Results"
   ]
  },
  {
   "cell_type": "markdown",
   "metadata": {},
   "source": [
    "## Predict new images"
   ]
  },
  {
   "cell_type": "code",
   "execution_count": 22,
   "metadata": {},
   "outputs": [
    {
     "name": "stdout",
     "output_type": "stream",
     "text": [
      "1/1 [==============================] - 2s 2s/step\n",
      "This image most likely belongs to NoFace with a 99.99 percent confidence.\n"
     ]
    }
   ],
   "source": [
    "# https://www.tensorflow.org/tutorials/images/classification\n",
    "\n",
    "img = tf.keras.utils.load_img(\n",
    "    '../data/test/FaceTest/nonFace_10.jpg', target_size=(image_height, image_width)\n",
    ")\n",
    "img_array = tf.keras.utils.img_to_array(img)\n",
    "img_array = tf.expand_dims(img_array, 0) # Create a batch\n",
    "\n",
    "#img_array = preprocess_input(x)\n",
    "\n",
    "preds = model.predict(img_array)\n",
    "#print('Predicted:', decode_predictions(preds, top=3)[0])\n",
    "\n",
    "print(\n",
    "    \"This image most likely belongs to {} with a {:.2f} percent confidence.\"\n",
    "    .format(class_names[np.argmax(preds[0])], 100 * np.max(preds[0]))\n",
    ")"
   ]
  }
 ],
 "metadata": {
  "kernelspec": {
   "display_name": "Python 3.9.13 ('tensorflow_env')",
   "language": "python",
   "name": "python3"
  },
  "language_info": {
   "codemirror_mode": {
    "name": "ipython",
    "version": 3
   },
   "file_extension": ".py",
   "mimetype": "text/x-python",
   "name": "python",
   "nbconvert_exporter": "python",
   "pygments_lexer": "ipython3",
   "version": "3.9.13"
  },
  "orig_nbformat": 4,
  "vscode": {
   "interpreter": {
    "hash": "9db27a884dcbb88570b399c40aec4b1067ba94a1c848619f750f7494e6f7e360"
   }
  }
 },
 "nbformat": 4,
 "nbformat_minor": 2
}
