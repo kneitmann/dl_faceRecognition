{
 "cells": [
  {
   "cell_type": "code",
   "execution_count": null,
   "metadata": {},
   "outputs": [],
   "source": [
    "import unittest\n",
    "from unittest import *\n",
    "import import_ipynb\n",
    "import glob\n",
    "from ipynb.fs.full.LoadImages import loadImage"
   ]
  },
  {
   "cell_type": "markdown",
   "metadata": {},
   "source": [
    "Testcases. \n",
    "Its important that the functionname start with \"test\" to be considered as unittest."
   ]
  },
  {
   "cell_type": "code",
   "execution_count": null,
   "metadata": {},
   "outputs": [],
   "source": [
    "from pickle import EMPTY_LIST\n",
    "\n",
    "\n",
    "class MetaTest(unittest.TestCase):\n",
    "    def test_right1(self):\n",
    "        self.assertEqual('dsf', 'dsf')\n",
    "\n",
    "    def test_false1(self):\n",
    "        self.assertNotEqual('dsf', 'dsd')\n",
    "\n",
    "class LoadPicturesTest(unittest.TestCase):      \n",
    "    def test_loadEmptyList(self):\n",
    "        self.assertEqual([], loadImage('src/*.png'))"
   ]
  },
  {
   "cell_type": "markdown",
   "metadata": {},
   "source": [
    "Testing the test file itself"
   ]
  },
  {
   "cell_type": "code",
   "execution_count": null,
   "metadata": {},
   "outputs": [],
   "source": [
    "suiteA = unittest.TestLoader().loadTestsFromTestCase(MetaTest)\n",
    "suiteA.addTest(unittest.TestLoader().loadTestsFromTestCase(LoadPicturesTest))\n",
    "unittest.TextTestRunner(verbosity=4,stream=sys.stderr).run(suiteA)\n",
    "\n"
   ]
  }
 ],
 "metadata": {
  "kernelspec": {
   "display_name": "Python 3.9.13 ('tensorflow_env')",
   "language": "python",
   "name": "python3"
  },
  "language_info": {
   "codemirror_mode": {
    "name": "ipython",
    "version": 3
   },
   "file_extension": ".py",
   "mimetype": "text/x-python",
   "name": "python",
   "nbconvert_exporter": "python",
   "pygments_lexer": "ipython3",
   "version": "3.9.13"
  },
  "orig_nbformat": 4,
  "vscode": {
   "interpreter": {
    "hash": "9db27a884dcbb88570b399c40aec4b1067ba94a1c848619f750f7494e6f7e360"
   }
  }
 },
 "nbformat": 4,
 "nbformat_minor": 2
}
